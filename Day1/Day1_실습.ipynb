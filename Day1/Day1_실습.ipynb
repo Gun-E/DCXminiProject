{
 "cells": [
  {
   "cell_type": "markdown",
   "source": "![u](img.png)",
   "metadata": {
    "id": "CLzC_m5YdhKw"
   }
  },
  {
   "cell_type": "markdown",
   "metadata": {
    "id": "HRtgHuVrWIRU"
   },
   "source": [
    "##### 샘플 데이터"
   ]
  },
  {
   "cell_type": "code",
   "metadata": {
    "scrolled": true,
    "id": "f4dlxQ0qWIRW",
    "executionInfo": {
     "status": "ok",
     "timestamp": 1722921109475,
     "user_tz": -540,
     "elapsed": 3,
     "user": {
      "displayName": "송효진",
      "userId": "08203763834765793541"
     }
    },
    "ExecuteTime": {
     "end_time": "2024-08-06T06:48:04.582881Z",
     "start_time": "2024-08-06T06:48:03.594681Z"
    }
   },
   "source": [
    "import pandas as pd\n",
    "# numpy : 숫자 수치 나타내거나 계산\n",
    "# import numpy as np"
   ],
   "outputs": [],
   "execution_count": 1
  },
  {
   "cell_type": "code",
   "metadata": {
    "colab": {
     "base_uri": "https://localhost:8080/",
     "height": 275
    },
    "id": "TQJX_XVvWIRX",
    "executionInfo": {
     "status": "ok",
     "timestamp": 1722921110707,
     "user_tz": -540,
     "elapsed": 1235,
     "user": {
      "displayName": "송효진",
      "userId": "08203763834765793541"
     }
    },
    "outputId": "4a1df069-0260-44a5-ca3d-8a1b65f6e627",
    "ExecuteTime": {
     "end_time": "2024-08-06T06:48:04.628130Z",
     "start_time": "2024-08-06T06:48:04.584877Z"
    }
   },
   "source": [
    "df=pd.read_csv(\"한글크롤링.csv\")\n",
    "df.head()"
   ],
   "outputs": [
    {
     "data": {
      "text/plain": [
       "           Date            Name  Score  \\\n",
       "0  2020년 1월 24일             홍현주      3   \n",
       "1   2020년 1월 7일              쌤쌤      3   \n",
       "2   2020년 1월 8일    Nicholas Jun      1   \n",
       "3  2020년 1월 24일        Hong KIM      1   \n",
       "4  2020년 1월 22일  byung-hyun cho      3   \n",
       "\n",
       "                                              Review  like  \n",
       "0  시스템에어컨 5대 연결해서 원격제어로 사용중입니다. 에어컨 기능은 공기청정기능까지 ...     2  \n",
       "1  인덕션 제어용으로 사용하려고 하는데 끄는 전용인건 좋은데 원격제어기능이 계속 꺼져야...     0  \n",
       "2  위례 사는 신혼 부부입니다. TV랑 공기청정기는 잘 연동시켰습니다. 오래 걸리지도 ...     0  \n",
       "3  세탁기 된다고 해서 연결했는데 놀라울 정도로 세상 쓰레기에요. 연결은 번거롭고 사용...     0  \n",
       "4  건조완료후 에어리플레쉬를 원격으로도 추가할 수 있도록 건조완료후 원격제어를 off하...     0  "
      ],
      "text/html": [
       "<div>\n",
       "<style scoped>\n",
       "    .dataframe tbody tr th:only-of-type {\n",
       "        vertical-align: middle;\n",
       "    }\n",
       "\n",
       "    .dataframe tbody tr th {\n",
       "        vertical-align: top;\n",
       "    }\n",
       "\n",
       "    .dataframe thead th {\n",
       "        text-align: right;\n",
       "    }\n",
       "</style>\n",
       "<table border=\"1\" class=\"dataframe\">\n",
       "  <thead>\n",
       "    <tr style=\"text-align: right;\">\n",
       "      <th></th>\n",
       "      <th>Date</th>\n",
       "      <th>Name</th>\n",
       "      <th>Score</th>\n",
       "      <th>Review</th>\n",
       "      <th>like</th>\n",
       "    </tr>\n",
       "  </thead>\n",
       "  <tbody>\n",
       "    <tr>\n",
       "      <th>0</th>\n",
       "      <td>2020년 1월 24일</td>\n",
       "      <td>홍현주</td>\n",
       "      <td>3</td>\n",
       "      <td>시스템에어컨 5대 연결해서 원격제어로 사용중입니다. 에어컨 기능은 공기청정기능까지 ...</td>\n",
       "      <td>2</td>\n",
       "    </tr>\n",
       "    <tr>\n",
       "      <th>1</th>\n",
       "      <td>2020년 1월 7일</td>\n",
       "      <td>쌤쌤</td>\n",
       "      <td>3</td>\n",
       "      <td>인덕션 제어용으로 사용하려고 하는데 끄는 전용인건 좋은데 원격제어기능이 계속 꺼져야...</td>\n",
       "      <td>0</td>\n",
       "    </tr>\n",
       "    <tr>\n",
       "      <th>2</th>\n",
       "      <td>2020년 1월 8일</td>\n",
       "      <td>Nicholas Jun</td>\n",
       "      <td>1</td>\n",
       "      <td>위례 사는 신혼 부부입니다. TV랑 공기청정기는 잘 연동시켰습니다. 오래 걸리지도 ...</td>\n",
       "      <td>0</td>\n",
       "    </tr>\n",
       "    <tr>\n",
       "      <th>3</th>\n",
       "      <td>2020년 1월 24일</td>\n",
       "      <td>Hong KIM</td>\n",
       "      <td>1</td>\n",
       "      <td>세탁기 된다고 해서 연결했는데 놀라울 정도로 세상 쓰레기에요. 연결은 번거롭고 사용...</td>\n",
       "      <td>0</td>\n",
       "    </tr>\n",
       "    <tr>\n",
       "      <th>4</th>\n",
       "      <td>2020년 1월 22일</td>\n",
       "      <td>byung-hyun cho</td>\n",
       "      <td>3</td>\n",
       "      <td>건조완료후 에어리플레쉬를 원격으로도 추가할 수 있도록 건조완료후 원격제어를 off하...</td>\n",
       "      <td>0</td>\n",
       "    </tr>\n",
       "  </tbody>\n",
       "</table>\n",
       "</div>"
      ]
     },
     "execution_count": 2,
     "metadata": {},
     "output_type": "execute_result"
    }
   ],
   "execution_count": 2
  },
  {
   "cell_type": "markdown",
   "metadata": {
    "id": "VAr1zhA_WIRX"
   },
   "source": [
    "# ◆ 1. 데이터 전처리하기\n",
    "* 1.1. 특수문자 및 숫자 제거\n",
    "* 1.2. 의미없는 짧은 글 제거"
   ]
  },
  {
   "cell_type": "markdown",
   "metadata": {
    "id": "uxNtoZf0WIRY"
   },
   "source": [
    "### 1.1. 특수문자 및 숫자 제거\n",
    "    *정규표현식 사용"
   ]
  },
  {
   "cell_type": "code",
   "metadata": {
    "id": "QGcrB6vHWIRY",
    "executionInfo": {
     "status": "ok",
     "timestamp": 1722921110708,
     "user_tz": -540,
     "elapsed": 14,
     "user": {
      "displayName": "송효진",
      "userId": "08203763834765793541"
     }
    },
    "ExecuteTime": {
     "end_time": "2024-08-06T06:48:04.642282Z",
     "start_time": "2024-08-06T06:48:04.629413Z"
    }
   },
   "source": [
    "import re\n",
    "from tqdm import tqdm"
   ],
   "outputs": [],
   "execution_count": 3
  },
  {
   "cell_type": "code",
   "source": [
    "# r : 특수기호를 문자로 인식[\\\\s] -> [\\s]\n",
    "# s = 공백 / ^ = not"
   ],
   "metadata": {
    "id": "p4bXoLYyhVyX",
    "executionInfo": {
     "status": "ok",
     "timestamp": 1722921110708,
     "user_tz": -540,
     "elapsed": 13,
     "user": {
      "displayName": "송효진",
      "userId": "08203763834765793541"
     }
    },
    "ExecuteTime": {
     "end_time": "2024-08-06T06:48:04.648192Z",
     "start_time": "2024-08-06T06:48:04.643281Z"
    }
   },
   "outputs": [],
   "execution_count": 4
  },
  {
   "cell_type": "code",
   "metadata": {
    "id": "WabGmykPWIRY",
    "executionInfo": {
     "status": "ok",
     "timestamp": 1722921110708,
     "user_tz": -540,
     "elapsed": 13,
     "user": {
      "displayName": "송효진",
      "userId": "08203763834765793541"
     }
    },
    "ExecuteTime": {
     "end_time": "2024-08-06T06:48:04.655792Z",
     "start_time": "2024-08-06T06:48:04.651201Z"
    }
   },
   "source": [
    "# 알파벳, 숫자, 공백, 한글 문자를 제외한 나머지를 제거\n",
    "# 리뷰가 길어지는 경우 문장 구분을 위해 .?! 보존\n",
    "pattern = r'[^a-zA-Z0-9가-힣\\s\\.\\?\\!]'"
   ],
   "outputs": [],
   "execution_count": 5
  },
  {
   "cell_type": "code",
   "source": [
    "new_review = [] # 클렌징한 리뷰가 담길 리스트\n",
    "\n",
    "for r in tqdm(df.Review):\n",
    "  text = re.sub(pattern,\"\",r)\n",
    "  new_review.append(text)\n",
    "\n",
    "df['Review_clean'] = new_review"
   ],
   "metadata": {
    "colab": {
     "base_uri": "https://localhost:8080/"
    },
    "id": "vffEJtDrhWw2",
    "executionInfo": {
     "status": "ok",
     "timestamp": 1722921110708,
     "user_tz": -540,
     "elapsed": 12,
     "user": {
      "displayName": "송효진",
      "userId": "08203763834765793541"
     }
    },
    "outputId": "85640bac-6a48-4257-809b-0911e28e12b2",
    "ExecuteTime": {
     "end_time": "2024-08-06T06:48:04.688990Z",
     "start_time": "2024-08-06T06:48:04.656791Z"
    }
   },
   "outputs": [
    {
     "name": "stderr",
     "output_type": "stream",
     "text": [
      "100%|██████████| 6280/6280 [00:00<00:00, 646021.37it/s]\n"
     ]
    }
   ],
   "execution_count": 6
  },
  {
   "cell_type": "code",
   "source": [
    "df.head()"
   ],
   "metadata": {
    "colab": {
     "base_uri": "https://localhost:8080/",
     "height": 310
    },
    "collapsed": true,
    "id": "lEUvmxtviUum",
    "executionInfo": {
     "status": "ok",
     "timestamp": 1722921110709,
     "user_tz": -540,
     "elapsed": 10,
     "user": {
      "displayName": "송효진",
      "userId": "08203763834765793541"
     }
    },
    "outputId": "9fdaa592-2661-4c61-cc37-f415738e04be",
    "ExecuteTime": {
     "end_time": "2024-08-06T06:48:04.699423Z",
     "start_time": "2024-08-06T06:48:04.689989Z"
    }
   },
   "outputs": [
    {
     "data": {
      "text/plain": [
       "           Date            Name  Score  \\\n",
       "0  2020년 1월 24일             홍현주      3   \n",
       "1   2020년 1월 7일              쌤쌤      3   \n",
       "2   2020년 1월 8일    Nicholas Jun      1   \n",
       "3  2020년 1월 24일        Hong KIM      1   \n",
       "4  2020년 1월 22일  byung-hyun cho      3   \n",
       "\n",
       "                                              Review  like  \\\n",
       "0  시스템에어컨 5대 연결해서 원격제어로 사용중입니다. 에어컨 기능은 공기청정기능까지 ...     2   \n",
       "1  인덕션 제어용으로 사용하려고 하는데 끄는 전용인건 좋은데 원격제어기능이 계속 꺼져야...     0   \n",
       "2  위례 사는 신혼 부부입니다. TV랑 공기청정기는 잘 연동시켰습니다. 오래 걸리지도 ...     0   \n",
       "3  세탁기 된다고 해서 연결했는데 놀라울 정도로 세상 쓰레기에요. 연결은 번거롭고 사용...     0   \n",
       "4  건조완료후 에어리플레쉬를 원격으로도 추가할 수 있도록 건조완료후 원격제어를 off하...     0   \n",
       "\n",
       "                                        Review_clean  \n",
       "0  시스템에어컨 5대 연결해서 원격제어로 사용중입니다. 에어컨 기능은 공기청정기능까지 ...  \n",
       "1  인덕션 제어용으로 사용하려고 하는데 끄는 전용인건 좋은데 원격제어기능이 계속 꺼져야...  \n",
       "2  위례 사는 신혼 부부입니다. TV랑 공기청정기는 잘 연동시켰습니다. 오래 걸리지도 ...  \n",
       "3  세탁기 된다고 해서 연결했는데 놀라울 정도로 세상 쓰레기에요. 연결은 번거롭고 사용...  \n",
       "4  건조완료후 에어리플레쉬를 원격으로도 추가할 수 있도록 건조완료후 원격제어를 off하...  "
      ],
      "text/html": [
       "<div>\n",
       "<style scoped>\n",
       "    .dataframe tbody tr th:only-of-type {\n",
       "        vertical-align: middle;\n",
       "    }\n",
       "\n",
       "    .dataframe tbody tr th {\n",
       "        vertical-align: top;\n",
       "    }\n",
       "\n",
       "    .dataframe thead th {\n",
       "        text-align: right;\n",
       "    }\n",
       "</style>\n",
       "<table border=\"1\" class=\"dataframe\">\n",
       "  <thead>\n",
       "    <tr style=\"text-align: right;\">\n",
       "      <th></th>\n",
       "      <th>Date</th>\n",
       "      <th>Name</th>\n",
       "      <th>Score</th>\n",
       "      <th>Review</th>\n",
       "      <th>like</th>\n",
       "      <th>Review_clean</th>\n",
       "    </tr>\n",
       "  </thead>\n",
       "  <tbody>\n",
       "    <tr>\n",
       "      <th>0</th>\n",
       "      <td>2020년 1월 24일</td>\n",
       "      <td>홍현주</td>\n",
       "      <td>3</td>\n",
       "      <td>시스템에어컨 5대 연결해서 원격제어로 사용중입니다. 에어컨 기능은 공기청정기능까지 ...</td>\n",
       "      <td>2</td>\n",
       "      <td>시스템에어컨 5대 연결해서 원격제어로 사용중입니다. 에어컨 기능은 공기청정기능까지 ...</td>\n",
       "    </tr>\n",
       "    <tr>\n",
       "      <th>1</th>\n",
       "      <td>2020년 1월 7일</td>\n",
       "      <td>쌤쌤</td>\n",
       "      <td>3</td>\n",
       "      <td>인덕션 제어용으로 사용하려고 하는데 끄는 전용인건 좋은데 원격제어기능이 계속 꺼져야...</td>\n",
       "      <td>0</td>\n",
       "      <td>인덕션 제어용으로 사용하려고 하는데 끄는 전용인건 좋은데 원격제어기능이 계속 꺼져야...</td>\n",
       "    </tr>\n",
       "    <tr>\n",
       "      <th>2</th>\n",
       "      <td>2020년 1월 8일</td>\n",
       "      <td>Nicholas Jun</td>\n",
       "      <td>1</td>\n",
       "      <td>위례 사는 신혼 부부입니다. TV랑 공기청정기는 잘 연동시켰습니다. 오래 걸리지도 ...</td>\n",
       "      <td>0</td>\n",
       "      <td>위례 사는 신혼 부부입니다. TV랑 공기청정기는 잘 연동시켰습니다. 오래 걸리지도 ...</td>\n",
       "    </tr>\n",
       "    <tr>\n",
       "      <th>3</th>\n",
       "      <td>2020년 1월 24일</td>\n",
       "      <td>Hong KIM</td>\n",
       "      <td>1</td>\n",
       "      <td>세탁기 된다고 해서 연결했는데 놀라울 정도로 세상 쓰레기에요. 연결은 번거롭고 사용...</td>\n",
       "      <td>0</td>\n",
       "      <td>세탁기 된다고 해서 연결했는데 놀라울 정도로 세상 쓰레기에요. 연결은 번거롭고 사용...</td>\n",
       "    </tr>\n",
       "    <tr>\n",
       "      <th>4</th>\n",
       "      <td>2020년 1월 22일</td>\n",
       "      <td>byung-hyun cho</td>\n",
       "      <td>3</td>\n",
       "      <td>건조완료후 에어리플레쉬를 원격으로도 추가할 수 있도록 건조완료후 원격제어를 off하...</td>\n",
       "      <td>0</td>\n",
       "      <td>건조완료후 에어리플레쉬를 원격으로도 추가할 수 있도록 건조완료후 원격제어를 off하...</td>\n",
       "    </tr>\n",
       "  </tbody>\n",
       "</table>\n",
       "</div>"
      ]
     },
     "execution_count": 7,
     "metadata": {},
     "output_type": "execute_result"
    }
   ],
   "execution_count": 7
  },
  {
   "cell_type": "markdown",
   "metadata": {
    "id": "aEUO8s3kWIRY"
   },
   "source": [
    "### 1.2. 의미없는 짧은 글 제거"
   ]
  },
  {
   "cell_type": "code",
   "source": [
    "# enumerate : 데이터와 데이터 위치값(인덱스값)도 함께 꺼내준다."
   ],
   "metadata": {
    "id": "jO63zgV4i0uE",
    "executionInfo": {
     "status": "ok",
     "timestamp": 1722921110709,
     "user_tz": -540,
     "elapsed": 9,
     "user": {
      "displayName": "송효진",
      "userId": "08203763834765793541"
     }
    },
    "ExecuteTime": {
     "end_time": "2024-08-06T06:48:04.705188Z",
     "start_time": "2024-08-06T06:48:04.700421Z"
    }
   },
   "outputs": [],
   "execution_count": 8
  },
  {
   "cell_type": "code",
   "metadata": {
    "colab": {
     "base_uri": "https://localhost:8080/"
    },
    "id": "_4cJ1muoWIRY",
    "executionInfo": {
     "status": "ok",
     "timestamp": 1722921115087,
     "user_tz": -540,
     "elapsed": 4386,
     "user": {
      "displayName": "송효진",
      "userId": "08203763834765793541"
     }
    },
    "outputId": "56dab20c-aab2-4716-9210-769a495a6ab5",
    "ExecuteTime": {
     "end_time": "2024-08-06T06:48:05.537409Z",
     "start_time": "2024-08-06T06:48:04.706186Z"
    }
   },
   "source": [
    "# 길이가 10글자 미만이면 삭제\n",
    "for i, review in enumerate(tqdm(df.Review_clean)):\n",
    "  if len(review) < 10:\n",
    "    df = df.drop(i)"
   ],
   "outputs": [
    {
     "name": "stderr",
     "output_type": "stream",
     "text": [
      "100%|██████████| 6280/6280 [00:00<00:00, 7633.39it/s] \n"
     ]
    }
   ],
   "execution_count": 9
  },
  {
   "cell_type": "code",
   "source": [
    "df"
   ],
   "metadata": {
    "colab": {
     "base_uri": "https://localhost:8080/",
     "height": 666
    },
    "collapsed": true,
    "id": "iNibtXKEj_mj",
    "executionInfo": {
     "status": "ok",
     "timestamp": 1722921115087,
     "user_tz": -540,
     "elapsed": 5,
     "user": {
      "displayName": "송효진",
      "userId": "08203763834765793541"
     }
    },
    "outputId": "268cd4ba-f3ac-4b4a-c423-5327f97ab7bd",
    "ExecuteTime": {
     "end_time": "2024-08-06T06:48:05.546779Z",
     "start_time": "2024-08-06T06:48:05.538512Z"
    }
   },
   "outputs": [
    {
     "data": {
      "text/plain": [
       "               Date            Name  Score  \\\n",
       "0      2020년 1월 24일             홍현주      3   \n",
       "1       2020년 1월 7일              쌤쌤      3   \n",
       "2       2020년 1월 8일    Nicholas Jun      1   \n",
       "3      2020년 1월 24일        Hong KIM      1   \n",
       "4      2020년 1월 22일  byung-hyun cho      3   \n",
       "...             ...             ...    ...   \n",
       "6233   2018년 7월 13일    KoonSeok Lee      5   \n",
       "6234   2017년 9월 24일      Google 사용자      5   \n",
       "6235    2018년 3월 1일            헤이헤이      5   \n",
       "6242   2017년 1월 10일      Google 사용자      5   \n",
       "6244  2017년 10월 29일              쁘몌      3   \n",
       "\n",
       "                                                 Review  like  \\\n",
       "0     시스템에어컨 5대 연결해서 원격제어로 사용중입니다. 에어컨 기능은 공기청정기능까지 ...     2   \n",
       "1     인덕션 제어용으로 사용하려고 하는데 끄는 전용인건 좋은데 원격제어기능이 계속 꺼져야...     0   \n",
       "2     위례 사는 신혼 부부입니다. TV랑 공기청정기는 잘 연동시켰습니다. 오래 걸리지도 ...     0   \n",
       "3     세탁기 된다고 해서 연결했는데 놀라울 정도로 세상 쓰레기에요. 연결은 번거롭고 사용...     0   \n",
       "4     건조완료후 에어리플레쉬를 원격으로도 추가할 수 있도록 건조완료후 원격제어를 off하...     0   \n",
       "...                                                 ...   ...   \n",
       "6233                                    센서를 너무 잘 쓰고 있어요     0   \n",
       "6234                             짱!! 밖에 나가도 되니까 진짜 좋아요!     0   \n",
       "6235                                        센서 사용이 신기해요     0   \n",
       "6242           제가 이거 다운받았는데 돼요!!!^^이 앱 만드신 제작자님!힘네세요!!!     0   \n",
       "6244                                      엄..엘쥐만 되는건가요?     0   \n",
       "\n",
       "                                           Review_clean  \n",
       "0     시스템에어컨 5대 연결해서 원격제어로 사용중입니다. 에어컨 기능은 공기청정기능까지 ...  \n",
       "1     인덕션 제어용으로 사용하려고 하는데 끄는 전용인건 좋은데 원격제어기능이 계속 꺼져야...  \n",
       "2     위례 사는 신혼 부부입니다. TV랑 공기청정기는 잘 연동시켰습니다. 오래 걸리지도 ...  \n",
       "3     세탁기 된다고 해서 연결했는데 놀라울 정도로 세상 쓰레기에요. 연결은 번거롭고 사용...  \n",
       "4     건조완료후 에어리플레쉬를 원격으로도 추가할 수 있도록 건조완료후 원격제어를 off하...  \n",
       "...                                                 ...  \n",
       "6233                                    센서를 너무 잘 쓰고 있어요  \n",
       "6234                             짱!! 밖에 나가도 되니까 진짜 좋아요!  \n",
       "6235                                        센서 사용이 신기해요  \n",
       "6242             제가 이거 다운받았는데 돼요!!!이 앱 만드신 제작자님!힘네세요!!!  \n",
       "6244                                      엄..엘쥐만 되는건가요?  \n",
       "\n",
       "[4061 rows x 6 columns]"
      ],
      "text/html": [
       "<div>\n",
       "<style scoped>\n",
       "    .dataframe tbody tr th:only-of-type {\n",
       "        vertical-align: middle;\n",
       "    }\n",
       "\n",
       "    .dataframe tbody tr th {\n",
       "        vertical-align: top;\n",
       "    }\n",
       "\n",
       "    .dataframe thead th {\n",
       "        text-align: right;\n",
       "    }\n",
       "</style>\n",
       "<table border=\"1\" class=\"dataframe\">\n",
       "  <thead>\n",
       "    <tr style=\"text-align: right;\">\n",
       "      <th></th>\n",
       "      <th>Date</th>\n",
       "      <th>Name</th>\n",
       "      <th>Score</th>\n",
       "      <th>Review</th>\n",
       "      <th>like</th>\n",
       "      <th>Review_clean</th>\n",
       "    </tr>\n",
       "  </thead>\n",
       "  <tbody>\n",
       "    <tr>\n",
       "      <th>0</th>\n",
       "      <td>2020년 1월 24일</td>\n",
       "      <td>홍현주</td>\n",
       "      <td>3</td>\n",
       "      <td>시스템에어컨 5대 연결해서 원격제어로 사용중입니다. 에어컨 기능은 공기청정기능까지 ...</td>\n",
       "      <td>2</td>\n",
       "      <td>시스템에어컨 5대 연결해서 원격제어로 사용중입니다. 에어컨 기능은 공기청정기능까지 ...</td>\n",
       "    </tr>\n",
       "    <tr>\n",
       "      <th>1</th>\n",
       "      <td>2020년 1월 7일</td>\n",
       "      <td>쌤쌤</td>\n",
       "      <td>3</td>\n",
       "      <td>인덕션 제어용으로 사용하려고 하는데 끄는 전용인건 좋은데 원격제어기능이 계속 꺼져야...</td>\n",
       "      <td>0</td>\n",
       "      <td>인덕션 제어용으로 사용하려고 하는데 끄는 전용인건 좋은데 원격제어기능이 계속 꺼져야...</td>\n",
       "    </tr>\n",
       "    <tr>\n",
       "      <th>2</th>\n",
       "      <td>2020년 1월 8일</td>\n",
       "      <td>Nicholas Jun</td>\n",
       "      <td>1</td>\n",
       "      <td>위례 사는 신혼 부부입니다. TV랑 공기청정기는 잘 연동시켰습니다. 오래 걸리지도 ...</td>\n",
       "      <td>0</td>\n",
       "      <td>위례 사는 신혼 부부입니다. TV랑 공기청정기는 잘 연동시켰습니다. 오래 걸리지도 ...</td>\n",
       "    </tr>\n",
       "    <tr>\n",
       "      <th>3</th>\n",
       "      <td>2020년 1월 24일</td>\n",
       "      <td>Hong KIM</td>\n",
       "      <td>1</td>\n",
       "      <td>세탁기 된다고 해서 연결했는데 놀라울 정도로 세상 쓰레기에요. 연결은 번거롭고 사용...</td>\n",
       "      <td>0</td>\n",
       "      <td>세탁기 된다고 해서 연결했는데 놀라울 정도로 세상 쓰레기에요. 연결은 번거롭고 사용...</td>\n",
       "    </tr>\n",
       "    <tr>\n",
       "      <th>4</th>\n",
       "      <td>2020년 1월 22일</td>\n",
       "      <td>byung-hyun cho</td>\n",
       "      <td>3</td>\n",
       "      <td>건조완료후 에어리플레쉬를 원격으로도 추가할 수 있도록 건조완료후 원격제어를 off하...</td>\n",
       "      <td>0</td>\n",
       "      <td>건조완료후 에어리플레쉬를 원격으로도 추가할 수 있도록 건조완료후 원격제어를 off하...</td>\n",
       "    </tr>\n",
       "    <tr>\n",
       "      <th>...</th>\n",
       "      <td>...</td>\n",
       "      <td>...</td>\n",
       "      <td>...</td>\n",
       "      <td>...</td>\n",
       "      <td>...</td>\n",
       "      <td>...</td>\n",
       "    </tr>\n",
       "    <tr>\n",
       "      <th>6233</th>\n",
       "      <td>2018년 7월 13일</td>\n",
       "      <td>KoonSeok Lee</td>\n",
       "      <td>5</td>\n",
       "      <td>센서를 너무 잘 쓰고 있어요</td>\n",
       "      <td>0</td>\n",
       "      <td>센서를 너무 잘 쓰고 있어요</td>\n",
       "    </tr>\n",
       "    <tr>\n",
       "      <th>6234</th>\n",
       "      <td>2017년 9월 24일</td>\n",
       "      <td>Google 사용자</td>\n",
       "      <td>5</td>\n",
       "      <td>짱!! 밖에 나가도 되니까 진짜 좋아요!</td>\n",
       "      <td>0</td>\n",
       "      <td>짱!! 밖에 나가도 되니까 진짜 좋아요!</td>\n",
       "    </tr>\n",
       "    <tr>\n",
       "      <th>6235</th>\n",
       "      <td>2018년 3월 1일</td>\n",
       "      <td>헤이헤이</td>\n",
       "      <td>5</td>\n",
       "      <td>센서 사용이 신기해요</td>\n",
       "      <td>0</td>\n",
       "      <td>센서 사용이 신기해요</td>\n",
       "    </tr>\n",
       "    <tr>\n",
       "      <th>6242</th>\n",
       "      <td>2017년 1월 10일</td>\n",
       "      <td>Google 사용자</td>\n",
       "      <td>5</td>\n",
       "      <td>제가 이거 다운받았는데 돼요!!!^^이 앱 만드신 제작자님!힘네세요!!!</td>\n",
       "      <td>0</td>\n",
       "      <td>제가 이거 다운받았는데 돼요!!!이 앱 만드신 제작자님!힘네세요!!!</td>\n",
       "    </tr>\n",
       "    <tr>\n",
       "      <th>6244</th>\n",
       "      <td>2017년 10월 29일</td>\n",
       "      <td>쁘몌</td>\n",
       "      <td>3</td>\n",
       "      <td>엄..엘쥐만 되는건가요?</td>\n",
       "      <td>0</td>\n",
       "      <td>엄..엘쥐만 되는건가요?</td>\n",
       "    </tr>\n",
       "  </tbody>\n",
       "</table>\n",
       "<p>4061 rows × 6 columns</p>\n",
       "</div>"
      ]
     },
     "execution_count": 10,
     "metadata": {},
     "output_type": "execute_result"
    }
   ],
   "execution_count": 10
  },
  {
   "cell_type": "markdown",
   "metadata": {
    "id": "ERVKBiZ4WIRZ"
   },
   "source": [
    "# ◆ 2. 데이터 형태소 분리하기\n",
    "* 2.1 불용어적용 및 형태소 분리\n",
    "* 2.2 데이터 프레임에 추가"
   ]
  },
  {
   "cell_type": "code",
   "source": [
    "# konlpy : 한국어 형태소 분석\n",
    "# Okt : 트위터 오픈소스 한국어 처리"
   ],
   "metadata": {
    "id": "pj2ym_vMxy6_",
    "executionInfo": {
     "status": "ok",
     "timestamp": 1722921115087,
     "user_tz": -540,
     "elapsed": 4,
     "user": {
      "displayName": "송효진",
      "userId": "08203763834765793541"
     }
    },
    "ExecuteTime": {
     "end_time": "2024-08-06T06:48:05.552592Z",
     "start_time": "2024-08-06T06:48:05.547777Z"
    }
   },
   "outputs": [],
   "execution_count": 11
  },
  {
   "cell_type": "code",
   "source": [
    "!pip install konlpy"
   ],
   "metadata": {
    "collapsed": true,
    "colab": {
     "base_uri": "https://localhost:8080/"
    },
    "id": "eiATwx2PkPRd",
    "executionInfo": {
     "status": "ok",
     "timestamp": 1722921121740,
     "user_tz": -540,
     "elapsed": 6657,
     "user": {
      "displayName": "송효진",
      "userId": "08203763834765793541"
     }
    },
    "outputId": "fecb70aa-2f25-4736-e3cb-6fc53d17a29c",
    "ExecuteTime": {
     "end_time": "2024-08-06T06:48:10.493945Z",
     "start_time": "2024-08-06T06:48:05.553930Z"
    }
   },
   "outputs": [
    {
     "name": "stdout",
     "output_type": "stream",
     "text": [
      "Requirement already satisfied: konlpy in c:\\users\\dxschool\\anaconda3\\lib\\site-packages (0.6.0)\n",
      "Requirement already satisfied: JPype1>=0.7.0 in c:\\users\\dxschool\\anaconda3\\lib\\site-packages (from konlpy) (1.5.0)\n",
      "Requirement already satisfied: lxml>=4.1.0 in c:\\users\\dxschool\\anaconda3\\lib\\site-packages (from konlpy) (4.9.3)\n",
      "Requirement already satisfied: numpy>=1.6 in c:\\users\\dxschool\\anaconda3\\lib\\site-packages (from konlpy) (1.26.4)\n",
      "Requirement already satisfied: packaging in c:\\users\\dxschool\\anaconda3\\lib\\site-packages (from JPype1>=0.7.0->konlpy) (23.1)\n"
     ]
    }
   ],
   "execution_count": 12
  },
  {
   "cell_type": "code",
   "metadata": {
    "id": "_Qa1TLihWIRZ",
    "executionInfo": {
     "status": "ok",
     "timestamp": 1722921121740,
     "user_tz": -540,
     "elapsed": 25,
     "user": {
      "displayName": "송효진",
      "userId": "08203763834765793541"
     }
    },
    "ExecuteTime": {
     "end_time": "2024-08-06T06:48:11.081728Z",
     "start_time": "2024-08-06T06:48:10.495107Z"
    }
   },
   "source": [
    "from konlpy.tag import Okt\n",
    "okt=Okt()"
   ],
   "outputs": [],
   "execution_count": 13
  },
  {
   "cell_type": "markdown",
   "metadata": {
    "id": "RwwDPOaiWIRZ"
   },
   "source": [
    "### 2.1. 불용어적용 및 형태소 분리\n",
    "    *제공되는 한국어 불용어 파일 사용(ko-stopwords.csv)"
   ]
  },
  {
   "cell_type": "code",
   "metadata": {
    "colab": {
     "base_uri": "https://localhost:8080/",
     "height": 423
    },
    "collapsed": true,
    "id": "pXhfM4PSWIRZ",
    "executionInfo": {
     "status": "ok",
     "timestamp": 1722921121741,
     "user_tz": -540,
     "elapsed": 24,
     "user": {
      "displayName": "송효진",
      "userId": "08203763834765793541"
     }
    },
    "outputId": "ed0ca052-8ef5-4df2-dd98-9427eae5475c",
    "ExecuteTime": {
     "end_time": "2024-08-06T06:48:11.113655Z",
     "start_time": "2024-08-06T06:48:11.086434Z"
    }
   },
   "source": [
    "#불용어 가져오기 + 리스트화\n",
    "stopwords_df = pd.read_csv('ko-stopwords.csv')\n",
    "stopwords_df"
   ],
   "outputs": [
    {
     "data": {
      "text/plain": [
       "    stopwords\n",
       "0           가\n",
       "1        가까스로\n",
       "2          가령\n",
       "3           각\n",
       "4          각각\n",
       "..        ...\n",
       "594       힘입어\n",
       "595        하다\n",
       "596        이다\n",
       "597        되다\n",
       "598       어떻다\n",
       "\n",
       "[599 rows x 1 columns]"
      ],
      "text/html": [
       "<div>\n",
       "<style scoped>\n",
       "    .dataframe tbody tr th:only-of-type {\n",
       "        vertical-align: middle;\n",
       "    }\n",
       "\n",
       "    .dataframe tbody tr th {\n",
       "        vertical-align: top;\n",
       "    }\n",
       "\n",
       "    .dataframe thead th {\n",
       "        text-align: right;\n",
       "    }\n",
       "</style>\n",
       "<table border=\"1\" class=\"dataframe\">\n",
       "  <thead>\n",
       "    <tr style=\"text-align: right;\">\n",
       "      <th></th>\n",
       "      <th>stopwords</th>\n",
       "    </tr>\n",
       "  </thead>\n",
       "  <tbody>\n",
       "    <tr>\n",
       "      <th>0</th>\n",
       "      <td>가</td>\n",
       "    </tr>\n",
       "    <tr>\n",
       "      <th>1</th>\n",
       "      <td>가까스로</td>\n",
       "    </tr>\n",
       "    <tr>\n",
       "      <th>2</th>\n",
       "      <td>가령</td>\n",
       "    </tr>\n",
       "    <tr>\n",
       "      <th>3</th>\n",
       "      <td>각</td>\n",
       "    </tr>\n",
       "    <tr>\n",
       "      <th>4</th>\n",
       "      <td>각각</td>\n",
       "    </tr>\n",
       "    <tr>\n",
       "      <th>...</th>\n",
       "      <td>...</td>\n",
       "    </tr>\n",
       "    <tr>\n",
       "      <th>594</th>\n",
       "      <td>힘입어</td>\n",
       "    </tr>\n",
       "    <tr>\n",
       "      <th>595</th>\n",
       "      <td>하다</td>\n",
       "    </tr>\n",
       "    <tr>\n",
       "      <th>596</th>\n",
       "      <td>이다</td>\n",
       "    </tr>\n",
       "    <tr>\n",
       "      <th>597</th>\n",
       "      <td>되다</td>\n",
       "    </tr>\n",
       "    <tr>\n",
       "      <th>598</th>\n",
       "      <td>어떻다</td>\n",
       "    </tr>\n",
       "  </tbody>\n",
       "</table>\n",
       "<p>599 rows × 1 columns</p>\n",
       "</div>"
      ]
     },
     "execution_count": 14,
     "metadata": {},
     "output_type": "execute_result"
    }
   ],
   "execution_count": 14
  },
  {
   "cell_type": "code",
   "source": [
    "stopwords = list(stopwords_df['stopwords'])\n",
    "stopwords"
   ],
   "metadata": {
    "colab": {
     "base_uri": "https://localhost:8080/"
    },
    "collapsed": true,
    "id": "4eqFAFCMk-zW",
    "executionInfo": {
     "status": "ok",
     "timestamp": 1722921121741,
     "user_tz": -540,
     "elapsed": 22,
     "user": {
      "displayName": "송효진",
      "userId": "08203763834765793541"
     }
    },
    "outputId": "902ddf4a-c41c-4464-85c4-d03d31a3f684",
    "ExecuteTime": {
     "end_time": "2024-08-06T06:48:11.188195Z",
     "start_time": "2024-08-06T06:48:11.116648Z"
    }
   },
   "outputs": [
    {
     "data": {
      "text/plain": [
       "['가',\n",
       " '가까스로',\n",
       " '가령',\n",
       " '각',\n",
       " '각각',\n",
       " '각자',\n",
       " '각종',\n",
       " '갖고말하자면',\n",
       " '같다',\n",
       " '같이',\n",
       " '개의치않고',\n",
       " '거니와',\n",
       " '거바',\n",
       " '거의',\n",
       " '것',\n",
       " '것과 같이',\n",
       " '것들',\n",
       " '게다가',\n",
       " '게우다',\n",
       " '겨우',\n",
       " '견지에서',\n",
       " '결과에 이르다',\n",
       " '결국',\n",
       " '결론을 낼 수 있다',\n",
       " '겸사겸사',\n",
       " '고려하면',\n",
       " '고로',\n",
       " '곧',\n",
       " '공동으로',\n",
       " '과',\n",
       " '과연',\n",
       " '관계가 있다',\n",
       " '관계없이',\n",
       " '관련이 있다',\n",
       " '관하여',\n",
       " '관한',\n",
       " '관해서는',\n",
       " '구',\n",
       " '구체적으로',\n",
       " '구토하다',\n",
       " '그',\n",
       " '그들',\n",
       " '그때',\n",
       " '그래',\n",
       " '그래도',\n",
       " '그래서',\n",
       " '그러나',\n",
       " '그러니',\n",
       " '그러니까',\n",
       " '그러면',\n",
       " '그러므로',\n",
       " '그러한즉',\n",
       " '그런 까닭에',\n",
       " '그런데',\n",
       " '그런즉',\n",
       " '그럼',\n",
       " '그럼에도 불구하고',\n",
       " '그렇게 함으로써',\n",
       " '그렇지',\n",
       " '그렇지 않다면',\n",
       " '그렇지 않으면',\n",
       " '그렇지만',\n",
       " '그렇지않으면',\n",
       " '그리고',\n",
       " '그리하여',\n",
       " '그만이다',\n",
       " '그에 따르는',\n",
       " '그위에',\n",
       " '그저',\n",
       " '그중에서',\n",
       " '그치지 않다',\n",
       " '근거로',\n",
       " '근거하여',\n",
       " '기대여',\n",
       " '기점으로',\n",
       " '기준으로',\n",
       " '기타',\n",
       " '까닭으로',\n",
       " '까악',\n",
       " '까지',\n",
       " '까지 미치다',\n",
       " '까지도',\n",
       " '꽈당',\n",
       " '끙끙',\n",
       " '끼익',\n",
       " '나',\n",
       " '나머지는',\n",
       " '남들',\n",
       " '남짓',\n",
       " '너',\n",
       " '너희',\n",
       " '너희들',\n",
       " '네',\n",
       " '넷',\n",
       " '년',\n",
       " '논하지 않다',\n",
       " '놀라다',\n",
       " '누가 알겠는가',\n",
       " '누구',\n",
       " '다른',\n",
       " '다른 방면으로',\n",
       " '다만',\n",
       " '다섯',\n",
       " '다소',\n",
       " '다수',\n",
       " '다시 말하자면',\n",
       " '다시말하면',\n",
       " '다음',\n",
       " '다음에',\n",
       " '다음으로',\n",
       " '단지',\n",
       " '답다',\n",
       " '당신',\n",
       " '당장',\n",
       " '대로 하다',\n",
       " '대하면',\n",
       " '대하여',\n",
       " '대해 말하자면',\n",
       " '대해서',\n",
       " '댕그',\n",
       " '더구나',\n",
       " '더군다나',\n",
       " '더라도',\n",
       " '더불어',\n",
       " '더욱더',\n",
       " '더욱이는',\n",
       " '도달하다',\n",
       " '도착하다',\n",
       " '동시에',\n",
       " '동안',\n",
       " '된바에야',\n",
       " '된이상',\n",
       " '두번째로',\n",
       " '둘',\n",
       " '둥둥',\n",
       " '뒤따라',\n",
       " '뒤이어',\n",
       " '든간에',\n",
       " '들',\n",
       " '등',\n",
       " '등등',\n",
       " '딩동',\n",
       " '따라',\n",
       " '따라서',\n",
       " '따위',\n",
       " '따지지 않다',\n",
       " '딱',\n",
       " '때',\n",
       " '때가 되어',\n",
       " '때문에',\n",
       " '또',\n",
       " '또한',\n",
       " '뚝뚝',\n",
       " '라 해도',\n",
       " '령',\n",
       " '로',\n",
       " '로 인하여',\n",
       " '로부터',\n",
       " '로써',\n",
       " '륙',\n",
       " '를',\n",
       " '마음대로',\n",
       " '마저',\n",
       " '마저도',\n",
       " '마치',\n",
       " '막론하고',\n",
       " '만 못하다',\n",
       " '만약',\n",
       " '만약에',\n",
       " '만은 아니다',\n",
       " '만이 아니다',\n",
       " '만일',\n",
       " '만큼',\n",
       " '말하자면',\n",
       " '말할것도 없고',\n",
       " '매',\n",
       " '매번',\n",
       " '메쓰겁다',\n",
       " '몇',\n",
       " '모',\n",
       " '모두',\n",
       " '무렵',\n",
       " '무릎쓰고',\n",
       " '무슨',\n",
       " '무엇',\n",
       " '무엇때문에',\n",
       " '물론',\n",
       " '및',\n",
       " '바꾸어말하면',\n",
       " '바꾸어말하자면',\n",
       " '바꾸어서 말하면',\n",
       " '바꾸어서 한다면',\n",
       " '바꿔 말하면',\n",
       " '바로',\n",
       " '바와같이',\n",
       " '밖에 안된다',\n",
       " '반대로',\n",
       " '반대로 말하자면',\n",
       " '반드시',\n",
       " '버금',\n",
       " '보는데서',\n",
       " '보다더',\n",
       " '보드득',\n",
       " '본대로',\n",
       " '봐',\n",
       " '봐라',\n",
       " '부류의 사람들',\n",
       " '부터',\n",
       " '불구하고',\n",
       " '불문하고',\n",
       " '붕붕',\n",
       " '비걱거리다',\n",
       " '비교적',\n",
       " '비길수 없다',\n",
       " '비로소',\n",
       " '비록',\n",
       " '비슷하다',\n",
       " '비추어 보아',\n",
       " '비하면',\n",
       " '뿐만 아니라',\n",
       " '뿐만아니라',\n",
       " '뿐이다',\n",
       " '삐걱',\n",
       " '삐걱거리다',\n",
       " '사',\n",
       " '삼',\n",
       " '상대적으로 말하자면',\n",
       " '생각한대로',\n",
       " '설령',\n",
       " '설마',\n",
       " '설사',\n",
       " '셋',\n",
       " '소생',\n",
       " '소인',\n",
       " '솨',\n",
       " '쉿',\n",
       " '습니까',\n",
       " '습니다',\n",
       " '시각',\n",
       " '시간',\n",
       " '시작하여',\n",
       " '시초에',\n",
       " '시키다',\n",
       " '실로',\n",
       " '심지어',\n",
       " '아',\n",
       " '아니',\n",
       " '아니나다를가',\n",
       " '아니라면',\n",
       " '아니면',\n",
       " '아니었다면',\n",
       " '아래윗',\n",
       " '아무거나',\n",
       " '아무도',\n",
       " '아야',\n",
       " '아울러',\n",
       " '아이',\n",
       " '아이고',\n",
       " '아이구',\n",
       " '아이야',\n",
       " '아이쿠',\n",
       " '아하',\n",
       " '아홉',\n",
       " '안 그러면',\n",
       " '않기 위하여',\n",
       " '않기 위해서',\n",
       " '알 수 있다',\n",
       " '알았어',\n",
       " '앗',\n",
       " '앞에서',\n",
       " '앞의것',\n",
       " '야',\n",
       " '약간',\n",
       " '양자',\n",
       " '어',\n",
       " '어기여차',\n",
       " '어느',\n",
       " '어느 년도',\n",
       " '어느것',\n",
       " '어느곳',\n",
       " '어느때',\n",
       " '어느쪽',\n",
       " '어느해',\n",
       " '어디',\n",
       " '어때',\n",
       " '어떠한',\n",
       " '어떤',\n",
       " '어떤것',\n",
       " '어떤것들',\n",
       " '어떻게',\n",
       " '어떻해',\n",
       " '어이',\n",
       " '어째서',\n",
       " '어쨋든',\n",
       " '어쩔수 없다',\n",
       " '어찌',\n",
       " '어찌됏든',\n",
       " '어찌됏어',\n",
       " '어찌하든지',\n",
       " '어찌하여',\n",
       " '언제',\n",
       " '언젠가',\n",
       " '얼마',\n",
       " '얼마 안 되는 것',\n",
       " '얼마간',\n",
       " '얼마나',\n",
       " '얼마든지',\n",
       " '얼마만큼',\n",
       " '얼마큼',\n",
       " '엉엉',\n",
       " '에',\n",
       " '에 가서',\n",
       " '에 달려 있다',\n",
       " '에 대해',\n",
       " '에 있다',\n",
       " '에 한하다',\n",
       " '에게',\n",
       " '에서',\n",
       " '여',\n",
       " '여기',\n",
       " '여덟',\n",
       " '여러분',\n",
       " '여보시오',\n",
       " '여부',\n",
       " '여섯',\n",
       " '여전히',\n",
       " '여차',\n",
       " '연관되다',\n",
       " '연이서',\n",
       " '영',\n",
       " '영차',\n",
       " '옆사람',\n",
       " '예',\n",
       " '예를 들면',\n",
       " '예를 들자면',\n",
       " '예컨대',\n",
       " '예하면',\n",
       " '오',\n",
       " '오로지',\n",
       " '오르다',\n",
       " '오자마자',\n",
       " '오직',\n",
       " '오호',\n",
       " '오히려',\n",
       " '와',\n",
       " '와 같은 사람들',\n",
       " '와르르',\n",
       " '와아',\n",
       " '왜',\n",
       " '왜냐하면',\n",
       " '외에도',\n",
       " '요만큼',\n",
       " '요만한 것',\n",
       " '요만한걸',\n",
       " '요컨대',\n",
       " '우르르',\n",
       " '우리',\n",
       " '우리들',\n",
       " '우선',\n",
       " '우에 종합한것과같이',\n",
       " '운운',\n",
       " '월',\n",
       " '위에서 서술한바와같이',\n",
       " '위하여',\n",
       " '위해서',\n",
       " '윙윙',\n",
       " '육',\n",
       " '으로',\n",
       " '으로 인하여',\n",
       " '으로서',\n",
       " '으로써',\n",
       " '을',\n",
       " '응',\n",
       " '응당',\n",
       " '의',\n",
       " '의거하여',\n",
       " '의지하여',\n",
       " '의해',\n",
       " '의해되다',\n",
       " '의해서',\n",
       " '이',\n",
       " '이 되다',\n",
       " '이 때문에',\n",
       " '이 밖에',\n",
       " '이 외에',\n",
       " '이 정도의',\n",
       " '이것',\n",
       " '이곳',\n",
       " '이때',\n",
       " '이라면',\n",
       " '이래',\n",
       " '이러이러하다',\n",
       " '이러한',\n",
       " '이런',\n",
       " '이럴정도로',\n",
       " '이렇게 많은 것',\n",
       " '이렇게되면',\n",
       " '이렇게말하자면',\n",
       " '이렇구나',\n",
       " '이로 인하여',\n",
       " '이르기까지',\n",
       " '이리하여',\n",
       " '이만큼',\n",
       " '이번',\n",
       " '이봐',\n",
       " '이상',\n",
       " '이어서',\n",
       " '이었다',\n",
       " '이와 같다',\n",
       " '이와 같은',\n",
       " '이와 반대로',\n",
       " '이와같다면',\n",
       " '이외에도',\n",
       " '이용하여',\n",
       " '이유만으로',\n",
       " '이젠',\n",
       " '이지만',\n",
       " '이쪽',\n",
       " '이천구',\n",
       " '이천육',\n",
       " '이천칠',\n",
       " '이천팔',\n",
       " '인 듯하다',\n",
       " '인젠',\n",
       " '일',\n",
       " '일것이다',\n",
       " '일곱',\n",
       " '일단',\n",
       " '일때',\n",
       " '일반적으로',\n",
       " '일지라도',\n",
       " '임에 틀림없다',\n",
       " '입각하여',\n",
       " '입장에서',\n",
       " '잇따라',\n",
       " '있다',\n",
       " '자',\n",
       " '자기',\n",
       " '자기집',\n",
       " '자마자',\n",
       " '자신',\n",
       " '잠깐',\n",
       " '잠시',\n",
       " '저',\n",
       " '저것',\n",
       " '저것만큼',\n",
       " '저기',\n",
       " '저쪽',\n",
       " '저희',\n",
       " '전부',\n",
       " '전자',\n",
       " '전후',\n",
       " '점에서 보아',\n",
       " '정도에 이르다',\n",
       " '제',\n",
       " '제각기',\n",
       " '제외하고',\n",
       " '조금',\n",
       " '조차',\n",
       " '조차도',\n",
       " '졸졸',\n",
       " '좀',\n",
       " '좋아',\n",
       " '좍좍',\n",
       " '주룩주룩',\n",
       " '주저하지 않고',\n",
       " '줄은 몰랏다',\n",
       " '줄은모른다',\n",
       " '중에서',\n",
       " '중의하나',\n",
       " '즈음하여',\n",
       " '즉',\n",
       " '즉시',\n",
       " '지든지',\n",
       " '지만',\n",
       " '지말고',\n",
       " '진짜로',\n",
       " '쪽으로',\n",
       " '차라리',\n",
       " '참',\n",
       " '참나',\n",
       " '첫번째로',\n",
       " '쳇',\n",
       " '총적으로',\n",
       " '총적으로 말하면',\n",
       " '총적으로 보면',\n",
       " '칠',\n",
       " '콸콸',\n",
       " '쾅쾅',\n",
       " '쿵',\n",
       " '타다',\n",
       " '타인',\n",
       " '탕탕',\n",
       " '토하다',\n",
       " '통하여',\n",
       " '툭',\n",
       " '퉤',\n",
       " '틈타',\n",
       " '팍',\n",
       " '팔',\n",
       " '퍽',\n",
       " '펄렁',\n",
       " '하',\n",
       " '하게될것이다',\n",
       " '하게하다',\n",
       " '하겠는가',\n",
       " '하고 있다',\n",
       " '하고있었다',\n",
       " '하곤하였다',\n",
       " '하구나',\n",
       " '하기 때문에',\n",
       " '하기 위하여',\n",
       " '하기는한데',\n",
       " '하기만 하면',\n",
       " '하기보다는',\n",
       " '하기에',\n",
       " '하나',\n",
       " '하느니',\n",
       " '하는 김에',\n",
       " '하는 편이 낫다',\n",
       " '하는것도',\n",
       " '하는것만 못하다',\n",
       " '하는것이 낫다',\n",
       " '하는바',\n",
       " '하더라도',\n",
       " '하도다',\n",
       " '하도록시키다',\n",
       " '하도록하다',\n",
       " '하든지',\n",
       " '하려고하다',\n",
       " '하마터면',\n",
       " '하면 할수록',\n",
       " '하면된다',\n",
       " '하면서',\n",
       " '하물며',\n",
       " '하여금',\n",
       " '하여야',\n",
       " '하자마자',\n",
       " '하지 않는다면',\n",
       " '하지 않도록',\n",
       " '하지마',\n",
       " '하지마라',\n",
       " '하지만',\n",
       " '하하',\n",
       " '한 까닭에',\n",
       " '한 이유는',\n",
       " '한 후',\n",
       " '한다면',\n",
       " '한다면 몰라도',\n",
       " '한데',\n",
       " '한마디',\n",
       " '한적이있다',\n",
       " '한켠으로는',\n",
       " '한항목',\n",
       " '할 따름이다',\n",
       " '할 생각이다',\n",
       " '할 줄 안다',\n",
       " '할 지경이다',\n",
       " '할 힘이 있다',\n",
       " '할때',\n",
       " '할만하다',\n",
       " '할망정',\n",
       " '할뿐',\n",
       " '할수있다',\n",
       " '할수있어',\n",
       " '할줄알다',\n",
       " '할지라도',\n",
       " '할지언정',\n",
       " '함께',\n",
       " '해도된다',\n",
       " '해도좋다',\n",
       " '해봐요',\n",
       " '해서는 안된다',\n",
       " '해야한다',\n",
       " '해요',\n",
       " '했어요',\n",
       " '향하다',\n",
       " '향하여',\n",
       " '향해서',\n",
       " '허',\n",
       " '허걱',\n",
       " '허허',\n",
       " '헉',\n",
       " '헉헉',\n",
       " '헐떡헐떡',\n",
       " '형식으로 쓰여',\n",
       " '혹시',\n",
       " '혹은',\n",
       " '혼자',\n",
       " '훨씬',\n",
       " '휘익',\n",
       " '휴',\n",
       " '흐흐',\n",
       " '흥',\n",
       " '힘입어',\n",
       " '하다',\n",
       " '이다',\n",
       " '되다',\n",
       " '어떻다']"
      ]
     },
     "execution_count": 15,
     "metadata": {},
     "output_type": "execute_result"
    }
   ],
   "execution_count": 15
  },
  {
   "cell_type": "code",
   "source": [
    "#원하는 태그 추출 & 불용어 제거\n",
    "\n",
    "def okt_pos_tagging(string): # 사용자 정의 함수, 매개변수 = String\n",
    "    pos_words = okt.pos(string, stem=True, norm=True) # pos 함수 : 형태소를 쪼개면서 동시에 품사를 알려준다.\n",
    "\n",
    "    tagged_list=[]\n",
    "    for word, tag in pos_words:\n",
    "        if tag in ['Noun', 'Adjective', 'Verb']:\n",
    "            if word not in stopwords: # 불용어 목록에 들어있지 않으면\n",
    "                tagged_list.append(word) # 리스트 목록에 추가해라\n",
    "    if len(tagged_list) == 0 :\n",
    "      tagged_list.append(\"None\")\n",
    "    return tagged_list"
   ],
   "metadata": {
    "id": "obXVAD5-lUIO",
    "executionInfo": {
     "status": "ok",
     "timestamp": 1722921121741,
     "user_tz": -540,
     "elapsed": 17,
     "user": {
      "displayName": "송효진",
      "userId": "08203763834765793541"
     }
    },
    "ExecuteTime": {
     "end_time": "2024-08-06T06:48:11.195838Z",
     "start_time": "2024-08-06T06:48:11.190191Z"
    }
   },
   "outputs": [],
   "execution_count": 16
  },
  {
   "cell_type": "code",
   "source": [
    "# test\n",
    "okt_pos_tagging(df.Review_clean[0])"
   ],
   "metadata": {
    "colab": {
     "base_uri": "https://localhost:8080/"
    },
    "collapsed": true,
    "id": "pnDGB2BZmHs8",
    "executionInfo": {
     "status": "ok",
     "timestamp": 1722921121741,
     "user_tz": -540,
     "elapsed": 17,
     "user": {
      "displayName": "송효진",
      "userId": "08203763834765793541"
     }
    },
    "outputId": "3bf3c36d-27d2-495d-cd79-6cab1f1a346e",
    "ExecuteTime": {
     "end_time": "2024-08-06T06:48:13.740918Z",
     "start_time": "2024-08-06T06:48:11.196851Z"
    }
   },
   "outputs": [
    {
     "data": {
      "text/plain": [
       "['시스템',\n",
       " '에어컨',\n",
       " '대다',\n",
       " '연결하다',\n",
       " '격',\n",
       " '제어',\n",
       " '사용',\n",
       " '에어컨',\n",
       " '기능',\n",
       " '공기청정기',\n",
       " '능',\n",
       " '앱',\n",
       " '모드',\n",
       " '청정',\n",
       " '모드',\n",
       " '없다',\n",
       " '냉방',\n",
       " '습',\n",
       " '송풍',\n",
       " '난방',\n",
       " '자동',\n",
       " '만',\n",
       " '청정',\n",
       " '없다',\n",
       " '리모컨',\n",
       " '청정',\n",
       " '누르다',\n",
       " '앱',\n",
       " '송풍',\n",
       " '데',\n",
       " '앱',\n",
       " '송풍',\n",
       " '선택',\n",
       " '청정',\n",
       " '않다',\n",
       " '리모컨',\n",
       " '송풍',\n",
       " '청정',\n",
       " '킬수',\n",
       " '원격',\n",
       " '송풍',\n",
       " '청정',\n",
       " '에어컨',\n",
       " '공기',\n",
       " '청정',\n",
       " '난방',\n",
       " '청정',\n",
       " '사용']"
      ]
     },
     "execution_count": 17,
     "metadata": {},
     "output_type": "execute_result"
    }
   ],
   "execution_count": 17
  },
  {
   "cell_type": "markdown",
   "metadata": {
    "id": "d0bgSsLaWIRZ"
   },
   "source": [
    "### 2.2 데이터 프레임에 추가"
   ]
  },
  {
   "cell_type": "code",
   "metadata": {
    "colab": {
     "base_uri": "https://localhost:8080/"
    },
    "id": "SmrAyWvSWIRZ",
    "executionInfo": {
     "status": "ok",
     "timestamp": 1722921185090,
     "user_tz": -540,
     "elapsed": 63358,
     "user": {
      "displayName": "송효진",
      "userId": "08203763834765793541"
     }
    },
    "outputId": "ac7ac810-69af-4971-ad5b-267b88177128",
    "ExecuteTime": {
     "end_time": "2024-08-06T06:48:28.569011Z",
     "start_time": "2024-08-06T06:48:13.741918Z"
    }
   },
   "source": [
    "#형태소 분리 및 df 적용\n",
    "tagged_review = []\n",
    "for review in tqdm(df.Review):\n",
    "    tagged = okt_pos_tagging(review)\n",
    "    tagged_review.append(tagged)"
   ],
   "outputs": [
    {
     "name": "stderr",
     "output_type": "stream",
     "text": [
      "100%|██████████| 4061/4061 [00:14<00:00, 274.01it/s]\n"
     ]
    }
   ],
   "execution_count": 18
  },
  {
   "cell_type": "code",
   "source": [
    "df['tagged_review'] = tagged_review\n",
    "df.head(100)"
   ],
   "metadata": {
    "colab": {
     "base_uri": "https://localhost:8080/",
     "height": 857
    },
    "collapsed": true,
    "id": "Ij8o6KPhpD4P",
    "executionInfo": {
     "status": "ok",
     "timestamp": 1722921185595,
     "user_tz": -540,
     "elapsed": 518,
     "user": {
      "displayName": "송효진",
      "userId": "08203763834765793541"
     }
    },
    "outputId": "89b51acc-84c1-4174-f735-79f4ede5841f",
    "ExecuteTime": {
     "end_time": "2024-08-06T06:48:28.583052Z",
     "start_time": "2024-08-06T06:48:28.570102Z"
    }
   },
   "outputs": [
    {
     "data": {
      "text/plain": [
       "             Date            Name  Score  \\\n",
       "0    2020년 1월 24일             홍현주      3   \n",
       "1     2020년 1월 7일              쌤쌤      3   \n",
       "2     2020년 1월 8일    Nicholas Jun      1   \n",
       "3    2020년 1월 24일        Hong KIM      1   \n",
       "4    2020년 1월 22일  byung-hyun cho      3   \n",
       "..            ...             ...    ...   \n",
       "95    2020년 1월 8일             이지영      2   \n",
       "96   2020년 1월 19일             손경화      5   \n",
       "97  2019년 12월 11일             조용찬      1   \n",
       "98  2019년 12월 13일             박창민      1   \n",
       "99   2020년 1월 11일            RISA      1   \n",
       "\n",
       "                                               Review  like  \\\n",
       "0   시스템에어컨 5대 연결해서 원격제어로 사용중입니다. 에어컨 기능은 공기청정기능까지 ...     2   \n",
       "1   인덕션 제어용으로 사용하려고 하는데 끄는 전용인건 좋은데 원격제어기능이 계속 꺼져야...     0   \n",
       "2   위례 사는 신혼 부부입니다. TV랑 공기청정기는 잘 연동시켰습니다. 오래 걸리지도 ...     0   \n",
       "3   세탁기 된다고 해서 연결했는데 놀라울 정도로 세상 쓰레기에요. 연결은 번거롭고 사용...     0   \n",
       "4   건조완료후 에어리플레쉬를 원격으로도 추가할 수 있도록 건조완료후 원격제어를 off하...     0   \n",
       "..                                                ...   ...   \n",
       "95  앱ㅓ업데이트되면서 사용하던 청소기가 화면에서 보이지 않고 세부 설정을 들어가서 확인...     0   \n",
       "96                기계와기계를 소통하게 해주는 의사소통이 신기하군요. 고맙습니다.     0   \n",
       "97  알림은 잘 오는데 앱을 켰을 때는 서버가 응답을 않는다고 자동 종료... 3개월째....     2   \n",
       "98  겔 8. 쓰는데 앱 로딩시 계속 팅기네요. 이건 예전부터 적엇는데 전혀 패치시 적용...     2   \n",
       "99                어플 깔고나서 시도때도 없이 진동이 울리네요. 오우 아주 대단해     0   \n",
       "\n",
       "                                         Review_clean  \\\n",
       "0   시스템에어컨 5대 연결해서 원격제어로 사용중입니다. 에어컨 기능은 공기청정기능까지 ...   \n",
       "1   인덕션 제어용으로 사용하려고 하는데 끄는 전용인건 좋은데 원격제어기능이 계속 꺼져야...   \n",
       "2   위례 사는 신혼 부부입니다. TV랑 공기청정기는 잘 연동시켰습니다. 오래 걸리지도 ...   \n",
       "3   세탁기 된다고 해서 연결했는데 놀라울 정도로 세상 쓰레기에요. 연결은 번거롭고 사용...   \n",
       "4   건조완료후 에어리플레쉬를 원격으로도 추가할 수 있도록 건조완료후 원격제어를 off하...   \n",
       "..                                                ...   \n",
       "95  앱업데이트되면서 사용하던 청소기가 화면에서 보이지 않고 세부 설정을 들어가서 확인해...   \n",
       "96                기계와기계를 소통하게 해주는 의사소통이 신기하군요. 고맙습니다.   \n",
       "97  알림은 잘 오는데 앱을 켰을 때는 서버가 응답을 않는다고 자동 종료... 3개월째....   \n",
       "98  겔 8. 쓰는데 앱 로딩시 계속 팅기네요. 이건 예전부터 적엇는데 전혀 패치시 적용...   \n",
       "99                어플 깔고나서 시도때도 없이 진동이 울리네요. 오우 아주 대단해   \n",
       "\n",
       "                                        tagged_review  \n",
       "0   [시스템, 에어컨, 대다, 연결하다, 격, 제어, 사용, 에어컨, 기능, 공기청정기...  \n",
       "1   [인덕션, 제어, 용, 사용, 끄다, 전용, 건, 좋다, 격, 제어기, 능이, 계속...  \n",
       "2   [위례, 살다, 신혼, 부부, 공기청정기, 자다, 연동, 걸리다, 않다, 문제, 김...  \n",
       "3   [세탁기, 연결하다, 정도, 세상, 쓰레기, 연결, 번거롭다, 사용성, 까다롭다, ...  \n",
       "4   [건조, 완료, 후, 에어, 리플, 레쉬, 원격, 추가, 수, 건조, 완료, 후, ...  \n",
       "..                                                ...  \n",
       "95  [앱, 업데이트, 사용, 청소기, 화면, 보이지, 않다, 세부, 설정, 들어가다, ...  \n",
       "96                 [기계, 기계, 소통, 해주다, 의사소통, 신기하다, 고맙다]  \n",
       "97  [알림, 자다, 오다, 앱, 켜다, 서버, 응답, 않다, 자동, 종료, 개월, 응답...  \n",
       "98  [겔, 쓰다, 앱, 로딩, 시, 계속, 팅기다, 예전, 적, 늘다, 전혀, 패치, ...  \n",
       "99                [어플, 깔다, 시도, 진동, 울리다, 오우, 아주, 대단하다]  \n",
       "\n",
       "[100 rows x 7 columns]"
      ],
      "text/html": [
       "<div>\n",
       "<style scoped>\n",
       "    .dataframe tbody tr th:only-of-type {\n",
       "        vertical-align: middle;\n",
       "    }\n",
       "\n",
       "    .dataframe tbody tr th {\n",
       "        vertical-align: top;\n",
       "    }\n",
       "\n",
       "    .dataframe thead th {\n",
       "        text-align: right;\n",
       "    }\n",
       "</style>\n",
       "<table border=\"1\" class=\"dataframe\">\n",
       "  <thead>\n",
       "    <tr style=\"text-align: right;\">\n",
       "      <th></th>\n",
       "      <th>Date</th>\n",
       "      <th>Name</th>\n",
       "      <th>Score</th>\n",
       "      <th>Review</th>\n",
       "      <th>like</th>\n",
       "      <th>Review_clean</th>\n",
       "      <th>tagged_review</th>\n",
       "    </tr>\n",
       "  </thead>\n",
       "  <tbody>\n",
       "    <tr>\n",
       "      <th>0</th>\n",
       "      <td>2020년 1월 24일</td>\n",
       "      <td>홍현주</td>\n",
       "      <td>3</td>\n",
       "      <td>시스템에어컨 5대 연결해서 원격제어로 사용중입니다. 에어컨 기능은 공기청정기능까지 ...</td>\n",
       "      <td>2</td>\n",
       "      <td>시스템에어컨 5대 연결해서 원격제어로 사용중입니다. 에어컨 기능은 공기청정기능까지 ...</td>\n",
       "      <td>[시스템, 에어컨, 대다, 연결하다, 격, 제어, 사용, 에어컨, 기능, 공기청정기...</td>\n",
       "    </tr>\n",
       "    <tr>\n",
       "      <th>1</th>\n",
       "      <td>2020년 1월 7일</td>\n",
       "      <td>쌤쌤</td>\n",
       "      <td>3</td>\n",
       "      <td>인덕션 제어용으로 사용하려고 하는데 끄는 전용인건 좋은데 원격제어기능이 계속 꺼져야...</td>\n",
       "      <td>0</td>\n",
       "      <td>인덕션 제어용으로 사용하려고 하는데 끄는 전용인건 좋은데 원격제어기능이 계속 꺼져야...</td>\n",
       "      <td>[인덕션, 제어, 용, 사용, 끄다, 전용, 건, 좋다, 격, 제어기, 능이, 계속...</td>\n",
       "    </tr>\n",
       "    <tr>\n",
       "      <th>2</th>\n",
       "      <td>2020년 1월 8일</td>\n",
       "      <td>Nicholas Jun</td>\n",
       "      <td>1</td>\n",
       "      <td>위례 사는 신혼 부부입니다. TV랑 공기청정기는 잘 연동시켰습니다. 오래 걸리지도 ...</td>\n",
       "      <td>0</td>\n",
       "      <td>위례 사는 신혼 부부입니다. TV랑 공기청정기는 잘 연동시켰습니다. 오래 걸리지도 ...</td>\n",
       "      <td>[위례, 살다, 신혼, 부부, 공기청정기, 자다, 연동, 걸리다, 않다, 문제, 김...</td>\n",
       "    </tr>\n",
       "    <tr>\n",
       "      <th>3</th>\n",
       "      <td>2020년 1월 24일</td>\n",
       "      <td>Hong KIM</td>\n",
       "      <td>1</td>\n",
       "      <td>세탁기 된다고 해서 연결했는데 놀라울 정도로 세상 쓰레기에요. 연결은 번거롭고 사용...</td>\n",
       "      <td>0</td>\n",
       "      <td>세탁기 된다고 해서 연결했는데 놀라울 정도로 세상 쓰레기에요. 연결은 번거롭고 사용...</td>\n",
       "      <td>[세탁기, 연결하다, 정도, 세상, 쓰레기, 연결, 번거롭다, 사용성, 까다롭다, ...</td>\n",
       "    </tr>\n",
       "    <tr>\n",
       "      <th>4</th>\n",
       "      <td>2020년 1월 22일</td>\n",
       "      <td>byung-hyun cho</td>\n",
       "      <td>3</td>\n",
       "      <td>건조완료후 에어리플레쉬를 원격으로도 추가할 수 있도록 건조완료후 원격제어를 off하...</td>\n",
       "      <td>0</td>\n",
       "      <td>건조완료후 에어리플레쉬를 원격으로도 추가할 수 있도록 건조완료후 원격제어를 off하...</td>\n",
       "      <td>[건조, 완료, 후, 에어, 리플, 레쉬, 원격, 추가, 수, 건조, 완료, 후, ...</td>\n",
       "    </tr>\n",
       "    <tr>\n",
       "      <th>...</th>\n",
       "      <td>...</td>\n",
       "      <td>...</td>\n",
       "      <td>...</td>\n",
       "      <td>...</td>\n",
       "      <td>...</td>\n",
       "      <td>...</td>\n",
       "      <td>...</td>\n",
       "    </tr>\n",
       "    <tr>\n",
       "      <th>95</th>\n",
       "      <td>2020년 1월 8일</td>\n",
       "      <td>이지영</td>\n",
       "      <td>2</td>\n",
       "      <td>앱ㅓ업데이트되면서 사용하던 청소기가 화면에서 보이지 않고 세부 설정을 들어가서 확인...</td>\n",
       "      <td>0</td>\n",
       "      <td>앱업데이트되면서 사용하던 청소기가 화면에서 보이지 않고 세부 설정을 들어가서 확인해...</td>\n",
       "      <td>[앱, 업데이트, 사용, 청소기, 화면, 보이지, 않다, 세부, 설정, 들어가다, ...</td>\n",
       "    </tr>\n",
       "    <tr>\n",
       "      <th>96</th>\n",
       "      <td>2020년 1월 19일</td>\n",
       "      <td>손경화</td>\n",
       "      <td>5</td>\n",
       "      <td>기계와기계를 소통하게 해주는 의사소통이 신기하군요. 고맙습니다.</td>\n",
       "      <td>0</td>\n",
       "      <td>기계와기계를 소통하게 해주는 의사소통이 신기하군요. 고맙습니다.</td>\n",
       "      <td>[기계, 기계, 소통, 해주다, 의사소통, 신기하다, 고맙다]</td>\n",
       "    </tr>\n",
       "    <tr>\n",
       "      <th>97</th>\n",
       "      <td>2019년 12월 11일</td>\n",
       "      <td>조용찬</td>\n",
       "      <td>1</td>\n",
       "      <td>알림은 잘 오는데 앱을 켰을 때는 서버가 응답을 않는다고 자동 종료... 3개월째....</td>\n",
       "      <td>2</td>\n",
       "      <td>알림은 잘 오는데 앱을 켰을 때는 서버가 응답을 않는다고 자동 종료... 3개월째....</td>\n",
       "      <td>[알림, 자다, 오다, 앱, 켜다, 서버, 응답, 않다, 자동, 종료, 개월, 응답...</td>\n",
       "    </tr>\n",
       "    <tr>\n",
       "      <th>98</th>\n",
       "      <td>2019년 12월 13일</td>\n",
       "      <td>박창민</td>\n",
       "      <td>1</td>\n",
       "      <td>겔 8. 쓰는데 앱 로딩시 계속 팅기네요. 이건 예전부터 적엇는데 전혀 패치시 적용...</td>\n",
       "      <td>2</td>\n",
       "      <td>겔 8. 쓰는데 앱 로딩시 계속 팅기네요. 이건 예전부터 적엇는데 전혀 패치시 적용...</td>\n",
       "      <td>[겔, 쓰다, 앱, 로딩, 시, 계속, 팅기다, 예전, 적, 늘다, 전혀, 패치, ...</td>\n",
       "    </tr>\n",
       "    <tr>\n",
       "      <th>99</th>\n",
       "      <td>2020년 1월 11일</td>\n",
       "      <td>RISA</td>\n",
       "      <td>1</td>\n",
       "      <td>어플 깔고나서 시도때도 없이 진동이 울리네요. 오우 아주 대단해</td>\n",
       "      <td>0</td>\n",
       "      <td>어플 깔고나서 시도때도 없이 진동이 울리네요. 오우 아주 대단해</td>\n",
       "      <td>[어플, 깔다, 시도, 진동, 울리다, 오우, 아주, 대단하다]</td>\n",
       "    </tr>\n",
       "  </tbody>\n",
       "</table>\n",
       "<p>100 rows × 7 columns</p>\n",
       "</div>"
      ]
     },
     "execution_count": 19,
     "metadata": {},
     "output_type": "execute_result"
    }
   ],
   "execution_count": 19
  },
  {
   "cell_type": "markdown",
   "metadata": {
    "id": "Ie12c0REWIRZ"
   },
   "source": [
    "# ◆ 3. 벡터화\n",
    "* 3.1 doc2vec 준비(문서의 순서 매기기)\n",
    "* 3.2 doc2vec 학습시키기\n",
    "* 3.3 벡터 값 데이터 프레임에 추가"
   ]
  },
  {
   "cell_type": "code",
   "metadata": {
    "id": "vajVRo1GWIRZ",
    "executionInfo": {
     "status": "ok",
     "timestamp": 1722921185596,
     "user_tz": -540,
     "elapsed": 3,
     "user": {
      "displayName": "송효진",
      "userId": "08203763834765793541"
     }
    },
    "ExecuteTime": {
     "end_time": "2024-08-06T06:48:28.598371Z",
     "start_time": "2024-08-06T06:48:28.584229Z"
    }
   },
   "source": [
    "#import gensim 안될때 첫번째시도\n",
    "# pip install --upgrade scipy\n",
    "# pip install --upgrade gensim\n",
    "\n",
    "#두번째시도\n",
    "#pip install --upgrade numpy"
   ],
   "outputs": [],
   "execution_count": 20
  },
  {
   "cell_type": "code",
   "source": [
    "!pip install scipy"
   ],
   "metadata": {
    "colab": {
     "base_uri": "https://localhost:8080/"
    },
    "id": "Dg615PgyqJyS",
    "executionInfo": {
     "status": "ok",
     "timestamp": 1722921190077,
     "user_tz": -540,
     "elapsed": 4484,
     "user": {
      "displayName": "송효진",
      "userId": "08203763834765793541"
     }
    },
    "outputId": "57bb165e-e136-4ff1-e964-bfb97dbf356e",
    "ExecuteTime": {
     "end_time": "2024-08-06T06:48:32.310990Z",
     "start_time": "2024-08-06T06:48:28.599377Z"
    }
   },
   "outputs": [
    {
     "name": "stdout",
     "output_type": "stream",
     "text": [
      "Requirement already satisfied: scipy in c:\\users\\dxschool\\anaconda3\\lib\\site-packages (1.11.4)\n",
      "Requirement already satisfied: numpy<1.28.0,>=1.21.6 in c:\\users\\dxschool\\anaconda3\\lib\\site-packages (from scipy) (1.26.4)\n"
     ]
    }
   ],
   "execution_count": 21
  },
  {
   "cell_type": "code",
   "metadata": {
    "id": "tU73-fABWIRa",
    "executionInfo": {
     "status": "ok",
     "timestamp": 1722921190077,
     "user_tz": -540,
     "elapsed": 6,
     "user": {
      "displayName": "송효진",
      "userId": "08203763834765793541"
     }
    },
    "ExecuteTime": {
     "end_time": "2024-08-06T06:48:33.134416Z",
     "start_time": "2024-08-06T06:48:32.312001Z"
    }
   },
   "source": [
    "import gensim #자연어 처리 및 토픽 모델링을 위한 라이브러리\n",
    "from gensim.models.doc2vec import TaggedDocument\n",
    "from gensim.models import doc2vec"
   ],
   "outputs": [],
   "execution_count": 22
  },
  {
   "cell_type": "markdown",
   "metadata": {
    "id": "z6UqxaW9WIRa"
   },
   "source": [
    "### 3.1 doc2vec 준비\n",
    "    - word2vec은 단어 하나를 하나의 vector화\n",
    "    - doc2vec은 문서 하나를 하나의 vector화"
   ]
  },
  {
   "cell_type": "markdown",
   "source": [
    "![doc2vec.jpg](data:image/jpeg;base64,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)"
   ],
   "metadata": {
    "id": "x2a3Q8-hrKVL"
   }
  },
  {
   "cell_type": "code",
   "source": [
    "#  doc2vec의 행위\n",
    "# 1. 몇개의 단어세트가 문서의 의미를 녹이는데 도움이 될 것 인가?\n",
    "# 2. 다음 단어는 무엇이 나올지 학습 -> 단어 맞추기 시킴"
   ],
   "metadata": {
    "id": "N9pRXBgZrSla",
    "executionInfo": {
     "status": "ok",
     "timestamp": 1722921190078,
     "user_tz": -540,
     "elapsed": 6,
     "user": {
      "displayName": "송효진",
      "userId": "08203763834765793541"
     }
    },
    "ExecuteTime": {
     "end_time": "2024-08-06T06:48:33.139353Z",
     "start_time": "2024-08-06T06:48:33.134416Z"
    }
   },
   "outputs": [],
   "execution_count": 23
  },
  {
   "cell_type": "markdown",
   "source": [
    "![image.png](data:image/png;base64,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)"
   ],
   "metadata": {
    "id": "kSstNFr1qqWb"
   }
  },
  {
   "cell_type": "code",
   "metadata": {
    "id": "uYZh5VgaWIRa",
    "executionInfo": {
     "status": "ok",
     "timestamp": 1722921190078,
     "user_tz": -540,
     "elapsed": 6,
     "user": {
      "displayName": "송효진",
      "userId": "08203763834765793541"
     }
    },
    "ExecuteTime": {
     "end_time": "2024-08-06T06:48:33.145940Z",
     "start_time": "2024-08-06T06:48:33.140612Z"
    }
   },
   "source": [
    "# doc2vac은 학습을 시킬 때 문서의 고유한 ID값을 같이 넣게 되어있다."
   ],
   "outputs": [],
   "execution_count": 24
  },
  {
   "cell_type": "code",
   "source": [
    "# 문서마다 고유한 document 번호 부여\n",
    "# doc2vec\n",
    "tagged_corpus_list = []\n",
    "\n",
    "for i, token in enumerate(df.tagged_review):\n",
    "    tag = \"document {}\".format(i)\n",
    "    tagged_corpus_list.append(TaggedDocument(tags=[tag], words = token))\n",
    "print('문서의 수 :', len(tagged_corpus_list))"
   ],
   "metadata": {
    "colab": {
     "base_uri": "https://localhost:8080/"
    },
    "id": "8vjMOi8Ytzib",
    "executionInfo": {
     "status": "ok",
     "timestamp": 1722921190078,
     "user_tz": -540,
     "elapsed": 5,
     "user": {
      "displayName": "송효진",
      "userId": "08203763834765793541"
     }
    },
    "outputId": "71b615bf-0c50-4231-9b47-508c4e5d5399",
    "ExecuteTime": {
     "end_time": "2024-08-06T06:48:33.160932Z",
     "start_time": "2024-08-06T06:48:33.146939Z"
    }
   },
   "outputs": [
    {
     "name": "stdout",
     "output_type": "stream",
     "text": [
      "문서의 수 : 4061\n"
     ]
    }
   ],
   "execution_count": 25
  },
  {
   "cell_type": "code",
   "source": [
    "tagged_corpus_list[0]"
   ],
   "metadata": {
    "colab": {
     "base_uri": "https://localhost:8080/"
    },
    "collapsed": true,
    "id": "iqQk3HoQt4vL",
    "executionInfo": {
     "status": "ok",
     "timestamp": 1722921190078,
     "user_tz": -540,
     "elapsed": 5,
     "user": {
      "displayName": "송효진",
      "userId": "08203763834765793541"
     }
    },
    "outputId": "4675529e-40dc-4162-e53d-e98b57a6b5db",
    "ExecuteTime": {
     "end_time": "2024-08-06T06:48:33.171280Z",
     "start_time": "2024-08-06T06:48:33.161932Z"
    }
   },
   "outputs": [
    {
     "data": {
      "text/plain": [
       "TaggedDocument(words=['시스템', '에어컨', '대다', '연결하다', '격', '제어', '사용', '에어컨', '기능', '공기청정기', '능', '앱', '모드', '청정', '모드', '없다', '냉방', '습', '송풍', '난방', '자동', '만', '청정', '없다', '리모컨', '청정', '누르다', '앱', '송풍', '데', '앱', '송풍', '선택', '청정', '않다', '리모컨', '송풍', '청정', '킬수', '원격', '송풍', '공기', '청정', '에어컨', '공기', '청정', '난방', '청정', '사용'], tags=['document 0'])"
      ]
     },
     "execution_count": 26,
     "metadata": {},
     "output_type": "execute_result"
    }
   ],
   "execution_count": 26
  },
  {
   "cell_type": "markdown",
   "metadata": {
    "id": "DMZW0DbBWIRa"
   },
   "source": [
    "### 3.2 doc2vec 학습시키기\n",
    "    <model 하이퍼파라미터 값>\n",
    "    # vector_size : 생성할 문서 벡터의 크기\n",
    "    # alpha: 모델 학습시 초기 학습률 0.025는 일반적으로 사용됨\n",
    "    # min_alpha: 학습 과정에서 alpha 값을 이 값으로 줄여나가게 됩니다\n",
    "    # window : 문맥 윈도우 크기, 주변 몇개의 단어의 문맥을 고려하여 학습하는가"
   ]
  },
  {
   "cell_type": "code",
   "metadata": {
    "id": "dcau4aciWIRa",
    "executionInfo": {
     "status": "ok",
     "timestamp": 1722921193044,
     "user_tz": -540,
     "elapsed": 2969,
     "user": {
      "displayName": "송효진",
      "userId": "08203763834765793541"
     }
    },
    "ExecuteTime": {
     "end_time": "2024-08-06T06:48:33.797254Z",
     "start_time": "2024-08-06T06:48:33.172279Z"
    }
   },
   "source": [
    "# doc2vec모델 : 아무것도 배우지 않은 모델\n",
    "# vector_size=a : 문서를 숫자로 바꾸었을 때 a개로 뽑기 (기본 크기 = 50,100,200,300)\n",
    "# 숫자의 의미를 알 수는 없다. -> 그냥 믿고 쓰는 것!\n",
    "model = doc2vec.Doc2Vec(vector_size=100, alpha=0.025, min_alpha=0.025, window=8)\n",
    "\n",
    "# Vocabulary 빌드 : 단어사전 구축\n",
    "model.build_vocab(tagged_corpus_list)\n",
    "\n",
    "# Doc2Vec 학습 : 문서를 숫자로 만들기 위한 학습\n",
    "#epochs가 너무 많이 돌아가면 과적합의 가능성 / 학습속도 느려짐 (epochs=5 / 총 5번 정도 학습해라)\n",
    "model.train(tagged_corpus_list, total_examples=model.corpus_count, epochs=5)"
   ],
   "outputs": [],
   "execution_count": 27
  },
  {
   "cell_type": "code",
   "source": [
    "# 대형 언어모델을 활용해서 enbedding을 연구하고 있다.\n",
    "# But 너무 광범위 하기 때문에 인사이트를 얻기 어렵다."
   ],
   "metadata": {
    "id": "igkBhPYdwi4Q",
    "executionInfo": {
     "status": "ok",
     "timestamp": 1722921193044,
     "user_tz": -540,
     "elapsed": 7,
     "user": {
      "displayName": "송효진",
      "userId": "08203763834765793541"
     }
    },
    "ExecuteTime": {
     "end_time": "2024-08-06T06:48:33.801197Z",
     "start_time": "2024-08-06T06:48:33.797254Z"
    }
   },
   "outputs": [],
   "execution_count": 28
  },
  {
   "cell_type": "code",
   "source": [
    "model.dv['document 0']"
   ],
   "metadata": {
    "colab": {
     "base_uri": "https://localhost:8080/"
    },
    "collapsed": true,
    "id": "Yi9VRCVPv8sW",
    "executionInfo": {
     "status": "ok",
     "timestamp": 1722921193045,
     "user_tz": -540,
     "elapsed": 7,
     "user": {
      "displayName": "송효진",
      "userId": "08203763834765793541"
     }
    },
    "outputId": "92d87e9f-120f-4c4d-bfd6-272e44cca4b8",
    "ExecuteTime": {
     "end_time": "2024-08-06T06:48:33.811537Z",
     "start_time": "2024-08-06T06:48:33.802220Z"
    }
   },
   "outputs": [
    {
     "data": {
      "text/plain": [
       "array([-0.02588208, -0.00854907, -0.00861599, -0.01953627,  0.02009119,\n",
       "       -0.07499222,  0.00511098,  0.05818273, -0.01437455, -0.0176849 ,\n",
       "       -0.0450553 , -0.05012287, -0.0201024 , -0.01077226,  0.00818822,\n",
       "       -0.03384194,  0.02259927, -0.04116542, -0.00740429, -0.07646134,\n",
       "        0.02740445,  0.02481266,  0.03360528, -0.00311591,  0.00975977,\n",
       "        0.00768411, -0.02849278, -0.07974888, -0.03868263, -0.01542491,\n",
       "        0.03989048,  0.02554326,  0.01358385, -0.03281668, -0.02495972,\n",
       "        0.05272548, -0.06016876, -0.04455191, -0.04027506, -0.07477862,\n",
       "       -0.05008788, -0.03564894,  0.00464963, -0.00859684,  0.07250945,\n",
       "       -0.05474475, -0.00799656, -0.0299265 ,  0.03770952,  0.00709211,\n",
       "        0.01036899, -0.03961872,  0.00302389, -0.00338975, -0.05161582,\n",
       "        0.04260079,  0.00272341, -0.03203419, -0.05623034,  0.03119535,\n",
       "       -0.00258744,  0.01554428, -0.01693122, -0.00084523, -0.03019992,\n",
       "        0.04437706,  0.0157761 ,  0.04767723, -0.06847007,  0.06454639,\n",
       "       -0.02555009,  0.02620799,  0.04359096, -0.01987653,  0.06314215,\n",
       "        0.02019641,  0.0223194 , -0.0255896 , -0.06011586,  0.00942333,\n",
       "       -0.02196053,  0.00989675, -0.06361883,  0.06058378,  0.00090075,\n",
       "        0.01347098,  0.02488695,  0.06393552,  0.06084059,  0.00963834,\n",
       "        0.07050119,  0.03892308, -0.01807047, -0.01338185,  0.09423533,\n",
       "        0.05529802,  0.04546506, -0.00319975, -0.00481449,  0.00541734],\n",
       "      dtype=float32)"
      ]
     },
     "execution_count": 29,
     "metadata": {},
     "output_type": "execute_result"
    }
   ],
   "execution_count": 29
  },
  {
   "cell_type": "markdown",
   "metadata": {
    "id": "CDhn23h_WIRa"
   },
   "source": [
    "### 3.3 벡터 값 데이터 프레임에 추가"
   ]
  },
  {
   "cell_type": "code",
   "metadata": {
    "colab": {
     "base_uri": "https://localhost:8080/"
    },
    "id": "V30iz4U8WIRa",
    "executionInfo": {
     "status": "ok",
     "timestamp": 1722921193045,
     "user_tz": -540,
     "elapsed": 7,
     "user": {
      "displayName": "송효진",
      "userId": "08203763834765793541"
     }
    },
    "outputId": "03aa719c-b20c-49fb-f85b-6e1a531bc3bf",
    "ExecuteTime": {
     "end_time": "2024-08-06T06:48:33.827022Z",
     "start_time": "2024-08-06T06:48:33.813533Z"
    }
   },
   "source": [
    "vector_list = []\n",
    "\n",
    "for i in tqdm(range(len(df))):\n",
    "    doc2vec = model.dv[\"document {}\".format(i)]\n",
    "    vector_list.append(doc2vec)"
   ],
   "outputs": [
    {
     "name": "stderr",
     "output_type": "stream",
     "text": [
      "100%|██████████| 4061/4061 [00:00<00:00, 800576.64it/s]\n"
     ]
    }
   ],
   "execution_count": 30
  },
  {
   "cell_type": "code",
   "source": [
    "df['vector'] = vector_list"
   ],
   "metadata": {
    "id": "HYfx5gNmwzYo",
    "executionInfo": {
     "status": "ok",
     "timestamp": 1722921193045,
     "user_tz": -540,
     "elapsed": 5,
     "user": {
      "displayName": "송효진",
      "userId": "08203763834765793541"
     }
    },
    "ExecuteTime": {
     "end_time": "2024-08-06T06:48:33.834330Z",
     "start_time": "2024-08-06T06:48:33.828022Z"
    }
   },
   "outputs": [],
   "execution_count": 31
  },
  {
   "cell_type": "code",
   "source": [
    "df.head()"
   ],
   "metadata": {
    "colab": {
     "base_uri": "https://localhost:8080/",
     "height": 553
    },
    "id": "BTjvvODLw21G",
    "executionInfo": {
     "status": "ok",
     "timestamp": 1722921193045,
     "user_tz": -540,
     "elapsed": 5,
     "user": {
      "displayName": "송효진",
      "userId": "08203763834765793541"
     }
    },
    "outputId": "f731031c-3dbf-41f9-be4c-80792d375b74",
    "ExecuteTime": {
     "end_time": "2024-08-06T06:48:33.853244Z",
     "start_time": "2024-08-06T06:48:33.837322Z"
    }
   },
   "outputs": [
    {
     "data": {
      "text/plain": [
       "           Date            Name  Score  \\\n",
       "0  2020년 1월 24일             홍현주      3   \n",
       "1   2020년 1월 7일              쌤쌤      3   \n",
       "2   2020년 1월 8일    Nicholas Jun      1   \n",
       "3  2020년 1월 24일        Hong KIM      1   \n",
       "4  2020년 1월 22일  byung-hyun cho      3   \n",
       "\n",
       "                                              Review  like  \\\n",
       "0  시스템에어컨 5대 연결해서 원격제어로 사용중입니다. 에어컨 기능은 공기청정기능까지 ...     2   \n",
       "1  인덕션 제어용으로 사용하려고 하는데 끄는 전용인건 좋은데 원격제어기능이 계속 꺼져야...     0   \n",
       "2  위례 사는 신혼 부부입니다. TV랑 공기청정기는 잘 연동시켰습니다. 오래 걸리지도 ...     0   \n",
       "3  세탁기 된다고 해서 연결했는데 놀라울 정도로 세상 쓰레기에요. 연결은 번거롭고 사용...     0   \n",
       "4  건조완료후 에어리플레쉬를 원격으로도 추가할 수 있도록 건조완료후 원격제어를 off하...     0   \n",
       "\n",
       "                                        Review_clean  \\\n",
       "0  시스템에어컨 5대 연결해서 원격제어로 사용중입니다. 에어컨 기능은 공기청정기능까지 ...   \n",
       "1  인덕션 제어용으로 사용하려고 하는데 끄는 전용인건 좋은데 원격제어기능이 계속 꺼져야...   \n",
       "2  위례 사는 신혼 부부입니다. TV랑 공기청정기는 잘 연동시켰습니다. 오래 걸리지도 ...   \n",
       "3  세탁기 된다고 해서 연결했는데 놀라울 정도로 세상 쓰레기에요. 연결은 번거롭고 사용...   \n",
       "4  건조완료후 에어리플레쉬를 원격으로도 추가할 수 있도록 건조완료후 원격제어를 off하...   \n",
       "\n",
       "                                       tagged_review  \\\n",
       "0  [시스템, 에어컨, 대다, 연결하다, 격, 제어, 사용, 에어컨, 기능, 공기청정기...   \n",
       "1  [인덕션, 제어, 용, 사용, 끄다, 전용, 건, 좋다, 격, 제어기, 능이, 계속...   \n",
       "2  [위례, 살다, 신혼, 부부, 공기청정기, 자다, 연동, 걸리다, 않다, 문제, 김...   \n",
       "3  [세탁기, 연결하다, 정도, 세상, 쓰레기, 연결, 번거롭다, 사용성, 까다롭다, ...   \n",
       "4  [건조, 완료, 후, 에어, 리플, 레쉬, 원격, 추가, 수, 건조, 완료, 후, ...   \n",
       "\n",
       "                                              vector  \n",
       "0  [-0.02588208, -0.008549074, -0.008615992, -0.0...  \n",
       "1  [-0.028808242, -0.02936835, -0.024815394, -0.0...  \n",
       "2  [-0.01910409, 0.0023352471, 0.019447336, -0.00...  \n",
       "3  [-0.010919327, 0.0038621244, 0.00045724883, -0...  \n",
       "4  [-0.029613342, -0.031387687, -0.018810509, -0....  "
      ],
      "text/html": [
       "<div>\n",
       "<style scoped>\n",
       "    .dataframe tbody tr th:only-of-type {\n",
       "        vertical-align: middle;\n",
       "    }\n",
       "\n",
       "    .dataframe tbody tr th {\n",
       "        vertical-align: top;\n",
       "    }\n",
       "\n",
       "    .dataframe thead th {\n",
       "        text-align: right;\n",
       "    }\n",
       "</style>\n",
       "<table border=\"1\" class=\"dataframe\">\n",
       "  <thead>\n",
       "    <tr style=\"text-align: right;\">\n",
       "      <th></th>\n",
       "      <th>Date</th>\n",
       "      <th>Name</th>\n",
       "      <th>Score</th>\n",
       "      <th>Review</th>\n",
       "      <th>like</th>\n",
       "      <th>Review_clean</th>\n",
       "      <th>tagged_review</th>\n",
       "      <th>vector</th>\n",
       "    </tr>\n",
       "  </thead>\n",
       "  <tbody>\n",
       "    <tr>\n",
       "      <th>0</th>\n",
       "      <td>2020년 1월 24일</td>\n",
       "      <td>홍현주</td>\n",
       "      <td>3</td>\n",
       "      <td>시스템에어컨 5대 연결해서 원격제어로 사용중입니다. 에어컨 기능은 공기청정기능까지 ...</td>\n",
       "      <td>2</td>\n",
       "      <td>시스템에어컨 5대 연결해서 원격제어로 사용중입니다. 에어컨 기능은 공기청정기능까지 ...</td>\n",
       "      <td>[시스템, 에어컨, 대다, 연결하다, 격, 제어, 사용, 에어컨, 기능, 공기청정기...</td>\n",
       "      <td>[-0.02588208, -0.008549074, -0.008615992, -0.0...</td>\n",
       "    </tr>\n",
       "    <tr>\n",
       "      <th>1</th>\n",
       "      <td>2020년 1월 7일</td>\n",
       "      <td>쌤쌤</td>\n",
       "      <td>3</td>\n",
       "      <td>인덕션 제어용으로 사용하려고 하는데 끄는 전용인건 좋은데 원격제어기능이 계속 꺼져야...</td>\n",
       "      <td>0</td>\n",
       "      <td>인덕션 제어용으로 사용하려고 하는데 끄는 전용인건 좋은데 원격제어기능이 계속 꺼져야...</td>\n",
       "      <td>[인덕션, 제어, 용, 사용, 끄다, 전용, 건, 좋다, 격, 제어기, 능이, 계속...</td>\n",
       "      <td>[-0.028808242, -0.02936835, -0.024815394, -0.0...</td>\n",
       "    </tr>\n",
       "    <tr>\n",
       "      <th>2</th>\n",
       "      <td>2020년 1월 8일</td>\n",
       "      <td>Nicholas Jun</td>\n",
       "      <td>1</td>\n",
       "      <td>위례 사는 신혼 부부입니다. TV랑 공기청정기는 잘 연동시켰습니다. 오래 걸리지도 ...</td>\n",
       "      <td>0</td>\n",
       "      <td>위례 사는 신혼 부부입니다. TV랑 공기청정기는 잘 연동시켰습니다. 오래 걸리지도 ...</td>\n",
       "      <td>[위례, 살다, 신혼, 부부, 공기청정기, 자다, 연동, 걸리다, 않다, 문제, 김...</td>\n",
       "      <td>[-0.01910409, 0.0023352471, 0.019447336, -0.00...</td>\n",
       "    </tr>\n",
       "    <tr>\n",
       "      <th>3</th>\n",
       "      <td>2020년 1월 24일</td>\n",
       "      <td>Hong KIM</td>\n",
       "      <td>1</td>\n",
       "      <td>세탁기 된다고 해서 연결했는데 놀라울 정도로 세상 쓰레기에요. 연결은 번거롭고 사용...</td>\n",
       "      <td>0</td>\n",
       "      <td>세탁기 된다고 해서 연결했는데 놀라울 정도로 세상 쓰레기에요. 연결은 번거롭고 사용...</td>\n",
       "      <td>[세탁기, 연결하다, 정도, 세상, 쓰레기, 연결, 번거롭다, 사용성, 까다롭다, ...</td>\n",
       "      <td>[-0.010919327, 0.0038621244, 0.00045724883, -0...</td>\n",
       "    </tr>\n",
       "    <tr>\n",
       "      <th>4</th>\n",
       "      <td>2020년 1월 22일</td>\n",
       "      <td>byung-hyun cho</td>\n",
       "      <td>3</td>\n",
       "      <td>건조완료후 에어리플레쉬를 원격으로도 추가할 수 있도록 건조완료후 원격제어를 off하...</td>\n",
       "      <td>0</td>\n",
       "      <td>건조완료후 에어리플레쉬를 원격으로도 추가할 수 있도록 건조완료후 원격제어를 off하...</td>\n",
       "      <td>[건조, 완료, 후, 에어, 리플, 레쉬, 원격, 추가, 수, 건조, 완료, 후, ...</td>\n",
       "      <td>[-0.029613342, -0.031387687, -0.018810509, -0....</td>\n",
       "    </tr>\n",
       "  </tbody>\n",
       "</table>\n",
       "</div>"
      ]
     },
     "execution_count": 32,
     "metadata": {},
     "output_type": "execute_result"
    }
   ],
   "execution_count": 32
  },
  {
   "cell_type": "markdown",
   "metadata": {
    "id": "UhLlnF4vWIRa"
   },
   "source": [
    "# ◆ 4. 병합 계층적 클러스터링\n",
    "* 4.1 ward 기준으로 덴드로그램 그려보기\n",
    "* 4.2 실루엣 지수 확인해서 토픽 갯수 정하기\n",
    "* 4.3 가장 적절한 클러스터링 갯수 df에 삽입"
   ]
  },
  {
   "cell_type": "code",
   "metadata": {
    "id": "YXRIJ0yuWIRb",
    "executionInfo": {
     "status": "ok",
     "timestamp": 1722921860988,
     "user_tz": -540,
     "elapsed": 325,
     "user": {
      "displayName": "송효진",
      "userId": "08203763834765793541"
     }
    },
    "ExecuteTime": {
     "end_time": "2024-08-06T06:48:34.368110Z",
     "start_time": "2024-08-06T06:48:33.854408Z"
    }
   },
   "source": [
    "from scipy.cluster.hierarchy import dendrogram, linkage\n",
    "from matplotlib import pyplot as plt"
   ],
   "outputs": [],
   "execution_count": 33
  },
  {
   "cell_type": "markdown",
   "metadata": {
    "id": "kUbhh4G3WIRb"
   },
   "source": [
    "### 4.1 ward 기준으로 덴드로그램 그려보기"
   ]
  },
  {
   "cell_type": "code",
   "source": [
    "# 좋은 군집 데이터 : 비슷한 데이터는 모이고, 각각의 개별 군집은 멀리 떨어져 있는 것\n",
    "# 몇개의 군집이 좋은지 알 수 있는 score 기법 : 실루엣 계수\n",
    "# 1에 가까울수록 괜찮은 군집이다."
   ],
   "metadata": {
    "id": "WskLKtGsJyrQ",
    "ExecuteTime": {
     "end_time": "2024-08-06T06:48:34.372947Z",
     "start_time": "2024-08-06T06:48:34.369247Z"
    }
   },
   "outputs": [],
   "execution_count": 34
  },
  {
   "cell_type": "code",
   "metadata": {
    "colab": {
     "base_uri": "https://localhost:8080/",
     "height": 615
    },
    "collapsed": true,
    "id": "MgKj8n4LWIRb",
    "executionInfo": {
     "status": "ok",
     "timestamp": 1722921924846,
     "user_tz": -540,
     "elapsed": 62022,
     "user": {
      "displayName": "송효진",
      "userId": "08203763834765793541"
     }
    },
    "outputId": "e4c2719a-88c0-42cc-ae8d-233b82b6173e",
    "ExecuteTime": {
     "end_time": "2024-08-06T06:48:50.927308Z",
     "start_time": "2024-08-06T06:48:34.374943Z"
    }
   },
   "source": [
    "linked = linkage(list(df['vector']), 'ward')\n",
    "\n",
    "plt.figure(figsize=(15, 9)) #인치\n",
    "dendrogram(linked,\n",
    "            orientation='top',# 위에서부터 아래로\n",
    "            distance_sort='descending',\n",
    "            show_leaf_counts=True)\n",
    "plt.show()"
   ],
   "outputs": [
    {
     "data": {
      "text/plain": [
       "<Figure size 1500x900 with 1 Axes>"
      ],
      "image/png": "[encoded data removed]"
     },
     "metadata": {},
     "output_type": "display_data"
    }
   ],
   "execution_count": 35
  },
  {
   "cell_type": "markdown",
   "metadata": {
    "id": "zrSJtLczWIRb"
   },
   "source": [
    "### 4.2 실루엣 지수 확인해서 토픽 갯수 정하기"
   ]
  },
  {
   "cell_type": "code",
   "metadata": {
    "id": "Xs7zImqoWIRb",
    "executionInfo": {
     "status": "ok",
     "timestamp": 1722922240752,
     "user_tz": -540,
     "elapsed": 327,
     "user": {
      "displayName": "송효진",
      "userId": "08203763834765793541"
     }
    },
    "ExecuteTime": {
     "end_time": "2024-08-06T06:48:51.219285Z",
     "start_time": "2024-08-06T06:48:50.928314Z"
    }
   },
   "source": [
    "from sklearn.metrics.cluster import silhouette_score\n",
    "from sklearn.cluster import AgglomerativeClustering"
   ],
   "outputs": [],
   "execution_count": 36
  },
  {
   "cell_type": "code",
   "source": [
    "# fit_predict : 학습과 예측을 한번에 할 수 있음\n",
    "# 실루엣계수 유용한 수치 : 0.5 이상"
   ],
   "metadata": {
    "id": "mTSZd9RDLS7J",
    "ExecuteTime": {
     "end_time": "2024-08-06T06:48:51.222743Z",
     "start_time": "2024-08-06T06:48:51.220286Z"
    }
   },
   "outputs": [],
   "execution_count": 37
  },
  {
   "cell_type": "code",
   "metadata": {
    "id": "7kjh2OB4WIRb",
    "executionInfo": {
     "status": "ok",
     "timestamp": 1722922252199,
     "user_tz": -540,
     "elapsed": 6816,
     "user": {
      "displayName": "송효진",
      "userId": "08203763834765793541"
     }
    },
    "ExecuteTime": {
     "end_time": "2024-08-06T06:48:51.989655Z",
     "start_time": "2024-08-06T06:48:51.223763Z"
    }
   },
   "source": [
    "#2개로만 뽑아보기\n",
    "\n",
    "cluster = AgglomerativeClustering(n_clusters=2,linkage='ward')\n",
    "cluster_labels = cluster.fit_predict(list(df['vector']))\n",
    "silhouette_avg = silhouette_score(list(df['vector']), cluster_labels)"
   ],
   "outputs": [],
   "execution_count": 38
  },
  {
   "cell_type": "code",
   "source": [
    "silhouette_avg"
   ],
   "metadata": {
    "colab": {
     "base_uri": "https://localhost:8080/"
    },
    "id": "0-mRbiKBLJGZ",
    "executionInfo": {
     "status": "ok",
     "timestamp": 1722922350143,
     "user_tz": -540,
     "elapsed": 6,
     "user": {
      "displayName": "송효진",
      "userId": "08203763834765793541"
     }
    },
    "outputId": "39123428-e478-4dc5-f53b-bbaff6972651",
    "ExecuteTime": {
     "end_time": "2024-08-06T06:48:51.994544Z",
     "start_time": "2024-08-06T06:48:51.990700Z"
    }
   },
   "outputs": [
    {
     "data": {
      "text/plain": [
       "0.52116096"
      ]
     },
     "execution_count": 39,
     "metadata": {},
     "output_type": "execute_result"
    }
   ],
   "execution_count": 39
  },
  {
   "cell_type": "markdown",
   "metadata": {
    "id": "oNeB6BfxWIRb"
   },
   "source": [
    "### 4.3 가장 적절한 클러스터링 갯수 df에 삽입"
   ]
  },
  {
   "cell_type": "code",
   "source": [
    "# 엘보우 기법 : 군집의 숫자를 결정하는 것에 있어서 급격하게 변화하는 그래프를 통해서 확인하는 방식"
   ],
   "metadata": {
    "id": "fDkbsquuL6vE",
    "ExecuteTime": {
     "end_time": "2024-08-06T06:48:52.000665Z",
     "start_time": "2024-08-06T06:48:51.995543Z"
    }
   },
   "outputs": [],
   "execution_count": 40
  },
  {
   "cell_type": "code",
   "metadata": {
    "colab": {
     "base_uri": "https://localhost:8080/"
    },
    "id": "rm5_2NBbWIRb",
    "executionInfo": {
     "status": "ok",
     "timestamp": 1722922844687,
     "user_tz": -540,
     "elapsed": 60288,
     "user": {
      "displayName": "송효진",
      "userId": "08203763834765793541"
     }
    },
    "outputId": "46016e07-860c-4b7e-faf2-3f9fbb4c21df",
    "ExecuteTime": {
     "end_time": "2024-08-06T06:49:12.925854Z",
     "start_time": "2024-08-06T06:48:52.003099Z"
    }
   },
   "source": [
    "n_clutser=[]\n",
    "clustering_score = []\n",
    "for i in tqdm(range(2, 30)): # 군집을 2개부터 29개까지 만들것이다.\n",
    "    cluster = AgglomerativeClustering(n_clusters=i,linkage='ward')\n",
    "    cluster_labels = cluster.fit_predict(list(df['vector']))\n",
    "    score = silhouette_score(list(df['vector']), cluster_labels)\n",
    "\n",
    "    n_clutser.append(i)\n",
    "    clustering_score.append(score)"
   ],
   "outputs": [
    {
     "name": "stderr",
     "output_type": "stream",
     "text": [
      "100%|██████████| 28/28 [00:20<00:00,  1.34it/s]\n"
     ]
    }
   ],
   "execution_count": 41
  },
  {
   "cell_type": "code",
   "source": [
    "# 시각화 코드\n",
    "plt.plot(n_clutser, clustering_score)"
   ],
   "metadata": {
    "colab": {
     "base_uri": "https://localhost:8080/",
     "height": 448
    },
    "collapsed": true,
    "id": "X5iwN_4SNFtD",
    "executionInfo": {
     "status": "ok",
     "timestamp": 1722923186569,
     "user_tz": -540,
     "elapsed": 881,
     "user": {
      "displayName": "송효진",
      "userId": "08203763834765793541"
     }
    },
    "outputId": "4adf15fa-f101-4e39-fff4-3c86309dbb60",
    "ExecuteTime": {
     "end_time": "2024-08-06T06:49:13.221034Z",
     "start_time": "2024-08-06T06:49:12.926853Z"
    }
   },
   "outputs": [
    {
     "data": {
      "text/plain": [
       "[<matplotlib.lines.Line2D at 0x1a46391e510>]"
      ]
     },
     "execution_count": 42,
     "metadata": {},
     "output_type": "execute_result"
    },
    {
     "data": {
      "text/plain": [
       "<Figure size 640x480 with 1 Axes>"
      ],
      "image/png": "[encoded data removed]"
     },
     "metadata": {},
     "output_type": "display_data"
    }
   ],
   "execution_count": 42
  },
  {
   "cell_type": "code",
   "source": [
    "# 그래프 데이터프레임\n",
    "result = pd.DataFrame({'n_cluster':n_clutser, 'score':clustering_score})\n",
    "result"
   ],
   "metadata": {
    "colab": {
     "base_uri": "https://localhost:8080/",
     "height": 927
    },
    "collapsed": true,
    "id": "opG-sEraOIB7",
    "executionInfo": {
     "status": "ok",
     "timestamp": 1722923189418,
     "user_tz": -540,
     "elapsed": 542,
     "user": {
      "displayName": "송효진",
      "userId": "08203763834765793541"
     }
    },
    "outputId": "116b2c78-70f1-4232-ea1e-28b7a27d83f4",
    "ExecuteTime": {
     "end_time": "2024-08-06T06:49:13.230076Z",
     "start_time": "2024-08-06T06:49:13.222078Z"
    }
   },
   "outputs": [
    {
     "data": {
      "text/plain": [
       "    n_cluster     score\n",
       "0           2  0.521161\n",
       "1           3  0.244972\n",
       "2           4  0.243204\n",
       "3           5  0.152941\n",
       "4           6  0.145868\n",
       "5           7  0.126484\n",
       "6           8  0.128280\n",
       "7           9  0.129693\n",
       "8          10  0.116105\n",
       "9          11  0.113761\n",
       "10         12  0.092847\n",
       "11         13  0.093186\n",
       "12         14  0.096124\n",
       "13         15  0.097846\n",
       "14         16  0.100672\n",
       "15         17  0.075775\n",
       "16         18  0.071590\n",
       "17         19  0.058805\n",
       "18         20  0.057527\n",
       "19         21  0.055079\n",
       "20         22  0.055326\n",
       "21         23  0.057344\n",
       "22         24  0.056359\n",
       "23         25  0.057404\n",
       "24         26  0.051190\n",
       "25         27  0.048351\n",
       "26         28  0.045919\n",
       "27         29  0.044900"
      ],
      "text/html": [
       "<div>\n",
       "<style scoped>\n",
       "    .dataframe tbody tr th:only-of-type {\n",
       "        vertical-align: middle;\n",
       "    }\n",
       "\n",
       "    .dataframe tbody tr th {\n",
       "        vertical-align: top;\n",
       "    }\n",
       "\n",
       "    .dataframe thead th {\n",
       "        text-align: right;\n",
       "    }\n",
       "</style>\n",
       "<table border=\"1\" class=\"dataframe\">\n",
       "  <thead>\n",
       "    <tr style=\"text-align: right;\">\n",
       "      <th></th>\n",
       "      <th>n_cluster</th>\n",
       "      <th>score</th>\n",
       "    </tr>\n",
       "  </thead>\n",
       "  <tbody>\n",
       "    <tr>\n",
       "      <th>0</th>\n",
       "      <td>2</td>\n",
       "      <td>0.521161</td>\n",
       "    </tr>\n",
       "    <tr>\n",
       "      <th>1</th>\n",
       "      <td>3</td>\n",
       "      <td>0.244972</td>\n",
       "    </tr>\n",
       "    <tr>\n",
       "      <th>2</th>\n",
       "      <td>4</td>\n",
       "      <td>0.243204</td>\n",
       "    </tr>\n",
       "    <tr>\n",
       "      <th>3</th>\n",
       "      <td>5</td>\n",
       "      <td>0.152941</td>\n",
       "    </tr>\n",
       "    <tr>\n",
       "      <th>4</th>\n",
       "      <td>6</td>\n",
       "      <td>0.145868</td>\n",
       "    </tr>\n",
       "    <tr>\n",
       "      <th>5</th>\n",
       "      <td>7</td>\n",
       "      <td>0.126484</td>\n",
       "    </tr>\n",
       "    <tr>\n",
       "      <th>6</th>\n",
       "      <td>8</td>\n",
       "      <td>0.128280</td>\n",
       "    </tr>\n",
       "    <tr>\n",
       "      <th>7</th>\n",
       "      <td>9</td>\n",
       "      <td>0.129693</td>\n",
       "    </tr>\n",
       "    <tr>\n",
       "      <th>8</th>\n",
       "      <td>10</td>\n",
       "      <td>0.116105</td>\n",
       "    </tr>\n",
       "    <tr>\n",
       "      <th>9</th>\n",
       "      <td>11</td>\n",
       "      <td>0.113761</td>\n",
       "    </tr>\n",
       "    <tr>\n",
       "      <th>10</th>\n",
       "      <td>12</td>\n",
       "      <td>0.092847</td>\n",
       "    </tr>\n",
       "    <tr>\n",
       "      <th>11</th>\n",
       "      <td>13</td>\n",
       "      <td>0.093186</td>\n",
       "    </tr>\n",
       "    <tr>\n",
       "      <th>12</th>\n",
       "      <td>14</td>\n",
       "      <td>0.096124</td>\n",
       "    </tr>\n",
       "    <tr>\n",
       "      <th>13</th>\n",
       "      <td>15</td>\n",
       "      <td>0.097846</td>\n",
       "    </tr>\n",
       "    <tr>\n",
       "      <th>14</th>\n",
       "      <td>16</td>\n",
       "      <td>0.100672</td>\n",
       "    </tr>\n",
       "    <tr>\n",
       "      <th>15</th>\n",
       "      <td>17</td>\n",
       "      <td>0.075775</td>\n",
       "    </tr>\n",
       "    <tr>\n",
       "      <th>16</th>\n",
       "      <td>18</td>\n",
       "      <td>0.071590</td>\n",
       "    </tr>\n",
       "    <tr>\n",
       "      <th>17</th>\n",
       "      <td>19</td>\n",
       "      <td>0.058805</td>\n",
       "    </tr>\n",
       "    <tr>\n",
       "      <th>18</th>\n",
       "      <td>20</td>\n",
       "      <td>0.057527</td>\n",
       "    </tr>\n",
       "    <tr>\n",
       "      <th>19</th>\n",
       "      <td>21</td>\n",
       "      <td>0.055079</td>\n",
       "    </tr>\n",
       "    <tr>\n",
       "      <th>20</th>\n",
       "      <td>22</td>\n",
       "      <td>0.055326</td>\n",
       "    </tr>\n",
       "    <tr>\n",
       "      <th>21</th>\n",
       "      <td>23</td>\n",
       "      <td>0.057344</td>\n",
       "    </tr>\n",
       "    <tr>\n",
       "      <th>22</th>\n",
       "      <td>24</td>\n",
       "      <td>0.056359</td>\n",
       "    </tr>\n",
       "    <tr>\n",
       "      <th>23</th>\n",
       "      <td>25</td>\n",
       "      <td>0.057404</td>\n",
       "    </tr>\n",
       "    <tr>\n",
       "      <th>24</th>\n",
       "      <td>26</td>\n",
       "      <td>0.051190</td>\n",
       "    </tr>\n",
       "    <tr>\n",
       "      <th>25</th>\n",
       "      <td>27</td>\n",
       "      <td>0.048351</td>\n",
       "    </tr>\n",
       "    <tr>\n",
       "      <th>26</th>\n",
       "      <td>28</td>\n",
       "      <td>0.045919</td>\n",
       "    </tr>\n",
       "    <tr>\n",
       "      <th>27</th>\n",
       "      <td>29</td>\n",
       "      <td>0.044900</td>\n",
       "    </tr>\n",
       "  </tbody>\n",
       "</table>\n",
       "</div>"
      ]
     },
     "execution_count": 43,
     "metadata": {},
     "output_type": "execute_result"
    }
   ],
   "execution_count": 43
  },
  {
   "cell_type": "code",
   "source": [
    "cluster = AgglomerativeClustering(n_clusters=6,linkage='ward')\n",
    "cluster_labels = cluster.fit_predict(list(df['vector']))\n",
    "\n",
    "df['cluster'] = cluster_labels\n",
    "df.head()"
   ],
   "metadata": {
    "colab": {
     "base_uri": "https://localhost:8080/",
     "height": 622
    },
    "collapsed": true,
    "id": "BHb_XvUnOkWK",
    "executionInfo": {
     "status": "ok",
     "timestamp": 1722923250913,
     "user_tz": -540,
     "elapsed": 3869,
     "user": {
      "displayName": "송효진",
      "userId": "08203763834765793541"
     }
    },
    "outputId": "6a7bd540-c0b1-4a1e-d150-79dde2295f91",
    "ExecuteTime": {
     "end_time": "2024-08-06T06:49:13.994971Z",
     "start_time": "2024-08-06T06:49:13.231076Z"
    }
   },
   "outputs": [
    {
     "data": {
      "text/plain": [
       "           Date            Name  Score  \\\n",
       "0  2020년 1월 24일             홍현주      3   \n",
       "1   2020년 1월 7일              쌤쌤      3   \n",
       "2   2020년 1월 8일    Nicholas Jun      1   \n",
       "3  2020년 1월 24일        Hong KIM      1   \n",
       "4  2020년 1월 22일  byung-hyun cho      3   \n",
       "\n",
       "                                              Review  like  \\\n",
       "0  시스템에어컨 5대 연결해서 원격제어로 사용중입니다. 에어컨 기능은 공기청정기능까지 ...     2   \n",
       "1  인덕션 제어용으로 사용하려고 하는데 끄는 전용인건 좋은데 원격제어기능이 계속 꺼져야...     0   \n",
       "2  위례 사는 신혼 부부입니다. TV랑 공기청정기는 잘 연동시켰습니다. 오래 걸리지도 ...     0   \n",
       "3  세탁기 된다고 해서 연결했는데 놀라울 정도로 세상 쓰레기에요. 연결은 번거롭고 사용...     0   \n",
       "4  건조완료후 에어리플레쉬를 원격으로도 추가할 수 있도록 건조완료후 원격제어를 off하...     0   \n",
       "\n",
       "                                        Review_clean  \\\n",
       "0  시스템에어컨 5대 연결해서 원격제어로 사용중입니다. 에어컨 기능은 공기청정기능까지 ...   \n",
       "1  인덕션 제어용으로 사용하려고 하는데 끄는 전용인건 좋은데 원격제어기능이 계속 꺼져야...   \n",
       "2  위례 사는 신혼 부부입니다. TV랑 공기청정기는 잘 연동시켰습니다. 오래 걸리지도 ...   \n",
       "3  세탁기 된다고 해서 연결했는데 놀라울 정도로 세상 쓰레기에요. 연결은 번거롭고 사용...   \n",
       "4  건조완료후 에어리플레쉬를 원격으로도 추가할 수 있도록 건조완료후 원격제어를 off하...   \n",
       "\n",
       "                                       tagged_review  \\\n",
       "0  [시스템, 에어컨, 대다, 연결하다, 격, 제어, 사용, 에어컨, 기능, 공기청정기...   \n",
       "1  [인덕션, 제어, 용, 사용, 끄다, 전용, 건, 좋다, 격, 제어기, 능이, 계속...   \n",
       "2  [위례, 살다, 신혼, 부부, 공기청정기, 자다, 연동, 걸리다, 않다, 문제, 김...   \n",
       "3  [세탁기, 연결하다, 정도, 세상, 쓰레기, 연결, 번거롭다, 사용성, 까다롭다, ...   \n",
       "4  [건조, 완료, 후, 에어, 리플, 레쉬, 원격, 추가, 수, 건조, 완료, 후, ...   \n",
       "\n",
       "                                              vector  cluster  \n",
       "0  [-0.02588208, -0.008549074, -0.008615992, -0.0...        2  \n",
       "1  [-0.028808242, -0.02936835, -0.024815394, -0.0...        1  \n",
       "2  [-0.01910409, 0.0023352471, 0.019447336, -0.00...        2  \n",
       "3  [-0.010919327, 0.0038621244, 0.00045724883, -0...        1  \n",
       "4  [-0.029613342, -0.031387687, -0.018810509, -0....        1  "
      ],
      "text/html": [
       "<div>\n",
       "<style scoped>\n",
       "    .dataframe tbody tr th:only-of-type {\n",
       "        vertical-align: middle;\n",
       "    }\n",
       "\n",
       "    .dataframe tbody tr th {\n",
       "        vertical-align: top;\n",
       "    }\n",
       "\n",
       "    .dataframe thead th {\n",
       "        text-align: right;\n",
       "    }\n",
       "</style>\n",
       "<table border=\"1\" class=\"dataframe\">\n",
       "  <thead>\n",
       "    <tr style=\"text-align: right;\">\n",
       "      <th></th>\n",
       "      <th>Date</th>\n",
       "      <th>Name</th>\n",
       "      <th>Score</th>\n",
       "      <th>Review</th>\n",
       "      <th>like</th>\n",
       "      <th>Review_clean</th>\n",
       "      <th>tagged_review</th>\n",
       "      <th>vector</th>\n",
       "      <th>cluster</th>\n",
       "    </tr>\n",
       "  </thead>\n",
       "  <tbody>\n",
       "    <tr>\n",
       "      <th>0</th>\n",
       "      <td>2020년 1월 24일</td>\n",
       "      <td>홍현주</td>\n",
       "      <td>3</td>\n",
       "      <td>시스템에어컨 5대 연결해서 원격제어로 사용중입니다. 에어컨 기능은 공기청정기능까지 ...</td>\n",
       "      <td>2</td>\n",
       "      <td>시스템에어컨 5대 연결해서 원격제어로 사용중입니다. 에어컨 기능은 공기청정기능까지 ...</td>\n",
       "      <td>[시스템, 에어컨, 대다, 연결하다, 격, 제어, 사용, 에어컨, 기능, 공기청정기...</td>\n",
       "      <td>[-0.02588208, -0.008549074, -0.008615992, -0.0...</td>\n",
       "      <td>2</td>\n",
       "    </tr>\n",
       "    <tr>\n",
       "      <th>1</th>\n",
       "      <td>2020년 1월 7일</td>\n",
       "      <td>쌤쌤</td>\n",
       "      <td>3</td>\n",
       "      <td>인덕션 제어용으로 사용하려고 하는데 끄는 전용인건 좋은데 원격제어기능이 계속 꺼져야...</td>\n",
       "      <td>0</td>\n",
       "      <td>인덕션 제어용으로 사용하려고 하는데 끄는 전용인건 좋은데 원격제어기능이 계속 꺼져야...</td>\n",
       "      <td>[인덕션, 제어, 용, 사용, 끄다, 전용, 건, 좋다, 격, 제어기, 능이, 계속...</td>\n",
       "      <td>[-0.028808242, -0.02936835, -0.024815394, -0.0...</td>\n",
       "      <td>1</td>\n",
       "    </tr>\n",
       "    <tr>\n",
       "      <th>2</th>\n",
       "      <td>2020년 1월 8일</td>\n",
       "      <td>Nicholas Jun</td>\n",
       "      <td>1</td>\n",
       "      <td>위례 사는 신혼 부부입니다. TV랑 공기청정기는 잘 연동시켰습니다. 오래 걸리지도 ...</td>\n",
       "      <td>0</td>\n",
       "      <td>위례 사는 신혼 부부입니다. TV랑 공기청정기는 잘 연동시켰습니다. 오래 걸리지도 ...</td>\n",
       "      <td>[위례, 살다, 신혼, 부부, 공기청정기, 자다, 연동, 걸리다, 않다, 문제, 김...</td>\n",
       "      <td>[-0.01910409, 0.0023352471, 0.019447336, -0.00...</td>\n",
       "      <td>2</td>\n",
       "    </tr>\n",
       "    <tr>\n",
       "      <th>3</th>\n",
       "      <td>2020년 1월 24일</td>\n",
       "      <td>Hong KIM</td>\n",
       "      <td>1</td>\n",
       "      <td>세탁기 된다고 해서 연결했는데 놀라울 정도로 세상 쓰레기에요. 연결은 번거롭고 사용...</td>\n",
       "      <td>0</td>\n",
       "      <td>세탁기 된다고 해서 연결했는데 놀라울 정도로 세상 쓰레기에요. 연결은 번거롭고 사용...</td>\n",
       "      <td>[세탁기, 연결하다, 정도, 세상, 쓰레기, 연결, 번거롭다, 사용성, 까다롭다, ...</td>\n",
       "      <td>[-0.010919327, 0.0038621244, 0.00045724883, -0...</td>\n",
       "      <td>1</td>\n",
       "    </tr>\n",
       "    <tr>\n",
       "      <th>4</th>\n",
       "      <td>2020년 1월 22일</td>\n",
       "      <td>byung-hyun cho</td>\n",
       "      <td>3</td>\n",
       "      <td>건조완료후 에어리플레쉬를 원격으로도 추가할 수 있도록 건조완료후 원격제어를 off하...</td>\n",
       "      <td>0</td>\n",
       "      <td>건조완료후 에어리플레쉬를 원격으로도 추가할 수 있도록 건조완료후 원격제어를 off하...</td>\n",
       "      <td>[건조, 완료, 후, 에어, 리플, 레쉬, 원격, 추가, 수, 건조, 완료, 후, ...</td>\n",
       "      <td>[-0.029613342, -0.031387687, -0.018810509, -0....</td>\n",
       "      <td>1</td>\n",
       "    </tr>\n",
       "  </tbody>\n",
       "</table>\n",
       "</div>"
      ]
     },
     "execution_count": 44,
     "metadata": {},
     "output_type": "execute_result"
    }
   ],
   "execution_count": 44
  },
  {
   "cell_type": "markdown",
   "metadata": {
    "id": "6kmDYhqnWIRb"
   },
   "source": [
    "# ◆ 5. 해석하기:TF-IDF\n",
    "* 문서 내에서 어떤 단어가 얼마나 중요한지를 평가하는 데 사용되는 방법\n",
    "* 5.1 TF-IDF 계산\n",
    "* 5.2 데이터프레임으로 만들고 정렬하기"
   ]
  },
  {
   "cell_type": "markdown",
   "metadata": {
    "id": "dBTtu9d9WIRc"
   },
   "source": [
    "### 5.1 TF-idf 계산\n",
    "* 각 클러스터 마다 tfidf가 높은 워드들 찾기\n",
    "* 각 클러스터들을 하나의 문서로 가정하여 tf-idf 값 추출"
   ]
  },
  {
   "cell_type": "markdown",
   "source": "",
   "metadata": {
    "id": "_34sGr8XPe3Y"
   }
  },
  {
   "cell_type": "markdown",
   "source": "",
   "metadata": {
    "id": "tX71nKjLPg4j"
   }
  },
  {
   "cell_type": "code",
   "source": [
    "# 한문서(한문장)에서는 자주 등장하지만, 전체문서(전체문장)에서는 자주 등장하지 않는 단어가 의미있는 단어"
   ],
   "metadata": {
    "id": "GyjwIk77Pk2l",
    "ExecuteTime": {
     "end_time": "2024-08-06T06:49:14.000858Z",
     "start_time": "2024-08-06T06:49:13.996994Z"
    }
   },
   "outputs": [],
   "execution_count": 45
  },
  {
   "cell_type": "code",
   "metadata": {
    "id": "k9aFh3E0WIRc",
    "executionInfo": {
     "status": "ok",
     "timestamp": 1722921194150,
     "user_tz": -540,
     "elapsed": 8,
     "user": {
      "displayName": "송효진",
      "userId": "08203763834765793541"
     }
    },
    "ExecuteTime": {
     "end_time": "2024-08-06T06:49:14.019441Z",
     "start_time": "2024-08-06T06:49:14.001858Z"
    }
   },
   "source": [
    "from collections import Counter\n",
    "import numpy as np\n",
    "from sklearn.feature_extraction.text import TfidfVectorizer"
   ],
   "outputs": [],
   "execution_count": 46
  },
  {
   "cell_type": "code",
   "metadata": {
    "id": "YNCfqN_XWIRc",
    "executionInfo": {
     "status": "ok",
     "timestamp": 1722923688506,
     "user_tz": -540,
     "elapsed": 323,
     "user": {
      "displayName": "송효진",
      "userId": "08203763834765793541"
     }
    },
    "ExecuteTime": {
     "end_time": "2024-08-06T06:49:14.057436Z",
     "start_time": "2024-08-06T06:49:14.021911Z"
    }
   },
   "source": [
    "#각 클러스터들을 하나의 문서로 가정\n",
    "all_document=[]\n",
    "for i in df['cluster'].unique(): # 0~5군집까지\n",
    "\n",
    "    #각 클러스터들을 하나의 문서로 가정\n",
    "    #데이터 프레임에서 추출하여 tagged_Review를 join을 이용하여 합치기\n",
    "    pos_tagged = df[df['cluster']==i].tagged_review # boolen indexing : 해당 군집에 있는 데이터만 추출\n",
    "\n",
    "    #포스태깅된 데이터들을 공백 기준으로 하나로 합쳐 하나의 document로 생성\n",
    "    cluster_document=''\n",
    "    for pos in pos_tagged:\n",
    "        doc = ' '.join(pos)\n",
    "        cluster_document += doc\n",
    "\n",
    "    all_document.append(cluster_document)"
   ],
   "outputs": [],
   "execution_count": 47
  },
  {
   "cell_type": "code",
   "source": [
    "vectorizer = TfidfVectorizer()\n",
    "tfidf_matrix = vectorizer.fit_transform(all_document)"
   ],
   "metadata": {
    "id": "UxgsW9SjRG_4",
    "executionInfo": {
     "status": "ok",
     "timestamp": 1722923909260,
     "user_tz": -540,
     "elapsed": 1112,
     "user": {
      "displayName": "송효진",
      "userId": "08203763834765793541"
     }
    },
    "ExecuteTime": {
     "end_time": "2024-08-06T06:49:14.113457Z",
     "start_time": "2024-08-06T06:49:14.059941Z"
    }
   },
   "outputs": [],
   "execution_count": 48
  },
  {
   "cell_type": "code",
   "source": [
    "# 각 단어와 TF-IDF 값을 확인\n",
    "feature_names = vectorizer.get_feature_names_out()\n",
    "dense = tfidf_matrix.todense()\n",
    "tf_idf_df = pd.DataFrame(dense, columns=feature_names)\n",
    "tf_idf_df"
   ],
   "metadata": {
    "colab": {
     "base_uri": "https://localhost:8080/",
     "height": 304
    },
    "id": "erbkWEvhRIAY",
    "executionInfo": {
     "status": "ok",
     "timestamp": 1722923921439,
     "user_tz": -540,
     "elapsed": 341,
     "user": {
      "displayName": "송효진",
      "userId": "08203763834765793541"
     }
    },
    "outputId": "c6e5b49a-eee0-4c7a-d58b-41e0abc0fd46",
    "ExecuteTime": {
     "end_time": "2024-08-06T06:49:14.134514Z",
     "start_time": "2024-08-06T06:49:14.115452Z"
    }
   },
   "outputs": [
    {
     "data": {
      "text/plain": [
       "         가게        가격        가구        가기    가까워지다       가까이       가깝다  \\\n",
       "0  0.000000  0.011293  0.000000  0.000000  0.00000  0.000000  0.013178   \n",
       "1  0.000000  0.001416  0.002387  0.001653  0.00000  0.000000  0.000000   \n",
       "2  0.002311  0.000000  0.000000  0.003902  0.00000  0.000000  0.000000   \n",
       "3  0.004035  0.008757  0.000000  0.000000  0.00000  0.004035  0.000000   \n",
       "4  0.000000  0.005624  0.000000  0.006563  0.00948  0.007774  0.006563   \n",
       "5  0.000000  0.000000  0.000000  0.000000  0.00000  0.000000  0.021099   \n",
       "\n",
       "         가끔      가끔설정      가끔완료  ...        희망        흰색      히스토리        히키  \\\n",
       "0  0.000000  0.000000  0.000000  ...  0.000000  0.006345  0.000000  0.000000   \n",
       "1  0.007337  0.002387  0.002387  ...  0.001653  0.000000  0.000000  0.002387   \n",
       "2  0.007219  0.000000  0.000000  ...  0.001951  0.000000  0.002818  0.000000   \n",
       "3  0.017645  0.000000  0.000000  ...  0.003406  0.000000  0.000000  0.000000   \n",
       "4  0.009714  0.000000  0.000000  ...  0.000000  0.000000  0.000000  0.000000   \n",
       "5  0.007807  0.000000  0.000000  ...  0.000000  0.000000  0.000000  0.000000   \n",
       "\n",
       "      힘내다최근       힘드다     힘드다요즘       힘들다    힘들다서버       힘쓰다  \n",
       "0  0.006345  0.000000  0.000000  0.000000  0.00000  0.000000  \n",
       "1  0.000000  0.003669  0.002387  0.002446  0.00000  0.000000  \n",
       "2  0.000000  0.001444  0.000000  0.005775  0.00000  0.000000  \n",
       "3  0.000000  0.005041  0.000000  0.002521  0.00492  0.000000  \n",
       "4  0.000000  0.004857  0.000000  0.004857  0.00000  0.000000  \n",
       "5  0.000000  0.007807  0.000000  0.046842  0.00000  0.015238  \n",
       "\n",
       "[6 rows x 7001 columns]"
      ],
      "text/html": [
       "<div>\n",
       "<style scoped>\n",
       "    .dataframe tbody tr th:only-of-type {\n",
       "        vertical-align: middle;\n",
       "    }\n",
       "\n",
       "    .dataframe tbody tr th {\n",
       "        vertical-align: top;\n",
       "    }\n",
       "\n",
       "    .dataframe thead th {\n",
       "        text-align: right;\n",
       "    }\n",
       "</style>\n",
       "<table border=\"1\" class=\"dataframe\">\n",
       "  <thead>\n",
       "    <tr style=\"text-align: right;\">\n",
       "      <th></th>\n",
       "      <th>가게</th>\n",
       "      <th>가격</th>\n",
       "      <th>가구</th>\n",
       "      <th>가기</th>\n",
       "      <th>가까워지다</th>\n",
       "      <th>가까이</th>\n",
       "      <th>가깝다</th>\n",
       "      <th>가끔</th>\n",
       "      <th>가끔설정</th>\n",
       "      <th>가끔완료</th>\n",
       "      <th>...</th>\n",
       "      <th>희망</th>\n",
       "      <th>흰색</th>\n",
       "      <th>히스토리</th>\n",
       "      <th>히키</th>\n",
       "      <th>힘내다최근</th>\n",
       "      <th>힘드다</th>\n",
       "      <th>힘드다요즘</th>\n",
       "      <th>힘들다</th>\n",
       "      <th>힘들다서버</th>\n",
       "      <th>힘쓰다</th>\n",
       "    </tr>\n",
       "  </thead>\n",
       "  <tbody>\n",
       "    <tr>\n",
       "      <th>0</th>\n",
       "      <td>0.000000</td>\n",
       "      <td>0.011293</td>\n",
       "      <td>0.000000</td>\n",
       "      <td>0.000000</td>\n",
       "      <td>0.00000</td>\n",
       "      <td>0.000000</td>\n",
       "      <td>0.013178</td>\n",
       "      <td>0.000000</td>\n",
       "      <td>0.000000</td>\n",
       "      <td>0.000000</td>\n",
       "      <td>...</td>\n",
       "      <td>0.000000</td>\n",
       "      <td>0.006345</td>\n",
       "      <td>0.000000</td>\n",
       "      <td>0.000000</td>\n",
       "      <td>0.006345</td>\n",
       "      <td>0.000000</td>\n",
       "      <td>0.000000</td>\n",
       "      <td>0.000000</td>\n",
       "      <td>0.00000</td>\n",
       "      <td>0.000000</td>\n",
       "    </tr>\n",
       "    <tr>\n",
       "      <th>1</th>\n",
       "      <td>0.000000</td>\n",
       "      <td>0.001416</td>\n",
       "      <td>0.002387</td>\n",
       "      <td>0.001653</td>\n",
       "      <td>0.00000</td>\n",
       "      <td>0.000000</td>\n",
       "      <td>0.000000</td>\n",
       "      <td>0.007337</td>\n",
       "      <td>0.002387</td>\n",
       "      <td>0.002387</td>\n",
       "      <td>...</td>\n",
       "      <td>0.001653</td>\n",
       "      <td>0.000000</td>\n",
       "      <td>0.000000</td>\n",
       "      <td>0.002387</td>\n",
       "      <td>0.000000</td>\n",
       "      <td>0.003669</td>\n",
       "      <td>0.002387</td>\n",
       "      <td>0.002446</td>\n",
       "      <td>0.00000</td>\n",
       "      <td>0.000000</td>\n",
       "    </tr>\n",
       "    <tr>\n",
       "      <th>2</th>\n",
       "      <td>0.002311</td>\n",
       "      <td>0.000000</td>\n",
       "      <td>0.000000</td>\n",
       "      <td>0.003902</td>\n",
       "      <td>0.00000</td>\n",
       "      <td>0.000000</td>\n",
       "      <td>0.000000</td>\n",
       "      <td>0.007219</td>\n",
       "      <td>0.000000</td>\n",
       "      <td>0.000000</td>\n",
       "      <td>...</td>\n",
       "      <td>0.001951</td>\n",
       "      <td>0.000000</td>\n",
       "      <td>0.002818</td>\n",
       "      <td>0.000000</td>\n",
       "      <td>0.000000</td>\n",
       "      <td>0.001444</td>\n",
       "      <td>0.000000</td>\n",
       "      <td>0.005775</td>\n",
       "      <td>0.00000</td>\n",
       "      <td>0.000000</td>\n",
       "    </tr>\n",
       "    <tr>\n",
       "      <th>3</th>\n",
       "      <td>0.004035</td>\n",
       "      <td>0.008757</td>\n",
       "      <td>0.000000</td>\n",
       "      <td>0.000000</td>\n",
       "      <td>0.00000</td>\n",
       "      <td>0.004035</td>\n",
       "      <td>0.000000</td>\n",
       "      <td>0.017645</td>\n",
       "      <td>0.000000</td>\n",
       "      <td>0.000000</td>\n",
       "      <td>...</td>\n",
       "      <td>0.003406</td>\n",
       "      <td>0.000000</td>\n",
       "      <td>0.000000</td>\n",
       "      <td>0.000000</td>\n",
       "      <td>0.000000</td>\n",
       "      <td>0.005041</td>\n",
       "      <td>0.000000</td>\n",
       "      <td>0.002521</td>\n",
       "      <td>0.00492</td>\n",
       "      <td>0.000000</td>\n",
       "    </tr>\n",
       "    <tr>\n",
       "      <th>4</th>\n",
       "      <td>0.000000</td>\n",
       "      <td>0.005624</td>\n",
       "      <td>0.000000</td>\n",
       "      <td>0.006563</td>\n",
       "      <td>0.00948</td>\n",
       "      <td>0.007774</td>\n",
       "      <td>0.006563</td>\n",
       "      <td>0.009714</td>\n",
       "      <td>0.000000</td>\n",
       "      <td>0.000000</td>\n",
       "      <td>...</td>\n",
       "      <td>0.000000</td>\n",
       "      <td>0.000000</td>\n",
       "      <td>0.000000</td>\n",
       "      <td>0.000000</td>\n",
       "      <td>0.000000</td>\n",
       "      <td>0.004857</td>\n",
       "      <td>0.000000</td>\n",
       "      <td>0.004857</td>\n",
       "      <td>0.00000</td>\n",
       "      <td>0.000000</td>\n",
       "    </tr>\n",
       "    <tr>\n",
       "      <th>5</th>\n",
       "      <td>0.000000</td>\n",
       "      <td>0.000000</td>\n",
       "      <td>0.000000</td>\n",
       "      <td>0.000000</td>\n",
       "      <td>0.00000</td>\n",
       "      <td>0.000000</td>\n",
       "      <td>0.021099</td>\n",
       "      <td>0.007807</td>\n",
       "      <td>0.000000</td>\n",
       "      <td>0.000000</td>\n",
       "      <td>...</td>\n",
       "      <td>0.000000</td>\n",
       "      <td>0.000000</td>\n",
       "      <td>0.000000</td>\n",
       "      <td>0.000000</td>\n",
       "      <td>0.000000</td>\n",
       "      <td>0.007807</td>\n",
       "      <td>0.000000</td>\n",
       "      <td>0.046842</td>\n",
       "      <td>0.00000</td>\n",
       "      <td>0.015238</td>\n",
       "    </tr>\n",
       "  </tbody>\n",
       "</table>\n",
       "<p>6 rows × 7001 columns</p>\n",
       "</div>"
      ]
     },
     "execution_count": 49,
     "metadata": {},
     "output_type": "execute_result"
    }
   ],
   "execution_count": 49
  },
  {
   "cell_type": "markdown",
   "metadata": {
    "id": "5V0XMKvKWIRf"
   },
   "source": [
    "### 5.2 데이터프레임으로 만들고 정렬하기"
   ]
  },
  {
   "cell_type": "code",
   "metadata": {
    "colab": {
     "base_uri": "https://localhost:8080/",
     "height": 423
    },
    "id": "dKr455D6WIRf",
    "executionInfo": {
     "status": "ok",
     "timestamp": 1722924067907,
     "user_tz": -540,
     "elapsed": 339,
     "user": {
      "displayName": "송효진",
      "userId": "08203763834765793541"
     }
    },
    "outputId": "bf0d882e-270e-4040-eedb-63c182973b76",
    "ExecuteTime": {
     "end_time": "2024-08-06T06:49:14.148847Z",
     "start_time": "2024-08-06T06:49:14.135599Z"
    }
   },
   "source": [
    "#행과 열 변환\n",
    "tf_idf_df_transposed = tf_idf_df.T\n",
    "tf_idf_df_transposed"
   ],
   "outputs": [
    {
     "data": {
      "text/plain": [
       "              0         1         2         3         4         5\n",
       "가게     0.000000  0.000000  0.002311  0.004035  0.000000  0.000000\n",
       "가격     0.011293  0.001416  0.000000  0.008757  0.005624  0.000000\n",
       "가구     0.000000  0.002387  0.000000  0.000000  0.000000  0.000000\n",
       "가기     0.000000  0.001653  0.003902  0.000000  0.006563  0.000000\n",
       "가까워지다  0.000000  0.000000  0.000000  0.000000  0.009480  0.000000\n",
       "...         ...       ...       ...       ...       ...       ...\n",
       "힘드다    0.000000  0.003669  0.001444  0.005041  0.004857  0.007807\n",
       "힘드다요즘  0.000000  0.002387  0.000000  0.000000  0.000000  0.000000\n",
       "힘들다    0.000000  0.002446  0.005775  0.002521  0.004857  0.046842\n",
       "힘들다서버  0.000000  0.000000  0.000000  0.004920  0.000000  0.000000\n",
       "힘쓰다    0.000000  0.000000  0.000000  0.000000  0.000000  0.015238\n",
       "\n",
       "[7001 rows x 6 columns]"
      ],
      "text/html": [
       "<div>\n",
       "<style scoped>\n",
       "    .dataframe tbody tr th:only-of-type {\n",
       "        vertical-align: middle;\n",
       "    }\n",
       "\n",
       "    .dataframe tbody tr th {\n",
       "        vertical-align: top;\n",
       "    }\n",
       "\n",
       "    .dataframe thead th {\n",
       "        text-align: right;\n",
       "    }\n",
       "</style>\n",
       "<table border=\"1\" class=\"dataframe\">\n",
       "  <thead>\n",
       "    <tr style=\"text-align: right;\">\n",
       "      <th></th>\n",
       "      <th>0</th>\n",
       "      <th>1</th>\n",
       "      <th>2</th>\n",
       "      <th>3</th>\n",
       "      <th>4</th>\n",
       "      <th>5</th>\n",
       "    </tr>\n",
       "  </thead>\n",
       "  <tbody>\n",
       "    <tr>\n",
       "      <th>가게</th>\n",
       "      <td>0.000000</td>\n",
       "      <td>0.000000</td>\n",
       "      <td>0.002311</td>\n",
       "      <td>0.004035</td>\n",
       "      <td>0.000000</td>\n",
       "      <td>0.000000</td>\n",
       "    </tr>\n",
       "    <tr>\n",
       "      <th>가격</th>\n",
       "      <td>0.011293</td>\n",
       "      <td>0.001416</td>\n",
       "      <td>0.000000</td>\n",
       "      <td>0.008757</td>\n",
       "      <td>0.005624</td>\n",
       "      <td>0.000000</td>\n",
       "    </tr>\n",
       "    <tr>\n",
       "      <th>가구</th>\n",
       "      <td>0.000000</td>\n",
       "      <td>0.002387</td>\n",
       "      <td>0.000000</td>\n",
       "      <td>0.000000</td>\n",
       "      <td>0.000000</td>\n",
       "      <td>0.000000</td>\n",
       "    </tr>\n",
       "    <tr>\n",
       "      <th>가기</th>\n",
       "      <td>0.000000</td>\n",
       "      <td>0.001653</td>\n",
       "      <td>0.003902</td>\n",
       "      <td>0.000000</td>\n",
       "      <td>0.006563</td>\n",
       "      <td>0.000000</td>\n",
       "    </tr>\n",
       "    <tr>\n",
       "      <th>가까워지다</th>\n",
       "      <td>0.000000</td>\n",
       "      <td>0.000000</td>\n",
       "      <td>0.000000</td>\n",
       "      <td>0.000000</td>\n",
       "      <td>0.009480</td>\n",
       "      <td>0.000000</td>\n",
       "    </tr>\n",
       "    <tr>\n",
       "      <th>...</th>\n",
       "      <td>...</td>\n",
       "      <td>...</td>\n",
       "      <td>...</td>\n",
       "      <td>...</td>\n",
       "      <td>...</td>\n",
       "      <td>...</td>\n",
       "    </tr>\n",
       "    <tr>\n",
       "      <th>힘드다</th>\n",
       "      <td>0.000000</td>\n",
       "      <td>0.003669</td>\n",
       "      <td>0.001444</td>\n",
       "      <td>0.005041</td>\n",
       "      <td>0.004857</td>\n",
       "      <td>0.007807</td>\n",
       "    </tr>\n",
       "    <tr>\n",
       "      <th>힘드다요즘</th>\n",
       "      <td>0.000000</td>\n",
       "      <td>0.002387</td>\n",
       "      <td>0.000000</td>\n",
       "      <td>0.000000</td>\n",
       "      <td>0.000000</td>\n",
       "      <td>0.000000</td>\n",
       "    </tr>\n",
       "    <tr>\n",
       "      <th>힘들다</th>\n",
       "      <td>0.000000</td>\n",
       "      <td>0.002446</td>\n",
       "      <td>0.005775</td>\n",
       "      <td>0.002521</td>\n",
       "      <td>0.004857</td>\n",
       "      <td>0.046842</td>\n",
       "    </tr>\n",
       "    <tr>\n",
       "      <th>힘들다서버</th>\n",
       "      <td>0.000000</td>\n",
       "      <td>0.000000</td>\n",
       "      <td>0.000000</td>\n",
       "      <td>0.004920</td>\n",
       "      <td>0.000000</td>\n",
       "      <td>0.000000</td>\n",
       "    </tr>\n",
       "    <tr>\n",
       "      <th>힘쓰다</th>\n",
       "      <td>0.000000</td>\n",
       "      <td>0.000000</td>\n",
       "      <td>0.000000</td>\n",
       "      <td>0.000000</td>\n",
       "      <td>0.000000</td>\n",
       "      <td>0.015238</td>\n",
       "    </tr>\n",
       "  </tbody>\n",
       "</table>\n",
       "<p>7001 rows × 6 columns</p>\n",
       "</div>"
      ]
     },
     "execution_count": 50,
     "metadata": {},
     "output_type": "execute_result"
    }
   ],
   "execution_count": 50
  },
  {
   "cell_type": "code",
   "source": [
    "for i in tqdm(tf_idf_df_transposed.columns):\n",
    "\n",
    "    #tfidf 높은 순부터 정렬하기\n",
    "    tf_idf_data = tf_idf_df_transposed[i].sort_values(ascending=False)\n",
    "\n",
    "    # 정렬한 데이터 딕셔너리로 만들기\n",
    "    data = {'word':tf_idf_data.index, 'tf-idf': tf_idf_data.values}\n",
    "    data_df = pd.DataFrame(data)\n",
    "\n",
    "    #딕셔너리로 만든 데이터 df에 자동 저장\n",
    "    data_df.to_csv('Cluster{}_tf-idf.csv'.format(i), encoding='utf-8-sig')"
   ],
   "metadata": {
    "colab": {
     "base_uri": "https://localhost:8080/"
    },
    "id": "_Kd73YJqRwTw",
    "executionInfo": {
     "status": "ok",
     "timestamp": 1722924082834,
     "user_tz": -540,
     "elapsed": 936,
     "user": {
      "displayName": "송효진",
      "userId": "08203763834765793541"
     }
    },
    "outputId": "f97c1cc5-eec7-4f68-d9f2-bbf358013655",
    "ExecuteTime": {
     "end_time": "2024-08-06T06:49:14.253938Z",
     "start_time": "2024-08-06T06:49:14.149915Z"
    }
   },
   "outputs": [
    {
     "name": "stderr",
     "output_type": "stream",
     "text": [
      "100%|██████████| 6/6 [00:00<00:00, 62.96it/s]\n"
     ]
    }
   ],
   "execution_count": 51
  }
 ],
 "metadata": {
  "kernelspec": {
   "display_name": "Python 3 (ipykernel)",
   "language": "python",
   "name": "python3"
  },
  "language_info": {
   "codemirror_mode": {
    "name": "ipython",
    "version": 3
   },
   "file_extension": ".py",
   "mimetype": "text/x-python",
   "name": "python",
   "nbconvert_exporter": "python",
   "pygments_lexer": "ipython3",
   "version": "3.12.4"
  },
  "colab": {
   "provenance": []
  }
 },
 "nbformat": 4,
 "nbformat_minor": 0
}
