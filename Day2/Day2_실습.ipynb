{
 "cells": [
  {
   "cell_type": "markdown",
   "metadata": {
    "id": "vwyMjT2iCcBJ"
   },
   "source": [
    "##### 샘플 데이터"
   ]
  },
  {
   "cell_type": "code",
   "metadata": {
    "id": "qObzzbtBCcBM",
    "ExecuteTime": {
     "end_time": "2024-08-07T01:21:08.540566Z",
     "start_time": "2024-08-07T01:21:07.868692Z"
    }
   },
   "source": [
    "import pandas as pd\n",
    "import pickle\n",
    "from tqdm import tqdm\n",
    "import warnings\n",
    "warnings.filterwarnings('ignore')"
   ],
   "outputs": [],
   "execution_count": 1
  },
  {
   "cell_type": "code",
   "metadata": {
    "id": "mj6F9A4t3Ctk",
    "ExecuteTime": {
     "end_time": "2024-08-07T01:45:36.566490Z",
     "start_time": "2024-08-07T01:45:36.517863Z"
    }
   },
   "source": [
    "with open(\"클러스터링 결과_df.pkl\", \"rb\") as f:\n",
    "    df = pickle.load(f)\n",
    "df"
   ],
   "outputs": [
    {
     "data": {
      "text/plain": [
       "                                                 Review  \\\n",
       "0     시스템에어컨 5대 연결해서 원격제어로 사용중입니다. 에어컨 기능은 공기청정기능까지 ...   \n",
       "1     인덕션 제어용으로 사용하려고 하는데 끄는 전용인건 좋은데 원격제어기능이 계속 꺼져야...   \n",
       "2     위례 사는 신혼 부부입니다. TV랑 공기청정기는 잘 연동시켰습니다. 오래 걸리지도 ...   \n",
       "3     세탁기 된다고 해서 연결했는데 놀라울 정도로 세상 쓰레기에요. 연결은 번거롭고 사용...   \n",
       "4     건조완료후 에어리플레쉬를 원격으로도 추가할 수 있도록 건조완료후 원격제어를 off하...   \n",
       "...                                                 ...   \n",
       "6233                                    센서를 너무 잘 쓰고 있어요   \n",
       "6234                             짱!! 밖에 나가도 되니까 진짜 좋아요!   \n",
       "6235                                        센서 사용이 신기해요   \n",
       "6242             제가 이거 다운받았는데 돼요!!!이 앱 만드신 제작자님!힘네세요!!!   \n",
       "6244                                      엄..엘쥐만 되는건가요?   \n",
       "\n",
       "                                          tagged_review  \\\n",
       "0     [시스템, 에어컨, 대다, 연결하다, 격, 제어, 사용, 에어컨, 기능, 공기청정기...   \n",
       "1     [인덕션, 제어, 용, 사용, 끄다, 전용, 건, 좋다, 격, 제어기, 능이, 계속...   \n",
       "2     [위례, 살다, 신혼, 부부, 공기청정기, 자다, 연동, 걸리다, 않다, 문제, 김...   \n",
       "3     [세탁기, 연결하다, 정도, 세상, 쓰레기, 연결, 번거롭다, 사용성, 까다롭다, ...   \n",
       "4     [건조, 완료, 후, 에어, 리플, 레쉬, 원격, 추가, 수, 건조, 완료, 후, ...   \n",
       "...                                                 ...   \n",
       "6233                                       [센서, 자다, 쓰다]   \n",
       "6234                                   [짱, 나가다, 진짜, 좋다]   \n",
       "6235                                     [센서, 사용, 신기하다]   \n",
       "6242                 [거, 다운, 받다, 돼다, 앱, 만들다, 제작자, 힘, 세]   \n",
       "6244                                        [엄, 엘쥐, 가요]   \n",
       "\n",
       "                                                 vector  cluster  \n",
       "0     [-0.035694886, 0.01717043, 0.0023479443, -0.02...        1  \n",
       "1     [-0.018927904, 0.0026692434, -0.0051915487, -0...        2  \n",
       "2     [-0.019066501, 0.0001865155, 0.01384862, -0.01...        3  \n",
       "3     [-0.015079177, 0.016700411, 0.006947339, -0.00...        3  \n",
       "4     [-0.024043478, 0.002183555, -0.0030337337, -0....        2  \n",
       "...                                                 ...      ...  \n",
       "6233  [-0.006129301, 0.0057330094, 0.0064807427, -0....        5  \n",
       "6234  [-0.016421992, 0.010854141, -0.0036120042, -0....        2  \n",
       "6235  [-0.014935588, 0.0025678342, -0.0031429315, -0...        3  \n",
       "6242  [-0.008523496, 0.005272587, 0.0060467673, -0.0...        0  \n",
       "6244  [-0.0047162375, -0.001882919, 0.0071778703, -0...        3  \n",
       "\n",
       "[4061 rows x 4 columns]"
      ],
      "text/html": [
       "<div>\n",
       "<style scoped>\n",
       "    .dataframe tbody tr th:only-of-type {\n",
       "        vertical-align: middle;\n",
       "    }\n",
       "\n",
       "    .dataframe tbody tr th {\n",
       "        vertical-align: top;\n",
       "    }\n",
       "\n",
       "    .dataframe thead th {\n",
       "        text-align: right;\n",
       "    }\n",
       "</style>\n",
       "<table border=\"1\" class=\"dataframe\">\n",
       "  <thead>\n",
       "    <tr style=\"text-align: right;\">\n",
       "      <th></th>\n",
       "      <th>Review</th>\n",
       "      <th>tagged_review</th>\n",
       "      <th>vector</th>\n",
       "      <th>cluster</th>\n",
       "    </tr>\n",
       "  </thead>\n",
       "  <tbody>\n",
       "    <tr>\n",
       "      <th>0</th>\n",
       "      <td>시스템에어컨 5대 연결해서 원격제어로 사용중입니다. 에어컨 기능은 공기청정기능까지 ...</td>\n",
       "      <td>[시스템, 에어컨, 대다, 연결하다, 격, 제어, 사용, 에어컨, 기능, 공기청정기...</td>\n",
       "      <td>[-0.035694886, 0.01717043, 0.0023479443, -0.02...</td>\n",
       "      <td>1</td>\n",
       "    </tr>\n",
       "    <tr>\n",
       "      <th>1</th>\n",
       "      <td>인덕션 제어용으로 사용하려고 하는데 끄는 전용인건 좋은데 원격제어기능이 계속 꺼져야...</td>\n",
       "      <td>[인덕션, 제어, 용, 사용, 끄다, 전용, 건, 좋다, 격, 제어기, 능이, 계속...</td>\n",
       "      <td>[-0.018927904, 0.0026692434, -0.0051915487, -0...</td>\n",
       "      <td>2</td>\n",
       "    </tr>\n",
       "    <tr>\n",
       "      <th>2</th>\n",
       "      <td>위례 사는 신혼 부부입니다. TV랑 공기청정기는 잘 연동시켰습니다. 오래 걸리지도 ...</td>\n",
       "      <td>[위례, 살다, 신혼, 부부, 공기청정기, 자다, 연동, 걸리다, 않다, 문제, 김...</td>\n",
       "      <td>[-0.019066501, 0.0001865155, 0.01384862, -0.01...</td>\n",
       "      <td>3</td>\n",
       "    </tr>\n",
       "    <tr>\n",
       "      <th>3</th>\n",
       "      <td>세탁기 된다고 해서 연결했는데 놀라울 정도로 세상 쓰레기에요. 연결은 번거롭고 사용...</td>\n",
       "      <td>[세탁기, 연결하다, 정도, 세상, 쓰레기, 연결, 번거롭다, 사용성, 까다롭다, ...</td>\n",
       "      <td>[-0.015079177, 0.016700411, 0.006947339, -0.00...</td>\n",
       "      <td>3</td>\n",
       "    </tr>\n",
       "    <tr>\n",
       "      <th>4</th>\n",
       "      <td>건조완료후 에어리플레쉬를 원격으로도 추가할 수 있도록 건조완료후 원격제어를 off하...</td>\n",
       "      <td>[건조, 완료, 후, 에어, 리플, 레쉬, 원격, 추가, 수, 건조, 완료, 후, ...</td>\n",
       "      <td>[-0.024043478, 0.002183555, -0.0030337337, -0....</td>\n",
       "      <td>2</td>\n",
       "    </tr>\n",
       "    <tr>\n",
       "      <th>...</th>\n",
       "      <td>...</td>\n",
       "      <td>...</td>\n",
       "      <td>...</td>\n",
       "      <td>...</td>\n",
       "    </tr>\n",
       "    <tr>\n",
       "      <th>6233</th>\n",
       "      <td>센서를 너무 잘 쓰고 있어요</td>\n",
       "      <td>[센서, 자다, 쓰다]</td>\n",
       "      <td>[-0.006129301, 0.0057330094, 0.0064807427, -0....</td>\n",
       "      <td>5</td>\n",
       "    </tr>\n",
       "    <tr>\n",
       "      <th>6234</th>\n",
       "      <td>짱!! 밖에 나가도 되니까 진짜 좋아요!</td>\n",
       "      <td>[짱, 나가다, 진짜, 좋다]</td>\n",
       "      <td>[-0.016421992, 0.010854141, -0.0036120042, -0....</td>\n",
       "      <td>2</td>\n",
       "    </tr>\n",
       "    <tr>\n",
       "      <th>6235</th>\n",
       "      <td>센서 사용이 신기해요</td>\n",
       "      <td>[센서, 사용, 신기하다]</td>\n",
       "      <td>[-0.014935588, 0.0025678342, -0.0031429315, -0...</td>\n",
       "      <td>3</td>\n",
       "    </tr>\n",
       "    <tr>\n",
       "      <th>6242</th>\n",
       "      <td>제가 이거 다운받았는데 돼요!!!이 앱 만드신 제작자님!힘네세요!!!</td>\n",
       "      <td>[거, 다운, 받다, 돼다, 앱, 만들다, 제작자, 힘, 세]</td>\n",
       "      <td>[-0.008523496, 0.005272587, 0.0060467673, -0.0...</td>\n",
       "      <td>0</td>\n",
       "    </tr>\n",
       "    <tr>\n",
       "      <th>6244</th>\n",
       "      <td>엄..엘쥐만 되는건가요?</td>\n",
       "      <td>[엄, 엘쥐, 가요]</td>\n",
       "      <td>[-0.0047162375, -0.001882919, 0.0071778703, -0...</td>\n",
       "      <td>3</td>\n",
       "    </tr>\n",
       "  </tbody>\n",
       "</table>\n",
       "<p>4061 rows × 4 columns</p>\n",
       "</div>"
      ]
     },
     "execution_count": 5,
     "metadata": {},
     "output_type": "execute_result"
    }
   ],
   "execution_count": 5
  },
  {
   "metadata": {
    "ExecuteTime": {
     "end_time": "2024-08-07T01:52:51.677425Z",
     "start_time": "2024-08-07T01:52:51.649956Z"
    }
   },
   "cell_type": "code",
   "source": [
    "df2 = df[[\"Review\",\"tagged_review\",\"cluster\"]].copy()\n",
    "df"
   ],
   "outputs": [
    {
     "data": {
      "text/plain": [
       "                                                 Review  \\\n",
       "0     시스템에어컨 5대 연결해서 원격제어로 사용중입니다. 에어컨 기능은 공기청정기능까지 ...   \n",
       "1     인덕션 제어용으로 사용하려고 하는데 끄는 전용인건 좋은데 원격제어기능이 계속 꺼져야...   \n",
       "2     위례 사는 신혼 부부입니다. TV랑 공기청정기는 잘 연동시켰습니다. 오래 걸리지도 ...   \n",
       "3     세탁기 된다고 해서 연결했는데 놀라울 정도로 세상 쓰레기에요. 연결은 번거롭고 사용...   \n",
       "4     건조완료후 에어리플레쉬를 원격으로도 추가할 수 있도록 건조완료후 원격제어를 off하...   \n",
       "...                                                 ...   \n",
       "6233                                    센서를 너무 잘 쓰고 있어요   \n",
       "6234                             짱!! 밖에 나가도 되니까 진짜 좋아요!   \n",
       "6235                                        센서 사용이 신기해요   \n",
       "6242             제가 이거 다운받았는데 돼요!!!이 앱 만드신 제작자님!힘네세요!!!   \n",
       "6244                                      엄..엘쥐만 되는건가요?   \n",
       "\n",
       "                                          tagged_review  \\\n",
       "0     [시스템, 에어컨, 대다, 연결하다, 격, 제어, 사용, 에어컨, 기능, 공기청정기...   \n",
       "1     [인덕션, 제어, 용, 사용, 끄다, 전용, 건, 좋다, 격, 제어기, 능이, 계속...   \n",
       "2     [위례, 살다, 신혼, 부부, 공기청정기, 자다, 연동, 걸리다, 않다, 문제, 김...   \n",
       "3     [세탁기, 연결하다, 정도, 세상, 쓰레기, 연결, 번거롭다, 사용성, 까다롭다, ...   \n",
       "4     [건조, 완료, 후, 에어, 리플, 레쉬, 원격, 추가, 수, 건조, 완료, 후, ...   \n",
       "...                                                 ...   \n",
       "6233                                       [센서, 자다, 쓰다]   \n",
       "6234                                   [짱, 나가다, 진짜, 좋다]   \n",
       "6235                                     [센서, 사용, 신기하다]   \n",
       "6242                 [거, 다운, 받다, 돼다, 앱, 만들다, 제작자, 힘, 세]   \n",
       "6244                                        [엄, 엘쥐, 가요]   \n",
       "\n",
       "                                                 vector  cluster  \n",
       "0     [-0.035694886, 0.01717043, 0.0023479443, -0.02...        1  \n",
       "1     [-0.018927904, 0.0026692434, -0.0051915487, -0...        2  \n",
       "2     [-0.019066501, 0.0001865155, 0.01384862, -0.01...        3  \n",
       "3     [-0.015079177, 0.016700411, 0.006947339, -0.00...        3  \n",
       "4     [-0.024043478, 0.002183555, -0.0030337337, -0....        2  \n",
       "...                                                 ...      ...  \n",
       "6233  [-0.006129301, 0.0057330094, 0.0064807427, -0....        5  \n",
       "6234  [-0.016421992, 0.010854141, -0.0036120042, -0....        2  \n",
       "6235  [-0.014935588, 0.0025678342, -0.0031429315, -0...        3  \n",
       "6242  [-0.008523496, 0.005272587, 0.0060467673, -0.0...        0  \n",
       "6244  [-0.0047162375, -0.001882919, 0.0071778703, -0...        3  \n",
       "\n",
       "[4061 rows x 4 columns]"
      ],
      "text/html": [
       "<div>\n",
       "<style scoped>\n",
       "    .dataframe tbody tr th:only-of-type {\n",
       "        vertical-align: middle;\n",
       "    }\n",
       "\n",
       "    .dataframe tbody tr th {\n",
       "        vertical-align: top;\n",
       "    }\n",
       "\n",
       "    .dataframe thead th {\n",
       "        text-align: right;\n",
       "    }\n",
       "</style>\n",
       "<table border=\"1\" class=\"dataframe\">\n",
       "  <thead>\n",
       "    <tr style=\"text-align: right;\">\n",
       "      <th></th>\n",
       "      <th>Review</th>\n",
       "      <th>tagged_review</th>\n",
       "      <th>vector</th>\n",
       "      <th>cluster</th>\n",
       "    </tr>\n",
       "  </thead>\n",
       "  <tbody>\n",
       "    <tr>\n",
       "      <th>0</th>\n",
       "      <td>시스템에어컨 5대 연결해서 원격제어로 사용중입니다. 에어컨 기능은 공기청정기능까지 ...</td>\n",
       "      <td>[시스템, 에어컨, 대다, 연결하다, 격, 제어, 사용, 에어컨, 기능, 공기청정기...</td>\n",
       "      <td>[-0.035694886, 0.01717043, 0.0023479443, -0.02...</td>\n",
       "      <td>1</td>\n",
       "    </tr>\n",
       "    <tr>\n",
       "      <th>1</th>\n",
       "      <td>인덕션 제어용으로 사용하려고 하는데 끄는 전용인건 좋은데 원격제어기능이 계속 꺼져야...</td>\n",
       "      <td>[인덕션, 제어, 용, 사용, 끄다, 전용, 건, 좋다, 격, 제어기, 능이, 계속...</td>\n",
       "      <td>[-0.018927904, 0.0026692434, -0.0051915487, -0...</td>\n",
       "      <td>2</td>\n",
       "    </tr>\n",
       "    <tr>\n",
       "      <th>2</th>\n",
       "      <td>위례 사는 신혼 부부입니다. TV랑 공기청정기는 잘 연동시켰습니다. 오래 걸리지도 ...</td>\n",
       "      <td>[위례, 살다, 신혼, 부부, 공기청정기, 자다, 연동, 걸리다, 않다, 문제, 김...</td>\n",
       "      <td>[-0.019066501, 0.0001865155, 0.01384862, -0.01...</td>\n",
       "      <td>3</td>\n",
       "    </tr>\n",
       "    <tr>\n",
       "      <th>3</th>\n",
       "      <td>세탁기 된다고 해서 연결했는데 놀라울 정도로 세상 쓰레기에요. 연결은 번거롭고 사용...</td>\n",
       "      <td>[세탁기, 연결하다, 정도, 세상, 쓰레기, 연결, 번거롭다, 사용성, 까다롭다, ...</td>\n",
       "      <td>[-0.015079177, 0.016700411, 0.006947339, -0.00...</td>\n",
       "      <td>3</td>\n",
       "    </tr>\n",
       "    <tr>\n",
       "      <th>4</th>\n",
       "      <td>건조완료후 에어리플레쉬를 원격으로도 추가할 수 있도록 건조완료후 원격제어를 off하...</td>\n",
       "      <td>[건조, 완료, 후, 에어, 리플, 레쉬, 원격, 추가, 수, 건조, 완료, 후, ...</td>\n",
       "      <td>[-0.024043478, 0.002183555, -0.0030337337, -0....</td>\n",
       "      <td>2</td>\n",
       "    </tr>\n",
       "    <tr>\n",
       "      <th>...</th>\n",
       "      <td>...</td>\n",
       "      <td>...</td>\n",
       "      <td>...</td>\n",
       "      <td>...</td>\n",
       "    </tr>\n",
       "    <tr>\n",
       "      <th>6233</th>\n",
       "      <td>센서를 너무 잘 쓰고 있어요</td>\n",
       "      <td>[센서, 자다, 쓰다]</td>\n",
       "      <td>[-0.006129301, 0.0057330094, 0.0064807427, -0....</td>\n",
       "      <td>5</td>\n",
       "    </tr>\n",
       "    <tr>\n",
       "      <th>6234</th>\n",
       "      <td>짱!! 밖에 나가도 되니까 진짜 좋아요!</td>\n",
       "      <td>[짱, 나가다, 진짜, 좋다]</td>\n",
       "      <td>[-0.016421992, 0.010854141, -0.0036120042, -0....</td>\n",
       "      <td>2</td>\n",
       "    </tr>\n",
       "    <tr>\n",
       "      <th>6235</th>\n",
       "      <td>센서 사용이 신기해요</td>\n",
       "      <td>[센서, 사용, 신기하다]</td>\n",
       "      <td>[-0.014935588, 0.0025678342, -0.0031429315, -0...</td>\n",
       "      <td>3</td>\n",
       "    </tr>\n",
       "    <tr>\n",
       "      <th>6242</th>\n",
       "      <td>제가 이거 다운받았는데 돼요!!!이 앱 만드신 제작자님!힘네세요!!!</td>\n",
       "      <td>[거, 다운, 받다, 돼다, 앱, 만들다, 제작자, 힘, 세]</td>\n",
       "      <td>[-0.008523496, 0.005272587, 0.0060467673, -0.0...</td>\n",
       "      <td>0</td>\n",
       "    </tr>\n",
       "    <tr>\n",
       "      <th>6244</th>\n",
       "      <td>엄..엘쥐만 되는건가요?</td>\n",
       "      <td>[엄, 엘쥐, 가요]</td>\n",
       "      <td>[-0.0047162375, -0.001882919, 0.0071778703, -0...</td>\n",
       "      <td>3</td>\n",
       "    </tr>\n",
       "  </tbody>\n",
       "</table>\n",
       "<p>4061 rows × 4 columns</p>\n",
       "</div>"
      ]
     },
     "execution_count": 6,
     "metadata": {},
     "output_type": "execute_result"
    }
   ],
   "execution_count": 6
  },
  {
   "cell_type": "markdown",
   "metadata": {
    "id": "3UngcHTgCcBP"
   },
   "source": [
    "# ◆ 1. LDA를 위한 데이터 전처리\n",
    "* 1.1. 전체 단어의 사전 만들고 각 문서에 매칭하기\n",
    "    > 단어들이 문서에 얼마나 위치해 있는지 분포를 파악해야하기 때문에 분석할 전체 데이터 대상으로\n",
    "    사용된 단어의 사전을 생성해야한다,\n"
   ]
  },
  {
   "cell_type": "code",
   "metadata": {
    "id": "2863GzxPCcBP",
    "ExecuteTime": {
     "end_time": "2024-08-07T02:22:09.783589Z",
     "start_time": "2024-08-07T02:22:09.779625Z"
    }
   },
   "source": [
    "import gensim\n",
    "from gensim import corpora, models\n",
    "from gensim.corpora import Dictionary"
   ],
   "outputs": [],
   "execution_count": 17
  },
  {
   "cell_type": "markdown",
   "metadata": {
    "id": "pRZB7tdnCcBP"
   },
   "source": [
    "### 1.1 전체 단어의 사전 만들고 각 문서에 매칭하기"
   ]
  },
  {
   "cell_type": "code",
   "metadata": {
    "id": "zhqmsbnp3Ctl",
    "ExecuteTime": {
     "end_time": "2024-08-07T02:22:11.024815Z",
     "start_time": "2024-08-07T02:22:11.012049Z"
    }
   },
   "source": [
    "df_cluster0 = df2[df2[\"cluster\"]==0]\n",
    "display(df_cluster0)\n",
    "display(df_cluster0.shape)"
   ],
   "outputs": [
    {
     "data": {
      "text/plain": [
       "                                                 Review  \\\n",
       "6     스타일러 사용중 입니다. 와이파이 등록해서 원격제어 사용하고 있었습니다만 갑자기 와...   \n",
       "7     에어컨이랑 겨우겨우 연결됐는데 제품이 존재하지않는다고 다시 연결하라는 메세지 떠서 ...   \n",
       "11    11년차 SW 엔지니어 입니다. 정말 한심하게 보이네요. 업데이트 하고 약관동의 다...   \n",
       "14    연결도 안되고 제품 네트워크변경도 안되고 앱 업데이트 하더니 이따위로 만들어놨네요....   \n",
       "17    갑자기 로그인하라더니 등록되있던 LG가구들 삭제되고 와이파이 연결도 안됨. 아니 잘...   \n",
       "...                                                 ...   \n",
       "6205                        스타일러의 예약에 분단위도 추가해주시면 좋겠습니다   \n",
       "6206        잘 쓰고 있어요 더운데 집에 들어가기 전에 에어컨 틀어놓으니 너무너무 좋네요.   \n",
       "6207                되지도 않는걸 뭐하러 만든건지...  예전앱은  되기라도 했어요   \n",
       "6210             오늘 처음 정수기랑 청정기설치하고 스마트기능 연결해 보았는데 좋네요.   \n",
       "6242             제가 이거 다운받았는데 돼요!!!이 앱 만드신 제작자님!힘네세요!!!   \n",
       "\n",
       "                                          tagged_review  cluster  \n",
       "6     [스타, 이르다, 사용, 와이파이, 등록, 격, 제어, 사용, 갑자기, 와이파이, ...        0  \n",
       "7     [에어컨, 연결, 돼다, 제품, 존재, 않다, 다시, 연결하다, 메세지, 뜨다, 다...        0  \n",
       "11    [엔지니어, 정말, 한심하다, 보이다, 업데이트, 약관, 동의, 다시, 제품, 사라...        0  \n",
       "14    [연결, 안되다, 제품, 네트워크, 변경, 안되다, 앱, 업데이트, 만들다, 네트워...        0  \n",
       "17    [갑자기, 로그인, 더니, 등록, 가구, 삭제, 와이파이, 연결, 안되다, 아니다,...        0  \n",
       "...                                                 ...      ...  \n",
       "6205                 [스타, 이르다, 예약, 분단, 위도, 추가, 해주다, 좋다]        0  \n",
       "6206            [자다, 쓰다, 덥다, 집, 들어가다, 전, 에어컨, 틀어놓다, 좋다]        0  \n",
       "6207                            [않다, 뭐, 만들다, 건지다, 앱, 기]        0  \n",
       "6210      [오늘, 처음, 정수기, 청정기, 설치, 스마트, 기능, 연결하다, 보다, 좋다]        0  \n",
       "6242                 [거, 다운, 받다, 돼다, 앱, 만들다, 제작자, 힘, 세]        0  \n",
       "\n",
       "[1057 rows x 3 columns]"
      ],
      "text/html": [
       "<div>\n",
       "<style scoped>\n",
       "    .dataframe tbody tr th:only-of-type {\n",
       "        vertical-align: middle;\n",
       "    }\n",
       "\n",
       "    .dataframe tbody tr th {\n",
       "        vertical-align: top;\n",
       "    }\n",
       "\n",
       "    .dataframe thead th {\n",
       "        text-align: right;\n",
       "    }\n",
       "</style>\n",
       "<table border=\"1\" class=\"dataframe\">\n",
       "  <thead>\n",
       "    <tr style=\"text-align: right;\">\n",
       "      <th></th>\n",
       "      <th>Review</th>\n",
       "      <th>tagged_review</th>\n",
       "      <th>cluster</th>\n",
       "    </tr>\n",
       "  </thead>\n",
       "  <tbody>\n",
       "    <tr>\n",
       "      <th>6</th>\n",
       "      <td>스타일러 사용중 입니다. 와이파이 등록해서 원격제어 사용하고 있었습니다만 갑자기 와...</td>\n",
       "      <td>[스타, 이르다, 사용, 와이파이, 등록, 격, 제어, 사용, 갑자기, 와이파이, ...</td>\n",
       "      <td>0</td>\n",
       "    </tr>\n",
       "    <tr>\n",
       "      <th>7</th>\n",
       "      <td>에어컨이랑 겨우겨우 연결됐는데 제품이 존재하지않는다고 다시 연결하라는 메세지 떠서 ...</td>\n",
       "      <td>[에어컨, 연결, 돼다, 제품, 존재, 않다, 다시, 연결하다, 메세지, 뜨다, 다...</td>\n",
       "      <td>0</td>\n",
       "    </tr>\n",
       "    <tr>\n",
       "      <th>11</th>\n",
       "      <td>11년차 SW 엔지니어 입니다. 정말 한심하게 보이네요. 업데이트 하고 약관동의 다...</td>\n",
       "      <td>[엔지니어, 정말, 한심하다, 보이다, 업데이트, 약관, 동의, 다시, 제품, 사라...</td>\n",
       "      <td>0</td>\n",
       "    </tr>\n",
       "    <tr>\n",
       "      <th>14</th>\n",
       "      <td>연결도 안되고 제품 네트워크변경도 안되고 앱 업데이트 하더니 이따위로 만들어놨네요....</td>\n",
       "      <td>[연결, 안되다, 제품, 네트워크, 변경, 안되다, 앱, 업데이트, 만들다, 네트워...</td>\n",
       "      <td>0</td>\n",
       "    </tr>\n",
       "    <tr>\n",
       "      <th>17</th>\n",
       "      <td>갑자기 로그인하라더니 등록되있던 LG가구들 삭제되고 와이파이 연결도 안됨. 아니 잘...</td>\n",
       "      <td>[갑자기, 로그인, 더니, 등록, 가구, 삭제, 와이파이, 연결, 안되다, 아니다,...</td>\n",
       "      <td>0</td>\n",
       "    </tr>\n",
       "    <tr>\n",
       "      <th>...</th>\n",
       "      <td>...</td>\n",
       "      <td>...</td>\n",
       "      <td>...</td>\n",
       "    </tr>\n",
       "    <tr>\n",
       "      <th>6205</th>\n",
       "      <td>스타일러의 예약에 분단위도 추가해주시면 좋겠습니다</td>\n",
       "      <td>[스타, 이르다, 예약, 분단, 위도, 추가, 해주다, 좋다]</td>\n",
       "      <td>0</td>\n",
       "    </tr>\n",
       "    <tr>\n",
       "      <th>6206</th>\n",
       "      <td>잘 쓰고 있어요 더운데 집에 들어가기 전에 에어컨 틀어놓으니 너무너무 좋네요.</td>\n",
       "      <td>[자다, 쓰다, 덥다, 집, 들어가다, 전, 에어컨, 틀어놓다, 좋다]</td>\n",
       "      <td>0</td>\n",
       "    </tr>\n",
       "    <tr>\n",
       "      <th>6207</th>\n",
       "      <td>되지도 않는걸 뭐하러 만든건지...  예전앱은  되기라도 했어요</td>\n",
       "      <td>[않다, 뭐, 만들다, 건지다, 앱, 기]</td>\n",
       "      <td>0</td>\n",
       "    </tr>\n",
       "    <tr>\n",
       "      <th>6210</th>\n",
       "      <td>오늘 처음 정수기랑 청정기설치하고 스마트기능 연결해 보았는데 좋네요.</td>\n",
       "      <td>[오늘, 처음, 정수기, 청정기, 설치, 스마트, 기능, 연결하다, 보다, 좋다]</td>\n",
       "      <td>0</td>\n",
       "    </tr>\n",
       "    <tr>\n",
       "      <th>6242</th>\n",
       "      <td>제가 이거 다운받았는데 돼요!!!이 앱 만드신 제작자님!힘네세요!!!</td>\n",
       "      <td>[거, 다운, 받다, 돼다, 앱, 만들다, 제작자, 힘, 세]</td>\n",
       "      <td>0</td>\n",
       "    </tr>\n",
       "  </tbody>\n",
       "</table>\n",
       "<p>1057 rows × 3 columns</p>\n",
       "</div>"
      ]
     },
     "metadata": {},
     "output_type": "display_data"
    },
    {
     "data": {
      "text/plain": [
       "(1057, 3)"
      ]
     },
     "metadata": {},
     "output_type": "display_data"
    }
   ],
   "execution_count": 18
  },
  {
   "metadata": {
    "ExecuteTime": {
     "end_time": "2024-08-07T02:22:12.261509Z",
     "start_time": "2024-08-07T02:22:12.244383Z"
    }
   },
   "cell_type": "code",
   "source": [
    "# 단어사전 구축\n",
    "all_docs = list(df_cluster0[\"tagged_review\"])\n",
    "dictionary = Dictionary(all_docs)"
   ],
   "outputs": [],
   "execution_count": 19
  },
  {
   "metadata": {
    "ExecuteTime": {
     "end_time": "2024-08-07T02:22:12.674349Z",
     "start_time": "2024-08-07T02:22:12.668599Z"
    }
   },
   "cell_type": "code",
   "source": [
    "# 단어 사전 확인\n",
    "len(dictionary.token2id)"
   ],
   "outputs": [
    {
     "data": {
      "text/plain": [
       "1566"
      ]
     },
     "execution_count": 20,
     "metadata": {},
     "output_type": "execute_result"
    }
   ],
   "execution_count": 20
  },
  {
   "metadata": {
    "ExecuteTime": {
     "end_time": "2024-08-07T02:22:13.410929Z",
     "start_time": "2024-08-07T02:22:13.398203Z"
    }
   },
   "cell_type": "code",
   "source": [
    "# 구축된 단어사전을 이용해서 BOW 실시\n",
    "corpus = []\n",
    "for doc in all_docs:\n",
    "    corpus.append(dictionary.doc2bow(doc))\n",
    "len(corpus)"
   ],
   "outputs": [
    {
     "data": {
      "text/plain": [
       "1057"
      ]
     },
     "execution_count": 21,
     "metadata": {},
     "output_type": "execute_result"
    }
   ],
   "execution_count": 21
  },
  {
   "cell_type": "markdown",
   "metadata": {
    "id": "gcNadWtKCcBQ"
   },
   "source": [
    "# ◆ 2. LDA모델 만들기\n",
    "* 2.1 LDA 기본 모델 만들기\n",
    "* 2.2 LDA 토픽개수 선정\n",
    "* 2.3 선정한 토픽 개수로 Action 넘버 매칭"
   ]
  },
  {
   "cell_type": "markdown",
   "metadata": {
    "id": "zQPIBKl5CcBQ"
   },
   "source": [
    "### 2.1 LDA 기본 모델 만들기"
   ]
  },
  {
   "cell_type": "code",
   "metadata": {
    "id": "TJKCYykX3Ctl",
    "ExecuteTime": {
     "end_time": "2024-08-07T02:24:06.136578Z",
     "start_time": "2024-08-07T02:24:05.535195Z"
    }
   },
   "source": [
    "topic_num = 3\n",
    "\n",
    "ldamodel = models.LdaModel(corpus, num_topics=topic_num, id2word=dictionary)"
   ],
   "outputs": [],
   "execution_count": 23
  },
  {
   "metadata": {
    "ExecuteTime": {
     "end_time": "2024-08-07T02:24:24.067004Z",
     "start_time": "2024-08-07T02:24:24.060590Z"
    }
   },
   "cell_type": "code",
   "source": [
    "# 토픽당 할당된 단어 확인\n",
    "ldamodel.print_topics()"
   ],
   "outputs": [
    {
     "data": {
      "text/plain": [
       "[(0,\n",
       "  '0.027*\"안되다\" + 0.025*\"연결\" + 0.023*\"사용\" + 0.020*\"등록\" + 0.017*\"자다\" + 0.016*\"앱\" + 0.016*\"뜨다\" + 0.016*\"제품\" + 0.016*\"업데이트\" + 0.013*\"좋다\"'),\n",
       " (1,\n",
       "  '0.032*\"안되다\" + 0.028*\"좋다\" + 0.027*\"앱\" + 0.021*\"사용\" + 0.018*\"연결\" + 0.017*\"어플\" + 0.017*\"기능\" + 0.015*\"쓰다\" + 0.014*\"에어컨\" + 0.014*\"자다\"'),\n",
       " (2,\n",
       "  '0.039*\"좋다\" + 0.037*\"연결\" + 0.020*\"사용\" + 0.020*\"안되다\" + 0.018*\"제품\" + 0.015*\"없다\" + 0.014*\"건조기\" + 0.013*\"등록\" + 0.013*\"편하다\" + 0.012*\"에어컨\"')]"
      ]
     },
     "execution_count": 24,
     "metadata": {},
     "output_type": "execute_result"
    }
   ],
   "execution_count": 24
  },
  {
   "cell_type": "markdown",
   "metadata": {
    "id": "kCTp-NrvCcBR"
   },
   "source": [
    "### 2.2 LDA 토픽개수 선정\n",
    "* coherence & perplexcity"
   ]
  },
  {
   "cell_type": "code",
   "execution_count": null,
   "metadata": {
    "id": "7n8i70UYCcBR"
   },
   "outputs": [],
   "source": [
    "from gensim.models import CoherenceModel\n",
    "import matplotlib.pyplot as plt\n",
    "import numpy as np"
   ]
  },
  {
   "cell_type": "code",
   "execution_count": null,
   "metadata": {
    "id": "doKWNMBs3Ctl"
   },
   "outputs": [],
   "source": []
  },
  {
   "cell_type": "markdown",
   "metadata": {
    "id": "0jaWXOXECcBR"
   },
   "source": [
    "> 2.2.1 Perplexity 그래프 만들기"
   ]
  },
  {
   "cell_type": "code",
   "execution_count": null,
   "metadata": {
    "id": "9DGxqUmC3Ctl"
   },
   "outputs": [],
   "source": []
  },
  {
   "cell_type": "markdown",
   "metadata": {
    "id": "CHXlSqw_CcBS"
   },
   "source": [
    "> 2.2.1 Coherence 그래프 만들기"
   ]
  },
  {
   "cell_type": "code",
   "execution_count": null,
   "metadata": {
    "id": "DgT15T7q3Ctl"
   },
   "outputs": [],
   "source": []
  },
  {
   "cell_type": "markdown",
   "metadata": {
    "id": "ph7fcoMcCcBS"
   },
   "source": [
    "### 2.3 선정한 토픽 개수로 Action 넘버 매칭"
   ]
  },
  {
   "cell_type": "code",
   "execution_count": null,
   "metadata": {
    "id": "z4PqdF3U3Ctl"
   },
   "outputs": [],
   "source": []
  },
  {
   "cell_type": "markdown",
   "metadata": {
    "id": "LB9LmEloCcBT"
   },
   "source": [
    "# ◆ 3. LDA 시각화 (LDAvis)\n"
   ]
  },
  {
   "cell_type": "code",
   "execution_count": null,
   "metadata": {
    "colab": {
     "base_uri": "https://localhost:8080/"
    },
    "id": "dSIf5ZyVCcBT",
    "outputId": "689423c7-a327-4f65-f64d-e8dd69370752",
    "scrolled": true
   },
   "outputs": [
    {
     "name": "stdout",
     "output_type": "stream",
     "text": [
      "Collecting pyLDAvis\n",
      "  Downloading pyLDAvis-3.4.1-py3-none-any.whl.metadata (4.2 kB)\n",
      "Requirement already satisfied: numpy>=1.24.2 in c:\\users\\hj\\anaconda3\\lib\\site-packages (from pyLDAvis) (1.26.4)\n",
      "Requirement already satisfied: scipy in c:\\users\\hj\\anaconda3\\lib\\site-packages (from pyLDAvis) (1.13.1)\n",
      "Requirement already satisfied: pandas>=2.0.0 in c:\\users\\hj\\anaconda3\\lib\\site-packages (from pyLDAvis) (2.2.2)\n",
      "Requirement already satisfied: joblib>=1.2.0 in c:\\users\\hj\\anaconda3\\lib\\site-packages (from pyLDAvis) (1.4.2)\n",
      "Requirement already satisfied: jinja2 in c:\\users\\hj\\anaconda3\\lib\\site-packages (from pyLDAvis) (3.1.4)\n",
      "Requirement already satisfied: numexpr in c:\\users\\hj\\anaconda3\\lib\\site-packages (from pyLDAvis) (2.8.7)\n",
      "Collecting funcy (from pyLDAvis)\n",
      "  Downloading funcy-2.0-py2.py3-none-any.whl.metadata (5.9 kB)\n",
      "Requirement already satisfied: scikit-learn>=1.0.0 in c:\\users\\hj\\anaconda3\\lib\\site-packages (from pyLDAvis) (1.4.2)\n",
      "Requirement already satisfied: gensim in c:\\users\\hj\\anaconda3\\lib\\site-packages (from pyLDAvis) (4.3.3)\n",
      "Requirement already satisfied: setuptools in c:\\users\\hj\\anaconda3\\lib\\site-packages (from pyLDAvis) (69.5.1)\n",
      "Requirement already satisfied: python-dateutil>=2.8.2 in c:\\users\\hj\\anaconda3\\lib\\site-packages (from pandas>=2.0.0->pyLDAvis) (2.9.0.post0)\n",
      "Requirement already satisfied: pytz>=2020.1 in c:\\users\\hj\\anaconda3\\lib\\site-packages (from pandas>=2.0.0->pyLDAvis) (2024.1)\n",
      "Requirement already satisfied: tzdata>=2022.7 in c:\\users\\hj\\anaconda3\\lib\\site-packages (from pandas>=2.0.0->pyLDAvis) (2023.3)\n",
      "Requirement already satisfied: threadpoolctl>=2.0.0 in c:\\users\\hj\\anaconda3\\lib\\site-packages (from scikit-learn>=1.0.0->pyLDAvis) (2.2.0)\n",
      "Requirement already satisfied: smart-open>=1.8.1 in c:\\users\\hj\\anaconda3\\lib\\site-packages (from gensim->pyLDAvis) (5.2.1)\n",
      "Requirement already satisfied: MarkupSafe>=2.0 in c:\\users\\hj\\anaconda3\\lib\\site-packages (from jinja2->pyLDAvis) (2.1.3)\n",
      "Requirement already satisfied: six>=1.5 in c:\\users\\hj\\anaconda3\\lib\\site-packages (from python-dateutil>=2.8.2->pandas>=2.0.0->pyLDAvis) (1.16.0)\n",
      "Downloading pyLDAvis-3.4.1-py3-none-any.whl (2.6 MB)\n",
      "   ---------------------------------------- 0.0/2.6 MB ? eta -:--:--\n",
      "   ---------------------------------------- 0.0/2.6 MB ? eta -:--:--\n",
      "   ---------------------------------------- 0.0/2.6 MB 435.7 kB/s eta 0:00:06\n",
      "   -------------- ------------------------- 1.0/2.6 MB 8.8 MB/s eta 0:00:01\n",
      "   ---------------------------------------- 2.6/2.6 MB 16.5 MB/s eta 0:00:00\n",
      "Downloading funcy-2.0-py2.py3-none-any.whl (30 kB)\n",
      "Installing collected packages: funcy, pyLDAvis\n",
      "Successfully installed funcy-2.0 pyLDAvis-3.4.1\n"
     ]
    }
   ],
   "source": [
    "!pip install pyLDAvis"
   ]
  },
  {
   "cell_type": "code",
   "execution_count": null,
   "metadata": {
    "id": "BMhcVmzLCcBT"
   },
   "outputs": [],
   "source": [
    "import pyLDAvis.gensim as gensimvis\n",
    "import pyLDAvis"
   ]
  },
  {
   "cell_type": "code",
   "execution_count": null,
   "metadata": {
    "id": "9_zLRXIo3Ctm"
   },
   "outputs": [],
   "source": []
  },
  {
   "cell_type": "markdown",
   "metadata": {
    "id": "DHexOOTfkK20"
   },
   "source": [
    "# ◆ 4. LDA 분석을 위한 후작업\n",
    "* LDAvis와 LDA모델의 토픽 넘버 매칭\n",
    "* LDAvis 결과와 LDA모델의 결과를 보고 직접 매칭해야한다."
   ]
  },
  {
   "cell_type": "code",
   "execution_count": null,
   "metadata": {
    "id": "F6cRFfqk3Ctm"
   },
   "outputs": [],
   "source": []
  }
 ],
 "metadata": {
  "colab": {
   "provenance": []
  },
  "kernelspec": {
   "display_name": "Python 3 (ipykernel)",
   "language": "python",
   "name": "python3"
  },
  "language_info": {
   "codemirror_mode": {
    "name": "ipython",
    "version": 3
   },
   "file_extension": ".py",
   "mimetype": "text/x-python",
   "name": "python",
   "nbconvert_exporter": "python",
   "pygments_lexer": "ipython3",
   "version": "3.12.4"
  }
 },
 "nbformat": 4,
 "nbformat_minor": 0
}
