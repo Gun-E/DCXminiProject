{
 "cells": [
  {
   "cell_type": "code",
   "id": "initial_id",
   "metadata": {
    "collapsed": true,
    "ExecuteTime": {
     "end_time": "2024-08-08T01:42:43.597502Z",
     "start_time": "2024-08-08T01:42:43.034725Z"
    }
   },
   "source": [
    "import pandas as pd\n",
    "import pickle\n",
    "from tqdm import tqdm\n",
    "import warnings\n",
    "warnings.filterwarnings('ignore')"
   ],
   "outputs": [],
   "execution_count": 2
  },
  {
   "metadata": {
    "ExecuteTime": {
     "end_time": "2024-08-08T01:42:43.690869Z",
     "start_time": "2024-08-08T01:42:43.598510Z"
    }
   },
   "cell_type": "code",
   "source": [
    "with open(\"컬처케어실습.pkl\", \"rb\") as f:\n",
    "    df = pickle.load(f)\n",
    "df"
   ],
   "id": "8de211bb0757c510",
   "outputs": [
    {
     "data": {
      "text/plain": [
       "                                                review  \\\n",
       "0     노키즈존 세 이하 입장 불가 일요일 간만에 일찍 아점 먹고낮잠 쿨쿨 자다가뽈뽈부부...   \n",
       "1    쉬냐 너 모르냐 오늘 빼빼로데이 잖아 우왓 퀸 퀸 스페이드는 놀래켰는데 역시 얼음왕...   \n",
       "2    같아서 언이를 불러 필름카메라를 찍기로 했다 아침 일찍부터 일어나서 박콩님 산책 시...   \n",
       "3     표지는 글 분위기랑 안 어울리게 너무 강렬해서벽 뒤로 슬그머니 피해야할 것 같았다...   \n",
       "4    쉽지 않다 은셔랑 이번에 한국와서 제일 친해짐 생각난 김에 은서랑 아이스크림 사먹으...   \n",
       "..                                                 ...   \n",
       "725  트센터 위 포스터를 클릭하시면 해당 공연 예매 사이트로 바로 이동합니다 OPEN F...   \n",
       "726  지엄 겨울 방학 정규 수업 후 모처럼 마르첼로 바렌기전 수업에 다녀왔습니다 친구들과...   \n",
       "727  울아트센터 어쩌면 처음 보는 예술 놀라움을 넘어 서늘함을 전하는이 여름에 특별한 피...   \n",
       "728  장 기다렸던 전시 르네 마그리트 특별전 드디어 다녀왔다 비록 원화는 없었지만 멀티미...   \n",
       "729  스테이지 라스트 세션 장르 연극 장소 예스 스테이지 관 기간 관람일 년 월 일 시 ...   \n",
       "\n",
       "                                         tagged_review  cluster  \n",
       "0    [노, 키즈, 존, 세, 이하, 입장, 불가, 일요일, 간만, 일찍, 점, 먹다, ...        3  \n",
       "1    [쉬다, 모르다, 오늘, 빼빼로데이, 잖다, 우왓, 퀸, 퀸, 스, 페이, 들다, ...        4  \n",
       "2    [불다, 필름, 카메라, 찍기, 아침, 일찍, 일어나서, 박콩, 산책, 일찍, 일어...        4  \n",
       "3    [표지, 글, 분위기, 안, 어울리다, 강렬하다, 벽, 뒤, 슬그머니, 피해, 야하...        1  \n",
       "4    [쉬다, 않다, 은셔, 한국, 서다, 제일, 친해지다, 생각나다, 김, 은서, 아이...        1  \n",
       "..                                                 ...      ...  \n",
       "725  [트, 센터, 위, 포스터, 클릭, 해당, 공연, 예매, 사이트, 이동, 마침표, ...        3  \n",
       "726  [지엄, 겨울, 방학, 정규, 수업, 후, 모처럼, 마르첼, 바렌, 기전, 수업, ...        3  \n",
       "727  [아트, 센터, 어쩌면, 처음, 보다, 예술, 움, 넘다, 서늘하다, 전, 여름, ...        4  \n",
       "728  [장, 기다리다, 전시, 르, 마그리트, 특별, 전, 다녀오다, 원화, 없다, 멀티...        1  \n",
       "729  [스테이지, 라스트, 세션, 장르, 연극, 장소, 예스, 스테이지, 관, 기간, 관...        4  \n",
       "\n",
       "[730 rows x 3 columns]"
      ],
      "text/html": [
       "<div>\n",
       "<style scoped>\n",
       "    .dataframe tbody tr th:only-of-type {\n",
       "        vertical-align: middle;\n",
       "    }\n",
       "\n",
       "    .dataframe tbody tr th {\n",
       "        vertical-align: top;\n",
       "    }\n",
       "\n",
       "    .dataframe thead th {\n",
       "        text-align: right;\n",
       "    }\n",
       "</style>\n",
       "<table border=\"1\" class=\"dataframe\">\n",
       "  <thead>\n",
       "    <tr style=\"text-align: right;\">\n",
       "      <th></th>\n",
       "      <th>review</th>\n",
       "      <th>tagged_review</th>\n",
       "      <th>cluster</th>\n",
       "    </tr>\n",
       "  </thead>\n",
       "  <tbody>\n",
       "    <tr>\n",
       "      <th>0</th>\n",
       "      <td>노키즈존 세 이하 입장 불가 일요일 간만에 일찍 아점 먹고낮잠 쿨쿨 자다가뽈뽈부부...</td>\n",
       "      <td>[노, 키즈, 존, 세, 이하, 입장, 불가, 일요일, 간만, 일찍, 점, 먹다, ...</td>\n",
       "      <td>3</td>\n",
       "    </tr>\n",
       "    <tr>\n",
       "      <th>1</th>\n",
       "      <td>쉬냐 너 모르냐 오늘 빼빼로데이 잖아 우왓 퀸 퀸 스페이드는 놀래켰는데 역시 얼음왕...</td>\n",
       "      <td>[쉬다, 모르다, 오늘, 빼빼로데이, 잖다, 우왓, 퀸, 퀸, 스, 페이, 들다, ...</td>\n",
       "      <td>4</td>\n",
       "    </tr>\n",
       "    <tr>\n",
       "      <th>2</th>\n",
       "      <td>같아서 언이를 불러 필름카메라를 찍기로 했다 아침 일찍부터 일어나서 박콩님 산책 시...</td>\n",
       "      <td>[불다, 필름, 카메라, 찍기, 아침, 일찍, 일어나서, 박콩, 산책, 일찍, 일어...</td>\n",
       "      <td>4</td>\n",
       "    </tr>\n",
       "    <tr>\n",
       "      <th>3</th>\n",
       "      <td>표지는 글 분위기랑 안 어울리게 너무 강렬해서벽 뒤로 슬그머니 피해야할 것 같았다...</td>\n",
       "      <td>[표지, 글, 분위기, 안, 어울리다, 강렬하다, 벽, 뒤, 슬그머니, 피해, 야하...</td>\n",
       "      <td>1</td>\n",
       "    </tr>\n",
       "    <tr>\n",
       "      <th>4</th>\n",
       "      <td>쉽지 않다 은셔랑 이번에 한국와서 제일 친해짐 생각난 김에 은서랑 아이스크림 사먹으...</td>\n",
       "      <td>[쉬다, 않다, 은셔, 한국, 서다, 제일, 친해지다, 생각나다, 김, 은서, 아이...</td>\n",
       "      <td>1</td>\n",
       "    </tr>\n",
       "    <tr>\n",
       "      <th>...</th>\n",
       "      <td>...</td>\n",
       "      <td>...</td>\n",
       "      <td>...</td>\n",
       "    </tr>\n",
       "    <tr>\n",
       "      <th>725</th>\n",
       "      <td>트센터 위 포스터를 클릭하시면 해당 공연 예매 사이트로 바로 이동합니다 OPEN F...</td>\n",
       "      <td>[트, 센터, 위, 포스터, 클릭, 해당, 공연, 예매, 사이트, 이동, 마침표, ...</td>\n",
       "      <td>3</td>\n",
       "    </tr>\n",
       "    <tr>\n",
       "      <th>726</th>\n",
       "      <td>지엄 겨울 방학 정규 수업 후 모처럼 마르첼로 바렌기전 수업에 다녀왔습니다 친구들과...</td>\n",
       "      <td>[지엄, 겨울, 방학, 정규, 수업, 후, 모처럼, 마르첼, 바렌, 기전, 수업, ...</td>\n",
       "      <td>3</td>\n",
       "    </tr>\n",
       "    <tr>\n",
       "      <th>727</th>\n",
       "      <td>울아트센터 어쩌면 처음 보는 예술 놀라움을 넘어 서늘함을 전하는이 여름에 특별한 피...</td>\n",
       "      <td>[아트, 센터, 어쩌면, 처음, 보다, 예술, 움, 넘다, 서늘하다, 전, 여름, ...</td>\n",
       "      <td>4</td>\n",
       "    </tr>\n",
       "    <tr>\n",
       "      <th>728</th>\n",
       "      <td>장 기다렸던 전시 르네 마그리트 특별전 드디어 다녀왔다 비록 원화는 없었지만 멀티미...</td>\n",
       "      <td>[장, 기다리다, 전시, 르, 마그리트, 특별, 전, 다녀오다, 원화, 없다, 멀티...</td>\n",
       "      <td>1</td>\n",
       "    </tr>\n",
       "    <tr>\n",
       "      <th>729</th>\n",
       "      <td>스테이지 라스트 세션 장르 연극 장소 예스 스테이지 관 기간 관람일 년 월 일 시 ...</td>\n",
       "      <td>[스테이지, 라스트, 세션, 장르, 연극, 장소, 예스, 스테이지, 관, 기간, 관...</td>\n",
       "      <td>4</td>\n",
       "    </tr>\n",
       "  </tbody>\n",
       "</table>\n",
       "<p>730 rows × 3 columns</p>\n",
       "</div>"
      ]
     },
     "execution_count": 3,
     "metadata": {},
     "output_type": "execute_result"
    }
   ],
   "execution_count": 3
  },
  {
   "metadata": {
    "ExecuteTime": {
     "end_time": "2024-08-08T01:42:44.529070Z",
     "start_time": "2024-08-08T01:42:43.691867Z"
    }
   },
   "cell_type": "code",
   "source": [
    "import gensim\n",
    "from gensim import corpora, models\n",
    "from gensim.corpora import Dictionary"
   ],
   "id": "8e7a1a5e68ba76c3",
   "outputs": [],
   "execution_count": 4
  },
  {
   "metadata": {
    "ExecuteTime": {
     "end_time": "2024-08-08T01:42:44.534591Z",
     "start_time": "2024-08-08T01:42:44.529070Z"
    }
   },
   "cell_type": "code",
   "source": "df_cluster0 = df[df[\"cluster\"]==0]",
   "id": "c29d6770422347d",
   "outputs": [],
   "execution_count": 5
  },
  {
   "metadata": {
    "ExecuteTime": {
     "end_time": "2024-08-08T01:42:44.581425Z",
     "start_time": "2024-08-08T01:42:44.537583Z"
    }
   },
   "cell_type": "code",
   "source": [
    "# 단어사전 구축\n",
    "all_docs = list(df_cluster0[\"tagged_review\"])\n",
    "dictionary = Dictionary(all_docs)\n",
    "len(dictionary.token2id)"
   ],
   "id": "e9fbb7c2d7df2111",
   "outputs": [
    {
     "data": {
      "text/plain": [
       "10301"
      ]
     },
     "execution_count": 6,
     "metadata": {},
     "output_type": "execute_result"
    }
   ],
   "execution_count": 6
  },
  {
   "metadata": {
    "ExecuteTime": {
     "end_time": "2024-08-08T01:42:44.611845Z",
     "start_time": "2024-08-08T01:42:44.582649Z"
    }
   },
   "cell_type": "code",
   "source": [
    "# 구축된 단어사전을 이용해서 BOW 실시\n",
    "corpus = []\n",
    "for doc in all_docs:\n",
    "    corpus.append(dictionary.doc2bow(doc))\n",
    "len(corpus)"
   ],
   "id": "8c4cc3d3c1d38b88",
   "outputs": [
    {
     "data": {
      "text/plain": [
       "115"
      ]
     },
     "execution_count": 7,
     "metadata": {},
     "output_type": "execute_result"
    }
   ],
   "execution_count": 7
  },
  {
   "metadata": {
    "ExecuteTime": {
     "end_time": "2024-08-08T01:42:44.840119Z",
     "start_time": "2024-08-08T01:42:44.612844Z"
    }
   },
   "cell_type": "code",
   "source": [
    "topic_num = 3\n",
    "\n",
    "ldamodel = models.LdaModel(corpus, num_topics=topic_num, id2word=dictionary)"
   ],
   "id": "8b85154e412d3e5a",
   "outputs": [],
   "execution_count": 8
  },
  {
   "metadata": {
    "ExecuteTime": {
     "end_time": "2024-08-08T01:42:44.899655Z",
     "start_time": "2024-08-08T01:42:44.840469Z"
    }
   },
   "cell_type": "code",
   "source": [
    "# 문서별 topic 확률 확인\n",
    "for i in range(len(corpus)):\n",
    "    print(ldamodel.get_document_topics(corpus[i]))"
   ],
   "id": "6e2bf0f3bd121478",
   "outputs": [
    {
     "name": "stdout",
     "output_type": "stream",
     "text": [
      "[(0, 0.99185544)]\n",
      "[(1, 0.2836647), (2, 0.7067721)]\n",
      "[(2, 0.99543667)]\n",
      "[(0, 0.16010496), (1, 0.8389462)]\n",
      "[(0, 0.048907213), (1, 0.9504605)]\n",
      "[(0, 0.09289959), (1, 0.906394)]\n",
      "[(0, 0.79644865), (1, 0.19744608)]\n",
      "[(0, 0.9959465)]\n",
      "[(2, 0.99843353)]\n",
      "[(1, 0.9977885)]\n",
      "[(1, 0.925082), (2, 0.074121386)]\n",
      "[(1, 0.99739873)]\n",
      "[(0, 0.110647105), (1, 0.8885426)]\n",
      "[(0, 0.025037298), (1, 0.9455103), (2, 0.029452322)]\n",
      "[(0, 0.9812502), (1, 0.017494468)]\n",
      "[(2, 0.9971296)]\n",
      "[(1, 0.99875957)]\n",
      "[(0, 0.53108114), (1, 0.46813324)]\n",
      "[(0, 0.9986872)]\n",
      "[(1, 0.9985679)]\n",
      "[(1, 0.9981761)]\n",
      "[(0, 0.9852421), (1, 0.0141476095)]\n",
      "[(0, 0.71651495), (1, 0.28165388)]\n",
      "[(0, 0.97415483), (1, 0.025192507)]\n",
      "[(0, 0.9631775), (1, 0.036054984)]\n",
      "[(0, 0.39093822), (1, 0.5770386), (2, 0.032023184)]\n",
      "[(1, 0.96288055), (2, 0.027851595)]\n",
      "[(0, 0.9881809), (2, 0.010892968)]\n",
      "[(1, 0.6205639), (2, 0.3723107)]\n",
      "[(1, 0.4439634), (2, 0.5553014)]\n",
      "[(0, 0.019502552), (1, 0.7158877), (2, 0.2646097)]\n",
      "[(1, 0.9883569), (2, 0.010919168)]\n",
      "[(1, 0.9953127)]\n",
      "[(2, 0.9981051)]\n",
      "[(1, 0.98232514), (2, 0.01703077)]\n",
      "[(0, 0.14053789), (1, 0.8586893)]\n",
      "[(2, 0.99808174)]\n",
      "[(1, 0.48710272), (2, 0.5118201)]\n",
      "[(1, 0.9984398)]\n",
      "[(1, 0.99831593)]\n",
      "[(1, 0.99708647)]\n",
      "[(0, 0.024472868), (1, 0.6808989), (2, 0.29462826)]\n",
      "[(0, 0.6706875), (1, 0.1410608), (2, 0.18825172)]\n",
      "[(0, 0.112484425), (1, 0.8859015)]\n",
      "[(1, 0.9989074)]\n",
      "[(0, 0.18373671), (2, 0.80688965)]\n",
      "[(0, 0.9982014)]\n",
      "[(0, 0.06275001), (1, 0.6268692), (2, 0.31038082)]\n",
      "[(0, 0.20110157), (1, 0.7920683)]\n",
      "[(1, 0.9984432)]\n",
      "[(2, 0.998254)]\n",
      "[(0, 0.6952916), (1, 0.2862868), (2, 0.018421663)]\n",
      "[(1, 0.9987872)]\n",
      "[(0, 0.706345), (1, 0.014313182), (2, 0.27934182)]\n",
      "[(0, 0.32710585), (2, 0.671994)]\n",
      "[(0, 0.9987195)]\n",
      "[(2, 0.9987211)]\n",
      "[(1, 0.9987344)]\n",
      "[(1, 0.55036926), (2, 0.44904324)]\n",
      "[(1, 0.8083674), (2, 0.1890648)]\n",
      "[(0, 0.69212353), (1, 0.2875462), (2, 0.02033027)]\n",
      "[(1, 0.07295304), (2, 0.92631227)]\n",
      "[(0, 0.76115465), (1, 0.09248379), (2, 0.14636154)]\n",
      "[(1, 0.9985242)]\n",
      "[(1, 0.043608945), (2, 0.9558049)]\n",
      "[(0, 0.028722556), (1, 0.97050816)]\n",
      "[(0, 0.62022847), (2, 0.37128234)]\n",
      "[(2, 0.99313164)]\n",
      "[(1, 0.2675358), (2, 0.7313361)]\n",
      "[(1, 0.99614155)]\n",
      "[(1, 0.9979923)]\n",
      "[(1, 0.9857781)]\n",
      "[(0, 0.19092003), (1, 0.80810297)]\n",
      "[(0, 0.15661888), (1, 0.842724)]\n",
      "[(0, 0.12586577), (2, 0.87338096)]\n",
      "[(1, 0.09222615), (2, 0.9072446)]\n",
      "[(1, 0.9986027)]\n",
      "[(1, 0.9886798), (2, 0.010621388)]\n",
      "[(1, 0.99826694)]\n",
      "[(1, 0.3081987), (2, 0.6911457)]\n",
      "[(2, 0.99869204)]\n",
      "[(0, 0.9982149)]\n",
      "[(1, 0.9854439), (2, 0.013885426)]\n",
      "[(0, 0.09743002), (1, 0.9019212)]\n",
      "[(0, 0.9407172), (1, 0.056302603)]\n",
      "[(1, 0.99823517)]\n",
      "[(0, 0.99576426)]\n",
      "[(0, 0.9984366)]\n",
      "[(0, 0.41053763), (1, 0.045474783), (2, 0.5439876)]\n",
      "[(2, 0.9988171)]\n",
      "[(1, 0.9987444)]\n",
      "[(0, 0.8831284), (1, 0.018520353), (2, 0.098351166)]\n",
      "[(0, 0.99869734)]\n",
      "[(1, 0.9985462)]\n",
      "[(0, 0.93136436), (1, 0.06560463)]\n",
      "[(0, 0.63094276), (2, 0.36818376)]\n",
      "[(0, 0.58170515), (1, 0.025058735), (2, 0.39323616)]\n",
      "[(1, 0.998234)]\n",
      "[(1, 0.99285215)]\n",
      "[(2, 0.9987694)]\n",
      "[(0, 0.27220032), (1, 0.6193058), (2, 0.10849388)]\n",
      "[(0, 0.55173355), (1, 0.4476271)]\n",
      "[(1, 0.99876946)]\n",
      "[(1, 0.29372162), (2, 0.705583)]\n",
      "[(2, 0.9980338)]\n",
      "[(0, 0.99897337)]\n",
      "[(0, 0.39722127), (1, 0.60220987)]\n",
      "[(0, 0.9826847), (2, 0.016255457)]\n",
      "[(0, 0.99851656)]\n",
      "[(0, 0.9985066)]\n",
      "[(0, 0.97959095), (2, 0.019727241)]\n",
      "[(0, 0.99825644)]\n",
      "[(2, 0.9935347)]\n",
      "[(1, 0.9987702)]\n",
      "[(0, 0.9986714)]\n"
     ]
    }
   ],
   "execution_count": 9
  },
  {
   "metadata": {
    "ExecuteTime": {
     "end_time": "2024-08-08T01:42:45.225837Z",
     "start_time": "2024-08-08T01:42:44.900654Z"
    }
   },
   "cell_type": "code",
   "source": [
    "from gensim.models import CoherenceModel\n",
    "import matplotlib.pyplot as plt\n",
    "import numpy as np"
   ],
   "id": "612f4abe0885d5fb",
   "outputs": [],
   "execution_count": 10
  },
  {
   "metadata": {
    "ExecuteTime": {
     "end_time": "2024-08-08T01:42:53.432957Z",
     "start_time": "2024-08-08T01:42:45.226836Z"
    }
   },
   "cell_type": "code",
   "source": [
    "# coherence_model 만들어서 체크 : 토픽 개수를 3개로 설정했을때의 점수\n",
    "\n",
    "top_n = 3\n",
    "\n",
    "#perplexity\n",
    "perplexity_score = ldamodel.log_perplexity(corpus)\n",
    "\n",
    "#Coherence\n",
    "coherence_model = CoherenceModel(model=ldamodel, texts=all_docs, dictionary=dictionary, topn=top_n)\n",
    "coherence_score = coherence_model.get_coherence()\n",
    "\n",
    "\n",
    "print('Perplexity score :', perplexity_score)\n",
    "print('Coherence score :', coherence_score)"
   ],
   "id": "73ae2bb85c5b2eec",
   "outputs": [
    {
     "name": "stdout",
     "output_type": "stream",
     "text": [
      "Perplexity score : -8.495213413195838\n",
      "Coherence score : 0.6181773548611552\n"
     ]
    }
   ],
   "execution_count": 11
  },
  {
   "metadata": {
    "ExecuteTime": {
     "end_time": "2024-08-08T01:42:55.503924Z",
     "start_time": "2024-08-08T01:42:53.434032Z"
    }
   },
   "cell_type": "code",
   "source": [
    "perplexity_values=[]\n",
    "\n",
    "for i in range(2,10):\n",
    "    ldamodel = gensim.models.ldamodel.LdaModel(corpus, num_topics=i, id2word = dictionary)\n",
    "    perplexity_v = ldamodel.log_perplexity(corpus)\n",
    "    perplexity_values.append(perplexity_v)"
   ],
   "id": "1d1063648ddf7a5e",
   "outputs": [],
   "execution_count": 12
  },
  {
   "metadata": {
    "ExecuteTime": {
     "end_time": "2024-08-08T01:42:55.647735Z",
     "start_time": "2024-08-08T01:42:55.504997Z"
    }
   },
   "cell_type": "code",
   "source": [
    "#라인 그래프 만들기\n",
    "\n",
    "x = range(2,10)\n",
    "plt.plot(x, perplexity_values)\n",
    "plt.xlabel('Number of topics')\n",
    "plt.ylabel('Perplexity score')"
   ],
   "id": "baee162b9e6ffbc7",
   "outputs": [
    {
     "data": {
      "text/plain": [
       "Text(0, 0.5, 'Perplexity score')"
      ]
     },
     "execution_count": 13,
     "metadata": {},
     "output_type": "execute_result"
    },
    {
     "data": {
      "text/plain": [
       "<Figure size 640x480 with 1 Axes>"
      ],
      "image/png": "[encoded data removed]"
     },
     "metadata": {},
     "output_type": "display_data"
    }
   ],
   "execution_count": 13
  },
  {
   "metadata": {
    "ExecuteTime": {
     "end_time": "2024-08-08T01:43:54.382280Z",
     "start_time": "2024-08-08T01:42:55.649731Z"
    }
   },
   "cell_type": "code",
   "source": [
    "coherence_values = []\n",
    "for i in tqdm(range(2,10)):\n",
    "    ldamodel = gensim.models.ldamodel.LdaModel(corpus, num_topics=i, id2word = dictionary)\n",
    "    coherence_model = CoherenceModel(model=ldamodel, texts=all_docs, dictionary=dictionary, topn=i)\n",
    "    coherence_score = coherence_model.get_coherence()\n",
    "    coherence_values.append(coherence_score)"
   ],
   "id": "afb62a14e4614206",
   "outputs": [
    {
     "name": "stderr",
     "output_type": "stream",
     "text": [
      "100%|██████████| 8/8 [00:58<00:00,  7.34s/it]\n"
     ]
    }
   ],
   "execution_count": 14
  },
  {
   "metadata": {
    "ExecuteTime": {
     "end_time": "2024-08-08T01:43:54.472471Z",
     "start_time": "2024-08-08T01:43:54.385277Z"
    }
   },
   "cell_type": "code",
   "source": [
    "#라인 그래프 만들기\n",
    "\n",
    "x = range(2,10)\n",
    "plt.plot(x, coherence_values)\n",
    "plt.xlabel('Number of topics')\n",
    "plt.ylabel('Coherence score')"
   ],
   "id": "61e2a692e4d66597",
   "outputs": [
    {
     "data": {
      "text/plain": [
       "Text(0, 0.5, 'Coherence score')"
      ]
     },
     "execution_count": 15,
     "metadata": {},
     "output_type": "execute_result"
    },
    {
     "data": {
      "text/plain": [
       "<Figure size 640x480 with 1 Axes>"
      ],
      "image/png": "[encoded data removed]"
     },
     "metadata": {},
     "output_type": "display_data"
    }
   ],
   "execution_count": 15
  },
  {
   "metadata": {
    "ExecuteTime": {
     "end_time": "2024-08-08T01:43:55.135959Z",
     "start_time": "2024-08-08T01:43:54.473544Z"
    }
   },
   "cell_type": "code",
   "source": [
    "topic_num = 5\n",
    "ldamodel = gensim.models.LdaModel(corpus, num_topics=topic_num, id2word = dictionary,random_state=1, passes=5)"
   ],
   "id": "6770afa1d1a20f02",
   "outputs": [],
   "execution_count": 16
  },
  {
   "metadata": {
    "ExecuteTime": {
     "end_time": "2024-08-08T01:43:55.182274Z",
     "start_time": "2024-08-08T01:43:55.136958Z"
    }
   },
   "cell_type": "code",
   "source": [
    "#document에 대한 label(action number)\n",
    "#documentdp 대한 probability\n",
    "# 두개를 가지고 가장 높은 확률값을 가진 action number 찾기\n",
    "\n",
    "action_align = []\n",
    "\n",
    "for doc in tqdm(ldamodel.get_document_topics(corpus)):\n",
    "    label = []\n",
    "    value = []\n",
    "    for score in doc:\n",
    "        label.append(score[0]) #토픽(=action N)\n",
    "        value.append(score[1]) #토픽의 확률\n",
    "\n",
    "    max_index = np.argmax(value)   #argmax 함수는 리스트에서 가장 max값 을 가진 인덱스를 반환\n",
    "    action_n = label[max_index]\n",
    "    action_align.append(action_n)"
   ],
   "id": "13b2250759b58653",
   "outputs": [
    {
     "name": "stderr",
     "output_type": "stream",
     "text": [
      "100%|██████████| 115/115 [00:00<00:00, 3061.17it/s]\n"
     ]
    }
   ],
   "execution_count": 17
  },
  {
   "metadata": {
    "ExecuteTime": {
     "end_time": "2024-08-08T01:43:55.206867Z",
     "start_time": "2024-08-08T01:43:55.183550Z"
    }
   },
   "cell_type": "code",
   "source": [
    "df_cluster0['action_cluster'] = action_align\n",
    "df_cluster0"
   ],
   "id": "c8719f4cf76d346c",
   "outputs": [
    {
     "data": {
      "text/plain": [
       "                                                review  \\\n",
       "115   시작물론 지금은 월이지만 일 딜라이트서울 생일 기념 사실 과제 때문 백심이랑 전시...   \n",
       "161   기념일 여행 다녀왔당동대구로 사실 집 가는 느낌이라 감흥 없었는데누구보다 재밌게 ...   \n",
       "173  에서 알바할때가끔 갱얼쥐랑 오는사람있는데감사합니다요 지루한 알바중 반가운소식 갱얼쥐...   \n",
       "178  월요일 일 부처남 오신날도 못 쉬고 덕질하러 하이브 뮤지엄 다녀옴 일도 못 쉬고 역...   \n",
       "207  동국대학교서울캠퍼스이해랑예술극장 알앤제이 R J 조은솔 강영석 구준모 최호승 영석 ...   \n",
       "..                                                 ...   \n",
       "624   햇춤 신인춤판 종료 토 월 우진문화공간 전라북도 전주시 덕진구 전주천동로 blog...   \n",
       "627   월 일 개소한 독립예술영화 유통배급지원센터의 이름은 인디그라운드 인디웨이브 인디스...   \n",
       "650  화되는 코로나에 우리들의 일상 곳곳이 바뀌고 있는 것이 실감 나는 요즘 변화 속에서...   \n",
       "687   옻칠미술관경남 통영시 용남면 용남해안로 동양의 나폴리 통영은 나전칠기의 고향이다 ...   \n",
       "688  YES NEXT WAVE 부산신진예술페스티벌 부산신진예술페스티벌 야외공연 취소 알림...   \n",
       "\n",
       "                                         tagged_review  cluster  \\\n",
       "115  [시작, 지금, 딜, 라이트, 서울, 생일, 기념, 사실, 과제, 때문, 심, 전시...        0   \n",
       "161  [기념일, 여행, 다녀오다, 동대구로, 사실, 집, 가다, 느낌, 감흥, 없다, 재...        0   \n",
       "173  [알바, 가끔, 갱얼쥐, 사람, 감사하다, 요, 지루하다, 알바, 반갑다, 소식, ...        0   \n",
       "178  [월요일, 부처, 남, 날, 못, 쉬, 덕질, 하이브, 뮤, 지엄, 다녀오다, 일도...        0   \n",
       "207  [동국대학교, 서울, 캠퍼스, 이해랑, 예술, 극장, 알, 앤제이, 은솔, 강영석,...        0   \n",
       "..                                                 ...      ...   \n",
       "624  [햇춤, 신인, 춤판, 종료, 토, 우진, 문화, 공간, 전라북도, 전주시, 덕진구...        0   \n",
       "627  [개, 소한, 독립, 예술, 영화, 유통, 배급, 센터, 이름, 라운드, 웨이브, ...        0   \n",
       "650  [화, 코로나, 일상, 곳곳이, 바뀌다, 실감, 요즘, 변화, 속, 혼란, 않다, ...        0   \n",
       "687  [옻칠, 미술관, 경남, 통영시, 용남면, 용남, 해안로, 동양, 나폴리, 통영, ...        0   \n",
       "688  [부산, 신진, 예술, 페스티벌, 부산, 신진, 예술, 페스티벌, 야외, 공연, 취...        0   \n",
       "\n",
       "     action_cluster  \n",
       "115               0  \n",
       "161               3  \n",
       "173               4  \n",
       "178               0  \n",
       "207               3  \n",
       "..              ...  \n",
       "624               4  \n",
       "627               0  \n",
       "650               2  \n",
       "687               2  \n",
       "688               3  \n",
       "\n",
       "[115 rows x 4 columns]"
      ],
      "text/html": [
       "<div>\n",
       "<style scoped>\n",
       "    .dataframe tbody tr th:only-of-type {\n",
       "        vertical-align: middle;\n",
       "    }\n",
       "\n",
       "    .dataframe tbody tr th {\n",
       "        vertical-align: top;\n",
       "    }\n",
       "\n",
       "    .dataframe thead th {\n",
       "        text-align: right;\n",
       "    }\n",
       "</style>\n",
       "<table border=\"1\" class=\"dataframe\">\n",
       "  <thead>\n",
       "    <tr style=\"text-align: right;\">\n",
       "      <th></th>\n",
       "      <th>review</th>\n",
       "      <th>tagged_review</th>\n",
       "      <th>cluster</th>\n",
       "      <th>action_cluster</th>\n",
       "    </tr>\n",
       "  </thead>\n",
       "  <tbody>\n",
       "    <tr>\n",
       "      <th>115</th>\n",
       "      <td>시작물론 지금은 월이지만 일 딜라이트서울 생일 기념 사실 과제 때문 백심이랑 전시...</td>\n",
       "      <td>[시작, 지금, 딜, 라이트, 서울, 생일, 기념, 사실, 과제, 때문, 심, 전시...</td>\n",
       "      <td>0</td>\n",
       "      <td>0</td>\n",
       "    </tr>\n",
       "    <tr>\n",
       "      <th>161</th>\n",
       "      <td>기념일 여행 다녀왔당동대구로 사실 집 가는 느낌이라 감흥 없었는데누구보다 재밌게 ...</td>\n",
       "      <td>[기념일, 여행, 다녀오다, 동대구로, 사실, 집, 가다, 느낌, 감흥, 없다, 재...</td>\n",
       "      <td>0</td>\n",
       "      <td>3</td>\n",
       "    </tr>\n",
       "    <tr>\n",
       "      <th>173</th>\n",
       "      <td>에서 알바할때가끔 갱얼쥐랑 오는사람있는데감사합니다요 지루한 알바중 반가운소식 갱얼쥐...</td>\n",
       "      <td>[알바, 가끔, 갱얼쥐, 사람, 감사하다, 요, 지루하다, 알바, 반갑다, 소식, ...</td>\n",
       "      <td>0</td>\n",
       "      <td>4</td>\n",
       "    </tr>\n",
       "    <tr>\n",
       "      <th>178</th>\n",
       "      <td>월요일 일 부처남 오신날도 못 쉬고 덕질하러 하이브 뮤지엄 다녀옴 일도 못 쉬고 역...</td>\n",
       "      <td>[월요일, 부처, 남, 날, 못, 쉬, 덕질, 하이브, 뮤, 지엄, 다녀오다, 일도...</td>\n",
       "      <td>0</td>\n",
       "      <td>0</td>\n",
       "    </tr>\n",
       "    <tr>\n",
       "      <th>207</th>\n",
       "      <td>동국대학교서울캠퍼스이해랑예술극장 알앤제이 R J 조은솔 강영석 구준모 최호승 영석 ...</td>\n",
       "      <td>[동국대학교, 서울, 캠퍼스, 이해랑, 예술, 극장, 알, 앤제이, 은솔, 강영석,...</td>\n",
       "      <td>0</td>\n",
       "      <td>3</td>\n",
       "    </tr>\n",
       "    <tr>\n",
       "      <th>...</th>\n",
       "      <td>...</td>\n",
       "      <td>...</td>\n",
       "      <td>...</td>\n",
       "      <td>...</td>\n",
       "    </tr>\n",
       "    <tr>\n",
       "      <th>624</th>\n",
       "      <td>햇춤 신인춤판 종료 토 월 우진문화공간 전라북도 전주시 덕진구 전주천동로 blog...</td>\n",
       "      <td>[햇춤, 신인, 춤판, 종료, 토, 우진, 문화, 공간, 전라북도, 전주시, 덕진구...</td>\n",
       "      <td>0</td>\n",
       "      <td>4</td>\n",
       "    </tr>\n",
       "    <tr>\n",
       "      <th>627</th>\n",
       "      <td>월 일 개소한 독립예술영화 유통배급지원센터의 이름은 인디그라운드 인디웨이브 인디스...</td>\n",
       "      <td>[개, 소한, 독립, 예술, 영화, 유통, 배급, 센터, 이름, 라운드, 웨이브, ...</td>\n",
       "      <td>0</td>\n",
       "      <td>0</td>\n",
       "    </tr>\n",
       "    <tr>\n",
       "      <th>650</th>\n",
       "      <td>화되는 코로나에 우리들의 일상 곳곳이 바뀌고 있는 것이 실감 나는 요즘 변화 속에서...</td>\n",
       "      <td>[화, 코로나, 일상, 곳곳이, 바뀌다, 실감, 요즘, 변화, 속, 혼란, 않다, ...</td>\n",
       "      <td>0</td>\n",
       "      <td>2</td>\n",
       "    </tr>\n",
       "    <tr>\n",
       "      <th>687</th>\n",
       "      <td>옻칠미술관경남 통영시 용남면 용남해안로 동양의 나폴리 통영은 나전칠기의 고향이다 ...</td>\n",
       "      <td>[옻칠, 미술관, 경남, 통영시, 용남면, 용남, 해안로, 동양, 나폴리, 통영, ...</td>\n",
       "      <td>0</td>\n",
       "      <td>2</td>\n",
       "    </tr>\n",
       "    <tr>\n",
       "      <th>688</th>\n",
       "      <td>YES NEXT WAVE 부산신진예술페스티벌 부산신진예술페스티벌 야외공연 취소 알림...</td>\n",
       "      <td>[부산, 신진, 예술, 페스티벌, 부산, 신진, 예술, 페스티벌, 야외, 공연, 취...</td>\n",
       "      <td>0</td>\n",
       "      <td>3</td>\n",
       "    </tr>\n",
       "  </tbody>\n",
       "</table>\n",
       "<p>115 rows × 4 columns</p>\n",
       "</div>"
      ]
     },
     "execution_count": 18,
     "metadata": {},
     "output_type": "execute_result"
    }
   ],
   "execution_count": 18
  },
  {
   "metadata": {
    "ExecuteTime": {
     "end_time": "2024-08-08T01:43:55.623362Z",
     "start_time": "2024-08-08T01:43:55.208912Z"
    }
   },
   "cell_type": "code",
   "source": [
    "import pyLDAvis.gensim as gensimvis\n",
    "import pyLDAvis"
   ],
   "id": "85048c85dd91699b",
   "outputs": [],
   "execution_count": 19
  },
  {
   "metadata": {
    "ExecuteTime": {
     "end_time": "2024-08-08T01:43:59.009590Z",
     "start_time": "2024-08-08T01:43:55.624365Z"
    }
   },
   "cell_type": "code",
   "source": "prepared_data = gensimvis.prepare(ldamodel,corpus, dictionary)",
   "id": "334042206a9c4473",
   "outputs": [],
   "execution_count": 20
  },
  {
   "metadata": {
    "ExecuteTime": {
     "end_time": "2024-08-08T01:43:59.027418Z",
     "start_time": "2024-08-08T01:43:59.009590Z"
    }
   },
   "cell_type": "code",
   "source": "pyLDAvis.save_html(prepared_data, 'data/prepared_data.html')",
   "id": "83ce857475775143",
   "outputs": [],
   "execution_count": 21
  },
  {
   "metadata": {
    "ExecuteTime": {
     "end_time": "2024-08-08T01:43:59.037412Z",
     "start_time": "2024-08-08T01:43:59.029476Z"
    }
   },
   "cell_type": "code",
   "source": [
    "# LDA 모델에서 모든 토픽과 그 번호를 가져오기\n",
    "topics = ldamodel.show_topics(num_topics=-1, formatted=True)\n",
    "for topic_id, topic_desc in topics:\n",
    "    print(f\"Topic ID: {topic_id}, Description: {topic_desc}\")"
   ],
   "id": "1a1680c2ac183ad6",
   "outputs": [
    {
     "name": "stdout",
     "output_type": "stream",
     "text": [
      "Topic ID: 0, Description: 0.011*\"보다\" + 0.006*\"영화\" + 0.005*\"작품\" + 0.005*\"들다\" + 0.004*\"않다\" + 0.004*\"더\" + 0.004*\"수\" + 0.004*\"좋다\" + 0.004*\"영화제\" + 0.004*\"싶다\"\n",
      "Topic ID: 1, Description: 0.013*\"공연\" + 0.009*\"음악\" + 0.007*\"수\" + 0.007*\"분\" + 0.006*\"초\" + 0.005*\"음악회\" + 0.005*\"소리\" + 0.004*\"문화\" + 0.004*\"보다\" + 0.004*\"예술\"\n",
      "Topic ID: 2, Description: 0.010*\"수\" + 0.007*\"부천\" + 0.007*\"보다\" + 0.007*\"좋다\" + 0.006*\"미술\" + 0.006*\"작품\" + 0.005*\"곳\" + 0.004*\"옻칠\" + 0.004*\"않다\" + 0.004*\"노래\"\n",
      "Topic ID: 3, Description: 0.010*\"공연\" + 0.010*\"보다\" + 0.006*\"수\" + 0.005*\"가다\" + 0.005*\"예술\" + 0.005*\"문화\" + 0.004*\"좋다\" + 0.004*\"작품\" + 0.004*\"무대\" + 0.004*\"들다\"\n",
      "Topic ID: 4, Description: 0.008*\"공연\" + 0.006*\"작품\" + 0.005*\"보다\" + 0.005*\"풍경\" + 0.004*\"수\" + 0.004*\"문화\" + 0.004*\"무대\" + 0.004*\"석\" + 0.004*\"작가\" + 0.003*\"세종\"\n"
     ]
    }
   ],
   "execution_count": 22
  },
  {
   "metadata": {
    "ExecuteTime": {
     "end_time": "2024-08-08T01:43:59.053539Z",
     "start_time": "2024-08-08T01:43:59.041911Z"
    }
   },
   "cell_type": "code",
   "source": [
    "#LDAvis와 LDA 수동으로 토픽 매칭\n",
    "new_action_topic = []\n",
    "for i in tqdm(df_cluster0.action_cluster):\n",
    "    if i == 0:\n",
    "        n = 2\n",
    "    elif i == 1:\n",
    "        n = 4\n",
    "    elif i == 2:\n",
    "        n = 3\n",
    "    elif i == 3:\n",
    "        n = 1\n",
    "    else:\n",
    "        n=5\n",
    "    new_action_topic.append(n)"
   ],
   "id": "a16d5610b00e1e22",
   "outputs": [
    {
     "name": "stderr",
     "output_type": "stream",
     "text": [
      "100%|██████████| 115/115 [00:00<?, ?it/s]\n"
     ]
    }
   ],
   "execution_count": 23
  },
  {
   "metadata": {
    "ExecuteTime": {
     "end_time": "2024-08-08T01:43:59.060667Z",
     "start_time": "2024-08-08T01:43:59.055706Z"
    }
   },
   "cell_type": "code",
   "source": [
    "#기존 컬럼 재배치\n",
    "df_cluster0.action_cluster = new_action_topic"
   ],
   "id": "ca6f355304444b5f",
   "outputs": [],
   "execution_count": 24
  },
  {
   "metadata": {
    "ExecuteTime": {
     "end_time": "2024-08-08T01:43:59.086317Z",
     "start_time": "2024-08-08T01:43:59.061729Z"
    }
   },
   "cell_type": "code",
   "source": [
    "df_cluster0 = df_cluster0[['review', 'cluster', 'action_cluster']]\n",
    "\n",
    "df_cluster0.to_csv('data/Cluster0.csv',encoding='utf-8-sig')"
   ],
   "id": "67931865cb9f583b",
   "outputs": [],
   "execution_count": 25
  },
  {
   "metadata": {
    "ExecuteTime": {
     "end_time": "2024-08-08T01:43:59.100839Z",
     "start_time": "2024-08-08T01:43:59.088312Z"
    }
   },
   "cell_type": "code",
   "source": "df_cluster0",
   "id": "5b37b061a2daecaf",
   "outputs": [
    {
     "data": {
      "text/plain": [
       "                                                review  cluster  \\\n",
       "115   시작물론 지금은 월이지만 일 딜라이트서울 생일 기념 사실 과제 때문 백심이랑 전시...        0   \n",
       "161   기념일 여행 다녀왔당동대구로 사실 집 가는 느낌이라 감흥 없었는데누구보다 재밌게 ...        0   \n",
       "173  에서 알바할때가끔 갱얼쥐랑 오는사람있는데감사합니다요 지루한 알바중 반가운소식 갱얼쥐...        0   \n",
       "178  월요일 일 부처남 오신날도 못 쉬고 덕질하러 하이브 뮤지엄 다녀옴 일도 못 쉬고 역...        0   \n",
       "207  동국대학교서울캠퍼스이해랑예술극장 알앤제이 R J 조은솔 강영석 구준모 최호승 영석 ...        0   \n",
       "..                                                 ...      ...   \n",
       "624   햇춤 신인춤판 종료 토 월 우진문화공간 전라북도 전주시 덕진구 전주천동로 blog...        0   \n",
       "627   월 일 개소한 독립예술영화 유통배급지원센터의 이름은 인디그라운드 인디웨이브 인디스...        0   \n",
       "650  화되는 코로나에 우리들의 일상 곳곳이 바뀌고 있는 것이 실감 나는 요즘 변화 속에서...        0   \n",
       "687   옻칠미술관경남 통영시 용남면 용남해안로 동양의 나폴리 통영은 나전칠기의 고향이다 ...        0   \n",
       "688  YES NEXT WAVE 부산신진예술페스티벌 부산신진예술페스티벌 야외공연 취소 알림...        0   \n",
       "\n",
       "     action_cluster  \n",
       "115               2  \n",
       "161               1  \n",
       "173               5  \n",
       "178               2  \n",
       "207               1  \n",
       "..              ...  \n",
       "624               5  \n",
       "627               2  \n",
       "650               3  \n",
       "687               3  \n",
       "688               1  \n",
       "\n",
       "[115 rows x 3 columns]"
      ],
      "text/html": [
       "<div>\n",
       "<style scoped>\n",
       "    .dataframe tbody tr th:only-of-type {\n",
       "        vertical-align: middle;\n",
       "    }\n",
       "\n",
       "    .dataframe tbody tr th {\n",
       "        vertical-align: top;\n",
       "    }\n",
       "\n",
       "    .dataframe thead th {\n",
       "        text-align: right;\n",
       "    }\n",
       "</style>\n",
       "<table border=\"1\" class=\"dataframe\">\n",
       "  <thead>\n",
       "    <tr style=\"text-align: right;\">\n",
       "      <th></th>\n",
       "      <th>review</th>\n",
       "      <th>cluster</th>\n",
       "      <th>action_cluster</th>\n",
       "    </tr>\n",
       "  </thead>\n",
       "  <tbody>\n",
       "    <tr>\n",
       "      <th>115</th>\n",
       "      <td>시작물론 지금은 월이지만 일 딜라이트서울 생일 기념 사실 과제 때문 백심이랑 전시...</td>\n",
       "      <td>0</td>\n",
       "      <td>2</td>\n",
       "    </tr>\n",
       "    <tr>\n",
       "      <th>161</th>\n",
       "      <td>기념일 여행 다녀왔당동대구로 사실 집 가는 느낌이라 감흥 없었는데누구보다 재밌게 ...</td>\n",
       "      <td>0</td>\n",
       "      <td>1</td>\n",
       "    </tr>\n",
       "    <tr>\n",
       "      <th>173</th>\n",
       "      <td>에서 알바할때가끔 갱얼쥐랑 오는사람있는데감사합니다요 지루한 알바중 반가운소식 갱얼쥐...</td>\n",
       "      <td>0</td>\n",
       "      <td>5</td>\n",
       "    </tr>\n",
       "    <tr>\n",
       "      <th>178</th>\n",
       "      <td>월요일 일 부처남 오신날도 못 쉬고 덕질하러 하이브 뮤지엄 다녀옴 일도 못 쉬고 역...</td>\n",
       "      <td>0</td>\n",
       "      <td>2</td>\n",
       "    </tr>\n",
       "    <tr>\n",
       "      <th>207</th>\n",
       "      <td>동국대학교서울캠퍼스이해랑예술극장 알앤제이 R J 조은솔 강영석 구준모 최호승 영석 ...</td>\n",
       "      <td>0</td>\n",
       "      <td>1</td>\n",
       "    </tr>\n",
       "    <tr>\n",
       "      <th>...</th>\n",
       "      <td>...</td>\n",
       "      <td>...</td>\n",
       "      <td>...</td>\n",
       "    </tr>\n",
       "    <tr>\n",
       "      <th>624</th>\n",
       "      <td>햇춤 신인춤판 종료 토 월 우진문화공간 전라북도 전주시 덕진구 전주천동로 blog...</td>\n",
       "      <td>0</td>\n",
       "      <td>5</td>\n",
       "    </tr>\n",
       "    <tr>\n",
       "      <th>627</th>\n",
       "      <td>월 일 개소한 독립예술영화 유통배급지원센터의 이름은 인디그라운드 인디웨이브 인디스...</td>\n",
       "      <td>0</td>\n",
       "      <td>2</td>\n",
       "    </tr>\n",
       "    <tr>\n",
       "      <th>650</th>\n",
       "      <td>화되는 코로나에 우리들의 일상 곳곳이 바뀌고 있는 것이 실감 나는 요즘 변화 속에서...</td>\n",
       "      <td>0</td>\n",
       "      <td>3</td>\n",
       "    </tr>\n",
       "    <tr>\n",
       "      <th>687</th>\n",
       "      <td>옻칠미술관경남 통영시 용남면 용남해안로 동양의 나폴리 통영은 나전칠기의 고향이다 ...</td>\n",
       "      <td>0</td>\n",
       "      <td>3</td>\n",
       "    </tr>\n",
       "    <tr>\n",
       "      <th>688</th>\n",
       "      <td>YES NEXT WAVE 부산신진예술페스티벌 부산신진예술페스티벌 야외공연 취소 알림...</td>\n",
       "      <td>0</td>\n",
       "      <td>1</td>\n",
       "    </tr>\n",
       "  </tbody>\n",
       "</table>\n",
       "<p>115 rows × 3 columns</p>\n",
       "</div>"
      ]
     },
     "execution_count": 26,
     "metadata": {},
     "output_type": "execute_result"
    }
   ],
   "execution_count": 26
  },
  {
   "metadata": {
    "ExecuteTime": {
     "end_time": "2024-08-08T01:47:50.176715Z",
     "start_time": "2024-08-08T01:47:50.165757Z"
    }
   },
   "cell_type": "code",
   "source": "df_cluster0.to_pickle('강건.pkl')",
   "id": "8810bc5aed9e6020",
   "outputs": [],
   "execution_count": 27
  },
  {
   "metadata": {},
   "cell_type": "code",
   "outputs": [],
   "execution_count": null,
   "source": "",
   "id": "bf5f9eda2c522898"
  }
 ],
 "metadata": {
  "kernelspec": {
   "display_name": "Python 3",
   "language": "python",
   "name": "python3"
  },
  "language_info": {
   "codemirror_mode": {
    "name": "ipython",
    "version": 2
   },
   "file_extension": ".py",
   "mimetype": "text/x-python",
   "name": "python",
   "nbconvert_exporter": "python",
   "pygments_lexer": "ipython2",
   "version": "2.7.6"
  }
 },
 "nbformat": 4,
 "nbformat_minor": 5
}
