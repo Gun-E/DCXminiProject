{
 "cells": [
  {
   "cell_type": "code",
   "id": "initial_id",
   "metadata": {
    "collapsed": true,
    "ExecuteTime": {
     "end_time": "2024-08-07T06:30:14.772782Z",
     "start_time": "2024-08-07T06:30:14.254108Z"
    }
   },
   "source": [
    "import pandas as pd\n",
    "import pickle\n",
    "from tqdm import tqdm\n",
    "import warnings\n",
    "warnings.filterwarnings('ignore')"
   ],
   "outputs": [],
   "execution_count": 2
  },
  {
   "metadata": {
    "ExecuteTime": {
     "end_time": "2024-08-07T06:30:15.434696Z",
     "start_time": "2024-08-07T06:30:15.369239Z"
    }
   },
   "cell_type": "code",
   "source": [
    "with open(\"컬처케어실습.pkl\", \"rb\") as f:\n",
    "    df = pickle.load(f)\n",
    "df"
   ],
   "id": "8de211bb0757c510",
   "outputs": [
    {
     "data": {
      "text/plain": [
       "                                                review  \\\n",
       "0     노키즈존 세 이하 입장 불가 일요일 간만에 일찍 아점 먹고낮잠 쿨쿨 자다가뽈뽈부부...   \n",
       "1    쉬냐 너 모르냐 오늘 빼빼로데이 잖아 우왓 퀸 퀸 스페이드는 놀래켰는데 역시 얼음왕...   \n",
       "2    같아서 언이를 불러 필름카메라를 찍기로 했다 아침 일찍부터 일어나서 박콩님 산책 시...   \n",
       "3     표지는 글 분위기랑 안 어울리게 너무 강렬해서벽 뒤로 슬그머니 피해야할 것 같았다...   \n",
       "4    쉽지 않다 은셔랑 이번에 한국와서 제일 친해짐 생각난 김에 은서랑 아이스크림 사먹으...   \n",
       "..                                                 ...   \n",
       "725  트센터 위 포스터를 클릭하시면 해당 공연 예매 사이트로 바로 이동합니다 OPEN F...   \n",
       "726  지엄 겨울 방학 정규 수업 후 모처럼 마르첼로 바렌기전 수업에 다녀왔습니다 친구들과...   \n",
       "727  울아트센터 어쩌면 처음 보는 예술 놀라움을 넘어 서늘함을 전하는이 여름에 특별한 피...   \n",
       "728  장 기다렸던 전시 르네 마그리트 특별전 드디어 다녀왔다 비록 원화는 없었지만 멀티미...   \n",
       "729  스테이지 라스트 세션 장르 연극 장소 예스 스테이지 관 기간 관람일 년 월 일 시 ...   \n",
       "\n",
       "                                         tagged_review  cluster  \n",
       "0    [노, 키즈, 존, 세, 이하, 입장, 불가, 일요일, 간만, 일찍, 점, 먹다, ...        3  \n",
       "1    [쉬다, 모르다, 오늘, 빼빼로데이, 잖다, 우왓, 퀸, 퀸, 스, 페이, 들다, ...        4  \n",
       "2    [불다, 필름, 카메라, 찍기, 아침, 일찍, 일어나서, 박콩, 산책, 일찍, 일어...        4  \n",
       "3    [표지, 글, 분위기, 안, 어울리다, 강렬하다, 벽, 뒤, 슬그머니, 피해, 야하...        1  \n",
       "4    [쉬다, 않다, 은셔, 한국, 서다, 제일, 친해지다, 생각나다, 김, 은서, 아이...        1  \n",
       "..                                                 ...      ...  \n",
       "725  [트, 센터, 위, 포스터, 클릭, 해당, 공연, 예매, 사이트, 이동, 마침표, ...        3  \n",
       "726  [지엄, 겨울, 방학, 정규, 수업, 후, 모처럼, 마르첼, 바렌, 기전, 수업, ...        3  \n",
       "727  [아트, 센터, 어쩌면, 처음, 보다, 예술, 움, 넘다, 서늘하다, 전, 여름, ...        4  \n",
       "728  [장, 기다리다, 전시, 르, 마그리트, 특별, 전, 다녀오다, 원화, 없다, 멀티...        1  \n",
       "729  [스테이지, 라스트, 세션, 장르, 연극, 장소, 예스, 스테이지, 관, 기간, 관...        4  \n",
       "\n",
       "[730 rows x 3 columns]"
      ],
      "text/html": [
       "<div>\n",
       "<style scoped>\n",
       "    .dataframe tbody tr th:only-of-type {\n",
       "        vertical-align: middle;\n",
       "    }\n",
       "\n",
       "    .dataframe tbody tr th {\n",
       "        vertical-align: top;\n",
       "    }\n",
       "\n",
       "    .dataframe thead th {\n",
       "        text-align: right;\n",
       "    }\n",
       "</style>\n",
       "<table border=\"1\" class=\"dataframe\">\n",
       "  <thead>\n",
       "    <tr style=\"text-align: right;\">\n",
       "      <th></th>\n",
       "      <th>review</th>\n",
       "      <th>tagged_review</th>\n",
       "      <th>cluster</th>\n",
       "    </tr>\n",
       "  </thead>\n",
       "  <tbody>\n",
       "    <tr>\n",
       "      <th>0</th>\n",
       "      <td>노키즈존 세 이하 입장 불가 일요일 간만에 일찍 아점 먹고낮잠 쿨쿨 자다가뽈뽈부부...</td>\n",
       "      <td>[노, 키즈, 존, 세, 이하, 입장, 불가, 일요일, 간만, 일찍, 점, 먹다, ...</td>\n",
       "      <td>3</td>\n",
       "    </tr>\n",
       "    <tr>\n",
       "      <th>1</th>\n",
       "      <td>쉬냐 너 모르냐 오늘 빼빼로데이 잖아 우왓 퀸 퀸 스페이드는 놀래켰는데 역시 얼음왕...</td>\n",
       "      <td>[쉬다, 모르다, 오늘, 빼빼로데이, 잖다, 우왓, 퀸, 퀸, 스, 페이, 들다, ...</td>\n",
       "      <td>4</td>\n",
       "    </tr>\n",
       "    <tr>\n",
       "      <th>2</th>\n",
       "      <td>같아서 언이를 불러 필름카메라를 찍기로 했다 아침 일찍부터 일어나서 박콩님 산책 시...</td>\n",
       "      <td>[불다, 필름, 카메라, 찍기, 아침, 일찍, 일어나서, 박콩, 산책, 일찍, 일어...</td>\n",
       "      <td>4</td>\n",
       "    </tr>\n",
       "    <tr>\n",
       "      <th>3</th>\n",
       "      <td>표지는 글 분위기랑 안 어울리게 너무 강렬해서벽 뒤로 슬그머니 피해야할 것 같았다...</td>\n",
       "      <td>[표지, 글, 분위기, 안, 어울리다, 강렬하다, 벽, 뒤, 슬그머니, 피해, 야하...</td>\n",
       "      <td>1</td>\n",
       "    </tr>\n",
       "    <tr>\n",
       "      <th>4</th>\n",
       "      <td>쉽지 않다 은셔랑 이번에 한국와서 제일 친해짐 생각난 김에 은서랑 아이스크림 사먹으...</td>\n",
       "      <td>[쉬다, 않다, 은셔, 한국, 서다, 제일, 친해지다, 생각나다, 김, 은서, 아이...</td>\n",
       "      <td>1</td>\n",
       "    </tr>\n",
       "    <tr>\n",
       "      <th>...</th>\n",
       "      <td>...</td>\n",
       "      <td>...</td>\n",
       "      <td>...</td>\n",
       "    </tr>\n",
       "    <tr>\n",
       "      <th>725</th>\n",
       "      <td>트센터 위 포스터를 클릭하시면 해당 공연 예매 사이트로 바로 이동합니다 OPEN F...</td>\n",
       "      <td>[트, 센터, 위, 포스터, 클릭, 해당, 공연, 예매, 사이트, 이동, 마침표, ...</td>\n",
       "      <td>3</td>\n",
       "    </tr>\n",
       "    <tr>\n",
       "      <th>726</th>\n",
       "      <td>지엄 겨울 방학 정규 수업 후 모처럼 마르첼로 바렌기전 수업에 다녀왔습니다 친구들과...</td>\n",
       "      <td>[지엄, 겨울, 방학, 정규, 수업, 후, 모처럼, 마르첼, 바렌, 기전, 수업, ...</td>\n",
       "      <td>3</td>\n",
       "    </tr>\n",
       "    <tr>\n",
       "      <th>727</th>\n",
       "      <td>울아트센터 어쩌면 처음 보는 예술 놀라움을 넘어 서늘함을 전하는이 여름에 특별한 피...</td>\n",
       "      <td>[아트, 센터, 어쩌면, 처음, 보다, 예술, 움, 넘다, 서늘하다, 전, 여름, ...</td>\n",
       "      <td>4</td>\n",
       "    </tr>\n",
       "    <tr>\n",
       "      <th>728</th>\n",
       "      <td>장 기다렸던 전시 르네 마그리트 특별전 드디어 다녀왔다 비록 원화는 없었지만 멀티미...</td>\n",
       "      <td>[장, 기다리다, 전시, 르, 마그리트, 특별, 전, 다녀오다, 원화, 없다, 멀티...</td>\n",
       "      <td>1</td>\n",
       "    </tr>\n",
       "    <tr>\n",
       "      <th>729</th>\n",
       "      <td>스테이지 라스트 세션 장르 연극 장소 예스 스테이지 관 기간 관람일 년 월 일 시 ...</td>\n",
       "      <td>[스테이지, 라스트, 세션, 장르, 연극, 장소, 예스, 스테이지, 관, 기간, 관...</td>\n",
       "      <td>4</td>\n",
       "    </tr>\n",
       "  </tbody>\n",
       "</table>\n",
       "<p>730 rows × 3 columns</p>\n",
       "</div>"
      ]
     },
     "execution_count": 3,
     "metadata": {},
     "output_type": "execute_result"
    }
   ],
   "execution_count": 3
  },
  {
   "metadata": {
    "ExecuteTime": {
     "end_time": "2024-08-07T06:30:40.189998Z",
     "start_time": "2024-08-07T06:30:39.548941Z"
    }
   },
   "cell_type": "code",
   "source": [
    "import gensim\n",
    "from gensim import corpora, models\n",
    "from gensim.corpora import Dictionary"
   ],
   "id": "8e7a1a5e68ba76c3",
   "outputs": [],
   "execution_count": 4
  },
  {
   "metadata": {
    "ExecuteTime": {
     "end_time": "2024-08-07T06:30:50.849520Z",
     "start_time": "2024-08-07T06:30:50.842303Z"
    }
   },
   "cell_type": "code",
   "source": "df_cluster0 = df[df[\"cluster\"]==0]",
   "id": "c29d6770422347d",
   "outputs": [],
   "execution_count": 6
  },
  {
   "metadata": {
    "ExecuteTime": {
     "end_time": "2024-08-07T06:31:18.440630Z",
     "start_time": "2024-08-07T06:31:18.401567Z"
    }
   },
   "cell_type": "code",
   "source": [
    "# 단어사전 구축\n",
    "all_docs = list(df_cluster0[\"tagged_review\"])\n",
    "dictionary = Dictionary(all_docs)\n",
    "len(dictionary.token2id)"
   ],
   "id": "e9fbb7c2d7df2111",
   "outputs": [
    {
     "data": {
      "text/plain": [
       "10301"
      ]
     },
     "execution_count": 9,
     "metadata": {},
     "output_type": "execute_result"
    }
   ],
   "execution_count": 9
  },
  {
   "metadata": {
    "ExecuteTime": {
     "end_time": "2024-08-07T06:31:24.582808Z",
     "start_time": "2024-08-07T06:31:24.551411Z"
    }
   },
   "cell_type": "code",
   "source": [
    "# 구축된 단어사전을 이용해서 BOW 실시\n",
    "corpus = []\n",
    "for doc in all_docs:\n",
    "    corpus.append(dictionary.doc2bow(doc))\n",
    "len(corpus)"
   ],
   "id": "8c4cc3d3c1d38b88",
   "outputs": [
    {
     "data": {
      "text/plain": [
       "115"
      ]
     },
     "execution_count": 10,
     "metadata": {},
     "output_type": "execute_result"
    }
   ],
   "execution_count": 10
  },
  {
   "metadata": {
    "ExecuteTime": {
     "end_time": "2024-08-07T06:31:54.248544Z",
     "start_time": "2024-08-07T06:31:54.080604Z"
    }
   },
   "cell_type": "code",
   "source": [
    "topic_num = 3\n",
    "\n",
    "ldamodel = models.LdaModel(corpus, num_topics=topic_num, id2word=dictionary)"
   ],
   "id": "8b85154e412d3e5a",
   "outputs": [],
   "execution_count": 11
  },
  {
   "metadata": {
    "ExecuteTime": {
     "end_time": "2024-08-07T06:32:03.972461Z",
     "start_time": "2024-08-07T06:32:03.919919Z"
    }
   },
   "cell_type": "code",
   "source": [
    "# 문서별 topic 확률 확인\n",
    "for i in range(len(corpus)):\n",
    "    print(ldamodel.get_document_topics(corpus[i]))"
   ],
   "id": "6e2bf0f3bd121478",
   "outputs": [
    {
     "name": "stdout",
     "output_type": "stream",
     "text": [
      "[(0, 0.15887482), (1, 0.8404269)]\n",
      "[(0, 0.9765011), (1, 0.022952178)]\n",
      "[(0, 0.5967234), (1, 0.40245372)]\n",
      "[(0, 0.033842757), (1, 0.9650946)]\n",
      "[(0, 0.5328798), (1, 0.46616)]\n",
      "[(0, 0.998646)]\n",
      "[(0, 0.22725932), (1, 0.7720416)]\n",
      "[(1, 0.6425009), (2, 0.3568553)]\n",
      "[(0, 0.9984079)]\n",
      "[(2, 0.9977701)]\n",
      "[(0, 0.99673194)]\n",
      "[(1, 0.99738395)]\n",
      "[(0, 0.2193765), (1, 0.775182)]\n",
      "[(2, 0.99809796)]\n",
      "[(2, 0.996534)]\n",
      "[(0, 0.99267477)]\n",
      "[(1, 0.99873346)]\n",
      "[(0, 0.9842185), (2, 0.011317486)]\n",
      "[(0, 0.10312689), (1, 0.8702841), (2, 0.026589042)]\n",
      "[(0, 0.99857783)]\n",
      "[(0, 0.9101594), (1, 0.089034654)]\n",
      "[(0, 0.3109438), (1, 0.01954974), (2, 0.6695065)]\n",
      "[(0, 0.038172916), (2, 0.9610926)]\n",
      "[(0, 0.998708)]\n",
      "[(0, 0.15688193), (1, 0.8423649)]\n",
      "[(0, 0.99873334)]\n",
      "[(0, 0.8867728), (1, 0.11251969)]\n",
      "[(1, 0.96890616), (2, 0.030329918)]\n",
      "[(0, 0.9986248)]\n",
      "[(1, 0.99854946)]\n",
      "[(0, 0.18221977), (1, 0.7942497), (2, 0.023530472)]\n",
      "[(0, 0.18556233), (2, 0.8137034)]\n",
      "[(2, 0.99895006)]\n",
      "[(1, 0.9981117)]\n",
      "[(0, 0.056587428), (2, 0.942608)]\n",
      "[(0, 0.2827479), (1, 0.7164364)]\n",
      "[(0, 0.9474987), (1, 0.051481582)]\n",
      "[(0, 0.52598023), (2, 0.47297123)]\n",
      "[(2, 0.99880713)]\n",
      "[(0, 0.062892385), (1, 0.9362733)]\n",
      "[(1, 0.8171891), (2, 0.18183716)]\n",
      "[(0, 0.9777904), (2, 0.020860106)]\n",
      "[(1, 0.9576203), (2, 0.041050766)]\n",
      "[(1, 0.99099505)]\n",
      "[(0, 0.9989086)]\n",
      "[(2, 0.9989196)]\n",
      "[(2, 0.99818754)]\n",
      "[(2, 0.99870443)]\n",
      "[(2, 0.99031484)]\n",
      "[(0, 0.056212123), (2, 0.9429986)]\n",
      "[(0, 0.99814624)]\n",
      "[(2, 0.99518186)]\n",
      "[(1, 0.9970235)]\n",
      "[(0, 0.39844146), (1, 0.43725947), (2, 0.16429907)]\n",
      "[(2, 0.9948136)]\n",
      "[(2, 0.998792)]\n",
      "[(2, 0.99531114)]\n",
      "[(1, 0.9179978), (2, 0.08134716)]\n",
      "[(0, 0.9531206), (1, 0.04320053)]\n",
      "[(0, 0.8097965), (2, 0.18880527)]\n",
      "[(0, 0.030459333), (1, 0.6029177), (2, 0.366623)]\n",
      "[(1, 0.99814814)]\n",
      "[(1, 0.9986609)]\n",
      "[(1, 0.9945059)]\n",
      "[(0, 0.19205996), (1, 0.7443037), (2, 0.06363637)]\n",
      "[(0, 0.21896462), (2, 0.78027606)]\n",
      "[(2, 0.99749535)]\n",
      "[(1, 0.60453415), (2, 0.3946578)]\n",
      "[(0, 0.11336054), (1, 0.15008573), (2, 0.7365537)]\n",
      "[(2, 0.998536)]\n",
      "[(0, 0.05274915), (1, 0.9461894)]\n",
      "[(2, 0.9987465)]\n",
      "[(1, 0.9981098)]\n",
      "[(1, 0.01811694), (2, 0.976844)]\n",
      "[(1, 0.6191019), (2, 0.38018647)]\n",
      "[(2, 0.9989328)]\n",
      "[(1, 0.99853307)]\n",
      "[(0, 0.99868494)]\n",
      "[(0, 0.99863714)]\n",
      "[(2, 0.9957571)]\n",
      "[(0, 0.07247973), (2, 0.9268674)]\n",
      "[(2, 0.9982103)]\n",
      "[(2, 0.99034613)]\n",
      "[(0, 0.99869156)]\n",
      "[(0, 0.13766219), (1, 0.8615441)]\n",
      "[(2, 0.9983405)]\n",
      "[(1, 0.037458766), (2, 0.9616809)]\n",
      "[(1, 0.78337497), (2, 0.21525112)]\n",
      "[(0, 0.99815774)]\n",
      "[(0, 0.04725302), (1, 0.55540574), (2, 0.39734125)]\n",
      "[(0, 0.9830714), (2, 0.016316904)]\n",
      "[(1, 0.75107205), (2, 0.24826263)]\n",
      "[(0, 0.18886213), (1, 0.45602936), (2, 0.3551085)]\n",
      "[(0, 0.99857914)]\n",
      "[(2, 0.9984442)]\n",
      "[(0, 0.998762)]\n",
      "[(0, 0.26431403), (2, 0.73458403)]\n",
      "[(2, 0.99846816)]\n",
      "[(0, 0.32672277), (2, 0.6726605)]\n",
      "[(1, 0.74913263), (2, 0.24801585)]\n",
      "[(0, 0.99829495)]\n",
      "[(2, 0.99383724)]\n",
      "[(1, 0.95567065), (2, 0.04374014)]\n",
      "[(0, 0.14952898), (2, 0.84977126)]\n",
      "[(0, 0.27863303), (2, 0.720436)]\n",
      "[(0, 0.99899656)]\n",
      "[(1, 0.9969228)]\n",
      "[(2, 0.9987467)]\n",
      "[(0, 0.99149376)]\n",
      "[(2, 0.9986142)]\n",
      "[(1, 0.19813748), (2, 0.8011758)]\n",
      "[(0, 0.9982551)]\n",
      "[(0, 0.066636674), (2, 0.9327331)]\n",
      "[(0, 0.8883969), (2, 0.11100703)]\n",
      "[(0, 0.17717595), (1, 0.6283169), (2, 0.19450715)]\n"
     ]
    }
   ],
   "execution_count": 12
  },
  {
   "metadata": {
    "ExecuteTime": {
     "end_time": "2024-08-07T06:32:17.117097Z",
     "start_time": "2024-08-07T06:32:16.677248Z"
    }
   },
   "cell_type": "code",
   "source": [
    "from gensim.models import CoherenceModel\n",
    "import matplotlib.pyplot as plt\n",
    "import numpy as np"
   ],
   "id": "612f4abe0885d5fb",
   "outputs": [],
   "execution_count": 13
  },
  {
   "metadata": {
    "ExecuteTime": {
     "end_time": "2024-08-07T06:32:31.566849Z",
     "start_time": "2024-08-07T06:32:23.754913Z"
    }
   },
   "cell_type": "code",
   "source": [
    "# coherence_model 만들어서 체크 : 토픽 개수를 3개로 설정했을때의 점수\n",
    "\n",
    "top_n = 3\n",
    "\n",
    "#perplexity\n",
    "perplexity_score = ldamodel.log_perplexity(corpus)\n",
    "\n",
    "#Coherence\n",
    "coherence_model = CoherenceModel(model=ldamodel, texts=all_docs, dictionary=dictionary, topn=top_n)\n",
    "coherence_score = coherence_model.get_coherence()\n",
    "\n",
    "\n",
    "print('Perplexity score :', perplexity_score)\n",
    "print('Coherence score :', coherence_score)"
   ],
   "id": "73ae2bb85c5b2eec",
   "outputs": [
    {
     "name": "stdout",
     "output_type": "stream",
     "text": [
      "Perplexity score : -8.483345819029918\n",
      "Coherence score : 0.6052886563221509\n"
     ]
    }
   ],
   "execution_count": 14
  },
  {
   "metadata": {
    "ExecuteTime": {
     "end_time": "2024-08-07T06:32:43.187219Z",
     "start_time": "2024-08-07T06:32:40.971779Z"
    }
   },
   "cell_type": "code",
   "source": [
    "perplexity_values=[]\n",
    "\n",
    "for i in range(2,10):\n",
    "    ldamodel = gensim.models.ldamodel.LdaModel(corpus, num_topics=i, id2word = dictionary)\n",
    "    perplexity_v = ldamodel.log_perplexity(corpus)\n",
    "    perplexity_values.append(perplexity_v)"
   ],
   "id": "1d1063648ddf7a5e",
   "outputs": [],
   "execution_count": 15
  },
  {
   "metadata": {
    "ExecuteTime": {
     "end_time": "2024-08-07T06:32:45.659452Z",
     "start_time": "2024-08-07T06:32:45.551648Z"
    }
   },
   "cell_type": "code",
   "source": [
    "#라인 그래프 만들기\n",
    "\n",
    "x = range(2,10)\n",
    "plt.plot(x, perplexity_values)\n",
    "plt.xlabel('Number of topics')\n",
    "plt.ylabel('Perplexity score')"
   ],
   "id": "baee162b9e6ffbc7",
   "outputs": [
    {
     "data": {
      "text/plain": [
       "Text(0, 0.5, 'Perplexity score')"
      ]
     },
     "execution_count": 16,
     "metadata": {},
     "output_type": "execute_result"
    },
    {
     "data": {
      "text/plain": [
       "<Figure size 640x480 with 1 Axes>"
      ],
      "image/png": "[encoded data removed]"
     },
     "metadata": {},
     "output_type": "display_data"
    }
   ],
   "execution_count": 16
  },
  {
   "metadata": {
    "ExecuteTime": {
     "end_time": "2024-08-07T06:33:54.408725Z",
     "start_time": "2024-08-07T06:32:52.532297Z"
    }
   },
   "cell_type": "code",
   "source": [
    "coherence_values = []\n",
    "for i in tqdm(range(2,10)):\n",
    "    ldamodel = gensim.models.ldamodel.LdaModel(corpus, num_topics=i, id2word = dictionary)\n",
    "    coherence_model = CoherenceModel(model=ldamodel, texts=all_docs, dictionary=dictionary, topn=i)\n",
    "    coherence_score = coherence_model.get_coherence()\n",
    "    coherence_values.append(coherence_score)"
   ],
   "id": "afb62a14e4614206",
   "outputs": [
    {
     "name": "stderr",
     "output_type": "stream",
     "text": [
      "100%|██████████| 8/8 [01:01<00:00,  7.73s/it]\n"
     ]
    }
   ],
   "execution_count": 17
  },
  {
   "metadata": {
    "ExecuteTime": {
     "end_time": "2024-08-07T06:33:54.493803Z",
     "start_time": "2024-08-07T06:33:54.409726Z"
    }
   },
   "cell_type": "code",
   "source": [
    "#라인 그래프 만들기\n",
    "\n",
    "x = range(2,10)\n",
    "plt.plot(x, coherence_values)\n",
    "plt.xlabel('Number of topics')\n",
    "plt.ylabel('Coherence score')"
   ],
   "id": "61e2a692e4d66597",
   "outputs": [
    {
     "data": {
      "text/plain": [
       "Text(0, 0.5, 'Coherence score')"
      ]
     },
     "execution_count": 18,
     "metadata": {},
     "output_type": "execute_result"
    },
    {
     "data": {
      "text/plain": [
       "<Figure size 640x480 with 1 Axes>"
      ],
      "image/png": "[encoded data removed]"
     },
     "metadata": {},
     "output_type": "display_data"
    }
   ],
   "execution_count": 18
  },
  {
   "metadata": {
    "ExecuteTime": {
     "end_time": "2024-08-07T06:34:07.413106Z",
     "start_time": "2024-08-07T06:34:06.592898Z"
    }
   },
   "cell_type": "code",
   "source": [
    "topic_num = 5\n",
    "ldamodel = gensim.models.LdaModel(corpus, num_topics=topic_num, id2word = dictionary,random_state=1, passes=5)"
   ],
   "id": "6770afa1d1a20f02",
   "outputs": [],
   "execution_count": 19
  },
  {
   "metadata": {
    "ExecuteTime": {
     "end_time": "2024-08-07T06:34:10.180577Z",
     "start_time": "2024-08-07T06:34:10.136849Z"
    }
   },
   "cell_type": "code",
   "source": [
    "#document에 대한 label(action number)\n",
    "#documentdp 대한 probability\n",
    "# 두개를 가지고 가장 높은 확률값을 가진 action number 찾기\n",
    "\n",
    "action_align = []\n",
    "\n",
    "for doc in tqdm(ldamodel.get_document_topics(corpus)):\n",
    "    label = []\n",
    "    value = []\n",
    "    for score in doc:\n",
    "        label.append(score[0]) #토픽(=action N)\n",
    "        value.append(score[1]) #토픽의 확률\n",
    "\n",
    "    max_index = np.argmax(value)   #argmax 함수는 리스트에서 가장 max값 을 가진 인덱스를 반환\n",
    "    action_n = label[max_index]\n",
    "    action_align.append(action_n)"
   ],
   "id": "13b2250759b58653",
   "outputs": [
    {
     "name": "stderr",
     "output_type": "stream",
     "text": [
      "100%|██████████| 115/115 [00:00<00:00, 3208.81it/s]\n"
     ]
    }
   ],
   "execution_count": 20
  },
  {
   "metadata": {
    "ExecuteTime": {
     "end_time": "2024-08-07T06:35:55.243746Z",
     "start_time": "2024-08-07T06:35:55.227301Z"
    }
   },
   "cell_type": "code",
   "source": [
    "df_cluster0['action_cluster'] = action_align\n",
    "df_cluster0"
   ],
   "id": "c8719f4cf76d346c",
   "outputs": [
    {
     "data": {
      "text/plain": [
       "                                                review  \\\n",
       "115   시작물론 지금은 월이지만 일 딜라이트서울 생일 기념 사실 과제 때문 백심이랑 전시...   \n",
       "161   기념일 여행 다녀왔당동대구로 사실 집 가는 느낌이라 감흥 없었는데누구보다 재밌게 ...   \n",
       "173  에서 알바할때가끔 갱얼쥐랑 오는사람있는데감사합니다요 지루한 알바중 반가운소식 갱얼쥐...   \n",
       "178  월요일 일 부처남 오신날도 못 쉬고 덕질하러 하이브 뮤지엄 다녀옴 일도 못 쉬고 역...   \n",
       "207  동국대학교서울캠퍼스이해랑예술극장 알앤제이 R J 조은솔 강영석 구준모 최호승 영석 ...   \n",
       "..                                                 ...   \n",
       "624   햇춤 신인춤판 종료 토 월 우진문화공간 전라북도 전주시 덕진구 전주천동로 blog...   \n",
       "627   월 일 개소한 독립예술영화 유통배급지원센터의 이름은 인디그라운드 인디웨이브 인디스...   \n",
       "650  화되는 코로나에 우리들의 일상 곳곳이 바뀌고 있는 것이 실감 나는 요즘 변화 속에서...   \n",
       "687   옻칠미술관경남 통영시 용남면 용남해안로 동양의 나폴리 통영은 나전칠기의 고향이다 ...   \n",
       "688  YES NEXT WAVE 부산신진예술페스티벌 부산신진예술페스티벌 야외공연 취소 알림...   \n",
       "\n",
       "                                         tagged_review  cluster  \\\n",
       "115  [시작, 지금, 딜, 라이트, 서울, 생일, 기념, 사실, 과제, 때문, 심, 전시...        0   \n",
       "161  [기념일, 여행, 다녀오다, 동대구로, 사실, 집, 가다, 느낌, 감흥, 없다, 재...        0   \n",
       "173  [알바, 가끔, 갱얼쥐, 사람, 감사하다, 요, 지루하다, 알바, 반갑다, 소식, ...        0   \n",
       "178  [월요일, 부처, 남, 날, 못, 쉬, 덕질, 하이브, 뮤, 지엄, 다녀오다, 일도...        0   \n",
       "207  [동국대학교, 서울, 캠퍼스, 이해랑, 예술, 극장, 알, 앤제이, 은솔, 강영석,...        0   \n",
       "..                                                 ...      ...   \n",
       "624  [햇춤, 신인, 춤판, 종료, 토, 우진, 문화, 공간, 전라북도, 전주시, 덕진구...        0   \n",
       "627  [개, 소한, 독립, 예술, 영화, 유통, 배급, 센터, 이름, 라운드, 웨이브, ...        0   \n",
       "650  [화, 코로나, 일상, 곳곳이, 바뀌다, 실감, 요즘, 변화, 속, 혼란, 않다, ...        0   \n",
       "687  [옻칠, 미술관, 경남, 통영시, 용남면, 용남, 해안로, 동양, 나폴리, 통영, ...        0   \n",
       "688  [부산, 신진, 예술, 페스티벌, 부산, 신진, 예술, 페스티벌, 야외, 공연, 취...        0   \n",
       "\n",
       "     action_cluster  \n",
       "115               0  \n",
       "161               3  \n",
       "173               4  \n",
       "178               0  \n",
       "207               3  \n",
       "..              ...  \n",
       "624               4  \n",
       "627               0  \n",
       "650               2  \n",
       "687               2  \n",
       "688               3  \n",
       "\n",
       "[115 rows x 4 columns]"
      ],
      "text/html": [
       "<div>\n",
       "<style scoped>\n",
       "    .dataframe tbody tr th:only-of-type {\n",
       "        vertical-align: middle;\n",
       "    }\n",
       "\n",
       "    .dataframe tbody tr th {\n",
       "        vertical-align: top;\n",
       "    }\n",
       "\n",
       "    .dataframe thead th {\n",
       "        text-align: right;\n",
       "    }\n",
       "</style>\n",
       "<table border=\"1\" class=\"dataframe\">\n",
       "  <thead>\n",
       "    <tr style=\"text-align: right;\">\n",
       "      <th></th>\n",
       "      <th>review</th>\n",
       "      <th>tagged_review</th>\n",
       "      <th>cluster</th>\n",
       "      <th>action_cluster</th>\n",
       "    </tr>\n",
       "  </thead>\n",
       "  <tbody>\n",
       "    <tr>\n",
       "      <th>115</th>\n",
       "      <td>시작물론 지금은 월이지만 일 딜라이트서울 생일 기념 사실 과제 때문 백심이랑 전시...</td>\n",
       "      <td>[시작, 지금, 딜, 라이트, 서울, 생일, 기념, 사실, 과제, 때문, 심, 전시...</td>\n",
       "      <td>0</td>\n",
       "      <td>0</td>\n",
       "    </tr>\n",
       "    <tr>\n",
       "      <th>161</th>\n",
       "      <td>기념일 여행 다녀왔당동대구로 사실 집 가는 느낌이라 감흥 없었는데누구보다 재밌게 ...</td>\n",
       "      <td>[기념일, 여행, 다녀오다, 동대구로, 사실, 집, 가다, 느낌, 감흥, 없다, 재...</td>\n",
       "      <td>0</td>\n",
       "      <td>3</td>\n",
       "    </tr>\n",
       "    <tr>\n",
       "      <th>173</th>\n",
       "      <td>에서 알바할때가끔 갱얼쥐랑 오는사람있는데감사합니다요 지루한 알바중 반가운소식 갱얼쥐...</td>\n",
       "      <td>[알바, 가끔, 갱얼쥐, 사람, 감사하다, 요, 지루하다, 알바, 반갑다, 소식, ...</td>\n",
       "      <td>0</td>\n",
       "      <td>4</td>\n",
       "    </tr>\n",
       "    <tr>\n",
       "      <th>178</th>\n",
       "      <td>월요일 일 부처남 오신날도 못 쉬고 덕질하러 하이브 뮤지엄 다녀옴 일도 못 쉬고 역...</td>\n",
       "      <td>[월요일, 부처, 남, 날, 못, 쉬, 덕질, 하이브, 뮤, 지엄, 다녀오다, 일도...</td>\n",
       "      <td>0</td>\n",
       "      <td>0</td>\n",
       "    </tr>\n",
       "    <tr>\n",
       "      <th>207</th>\n",
       "      <td>동국대학교서울캠퍼스이해랑예술극장 알앤제이 R J 조은솔 강영석 구준모 최호승 영석 ...</td>\n",
       "      <td>[동국대학교, 서울, 캠퍼스, 이해랑, 예술, 극장, 알, 앤제이, 은솔, 강영석,...</td>\n",
       "      <td>0</td>\n",
       "      <td>3</td>\n",
       "    </tr>\n",
       "    <tr>\n",
       "      <th>...</th>\n",
       "      <td>...</td>\n",
       "      <td>...</td>\n",
       "      <td>...</td>\n",
       "      <td>...</td>\n",
       "    </tr>\n",
       "    <tr>\n",
       "      <th>624</th>\n",
       "      <td>햇춤 신인춤판 종료 토 월 우진문화공간 전라북도 전주시 덕진구 전주천동로 blog...</td>\n",
       "      <td>[햇춤, 신인, 춤판, 종료, 토, 우진, 문화, 공간, 전라북도, 전주시, 덕진구...</td>\n",
       "      <td>0</td>\n",
       "      <td>4</td>\n",
       "    </tr>\n",
       "    <tr>\n",
       "      <th>627</th>\n",
       "      <td>월 일 개소한 독립예술영화 유통배급지원센터의 이름은 인디그라운드 인디웨이브 인디스...</td>\n",
       "      <td>[개, 소한, 독립, 예술, 영화, 유통, 배급, 센터, 이름, 라운드, 웨이브, ...</td>\n",
       "      <td>0</td>\n",
       "      <td>0</td>\n",
       "    </tr>\n",
       "    <tr>\n",
       "      <th>650</th>\n",
       "      <td>화되는 코로나에 우리들의 일상 곳곳이 바뀌고 있는 것이 실감 나는 요즘 변화 속에서...</td>\n",
       "      <td>[화, 코로나, 일상, 곳곳이, 바뀌다, 실감, 요즘, 변화, 속, 혼란, 않다, ...</td>\n",
       "      <td>0</td>\n",
       "      <td>2</td>\n",
       "    </tr>\n",
       "    <tr>\n",
       "      <th>687</th>\n",
       "      <td>옻칠미술관경남 통영시 용남면 용남해안로 동양의 나폴리 통영은 나전칠기의 고향이다 ...</td>\n",
       "      <td>[옻칠, 미술관, 경남, 통영시, 용남면, 용남, 해안로, 동양, 나폴리, 통영, ...</td>\n",
       "      <td>0</td>\n",
       "      <td>2</td>\n",
       "    </tr>\n",
       "    <tr>\n",
       "      <th>688</th>\n",
       "      <td>YES NEXT WAVE 부산신진예술페스티벌 부산신진예술페스티벌 야외공연 취소 알림...</td>\n",
       "      <td>[부산, 신진, 예술, 페스티벌, 부산, 신진, 예술, 페스티벌, 야외, 공연, 취...</td>\n",
       "      <td>0</td>\n",
       "      <td>3</td>\n",
       "    </tr>\n",
       "  </tbody>\n",
       "</table>\n",
       "<p>115 rows × 4 columns</p>\n",
       "</div>"
      ]
     },
     "execution_count": 21,
     "metadata": {},
     "output_type": "execute_result"
    }
   ],
   "execution_count": 21
  },
  {
   "metadata": {
    "ExecuteTime": {
     "end_time": "2024-08-07T06:38:09.256149Z",
     "start_time": "2024-08-07T06:38:09.027394Z"
    }
   },
   "cell_type": "code",
   "source": [
    "import pyLDAvis.gensim as gensimvis\n",
    "import pyLDAvis"
   ],
   "id": "85048c85dd91699b",
   "outputs": [],
   "execution_count": 22
  },
  {
   "metadata": {
    "ExecuteTime": {
     "end_time": "2024-08-07T06:38:12.305384Z",
     "start_time": "2024-08-07T06:38:09.877546Z"
    }
   },
   "cell_type": "code",
   "source": "prepared_data = gensimvis.prepare(ldamodel,corpus, dictionary)",
   "id": "334042206a9c4473",
   "outputs": [],
   "execution_count": 23
  },
  {
   "metadata": {
    "ExecuteTime": {
     "end_time": "2024-08-07T06:38:13.026366Z",
     "start_time": "2024-08-07T06:38:13.016004Z"
    }
   },
   "cell_type": "code",
   "source": "pyLDAvis.save_html(prepared_data, 'data/prepared_data.html')",
   "id": "83ce857475775143",
   "outputs": [],
   "execution_count": 24
  },
  {
   "metadata": {
    "ExecuteTime": {
     "end_time": "2024-08-07T06:38:14.406937Z",
     "start_time": "2024-08-07T06:38:14.399419Z"
    }
   },
   "cell_type": "code",
   "source": [
    "# LDA 모델에서 모든 토픽과 그 번호를 가져오기\n",
    "topics = ldamodel.show_topics(num_topics=-1, formatted=True)\n",
    "for topic_id, topic_desc in topics:\n",
    "    print(f\"Topic ID: {topic_id}, Description: {topic_desc}\")"
   ],
   "id": "1a1680c2ac183ad6",
   "outputs": [
    {
     "name": "stdout",
     "output_type": "stream",
     "text": [
      "Topic ID: 0, Description: 0.011*\"보다\" + 0.006*\"영화\" + 0.005*\"작품\" + 0.005*\"들다\" + 0.004*\"않다\" + 0.004*\"더\" + 0.004*\"수\" + 0.004*\"좋다\" + 0.004*\"영화제\" + 0.004*\"싶다\"\n",
      "Topic ID: 1, Description: 0.013*\"공연\" + 0.009*\"음악\" + 0.007*\"수\" + 0.007*\"분\" + 0.006*\"초\" + 0.005*\"음악회\" + 0.005*\"소리\" + 0.004*\"문화\" + 0.004*\"보다\" + 0.004*\"예술\"\n",
      "Topic ID: 2, Description: 0.010*\"수\" + 0.007*\"부천\" + 0.007*\"보다\" + 0.007*\"좋다\" + 0.006*\"미술\" + 0.006*\"작품\" + 0.005*\"곳\" + 0.004*\"옻칠\" + 0.004*\"않다\" + 0.004*\"노래\"\n",
      "Topic ID: 3, Description: 0.010*\"공연\" + 0.010*\"보다\" + 0.006*\"수\" + 0.005*\"가다\" + 0.005*\"예술\" + 0.005*\"문화\" + 0.004*\"좋다\" + 0.004*\"작품\" + 0.004*\"무대\" + 0.004*\"들다\"\n",
      "Topic ID: 4, Description: 0.008*\"공연\" + 0.006*\"작품\" + 0.005*\"보다\" + 0.005*\"풍경\" + 0.004*\"수\" + 0.004*\"문화\" + 0.004*\"무대\" + 0.004*\"석\" + 0.004*\"작가\" + 0.003*\"세종\"\n"
     ]
    }
   ],
   "execution_count": 25
  },
  {
   "metadata": {
    "ExecuteTime": {
     "end_time": "2024-08-07T06:45:02.684775Z",
     "start_time": "2024-08-07T06:45:02.670588Z"
    }
   },
   "cell_type": "code",
   "source": [
    "#LDAvis와 LDA 수동으로 토픽 매칭\n",
    "new_action_topic = []\n",
    "for i in tqdm(df_cluster0.action_cluster):\n",
    "    if i == 0:\n",
    "        n = 2\n",
    "    elif i == 1:\n",
    "        n = 4\n",
    "    elif i == 2:\n",
    "        n = 3\n",
    "    elif i == 3:\n",
    "        n = 1\n",
    "    else:\n",
    "        n=5\n",
    "    new_action_topic.append(n)"
   ],
   "id": "a16d5610b00e1e22",
   "outputs": [
    {
     "name": "stderr",
     "output_type": "stream",
     "text": [
      "100%|██████████| 115/115 [00:00<?, ?it/s]\n"
     ]
    }
   ],
   "execution_count": 26
  },
  {
   "metadata": {
    "ExecuteTime": {
     "end_time": "2024-08-07T06:45:35.653044Z",
     "start_time": "2024-08-07T06:45:35.648780Z"
    }
   },
   "cell_type": "code",
   "source": [
    "#기존 컬럼 재배치\n",
    "df_cluster0.action_cluster = new_action_topic"
   ],
   "id": "ca6f355304444b5f",
   "outputs": [],
   "execution_count": 27
  },
  {
   "metadata": {
    "ExecuteTime": {
     "end_time": "2024-08-07T06:45:45.044930Z",
     "start_time": "2024-08-07T06:45:45.029514Z"
    }
   },
   "cell_type": "code",
   "source": [
    "df_cluster0 = df_cluster0[['review', 'cluster', 'action_cluster']]\n",
    "\n",
    "df_cluster0.to_csv('data/Cluster0.csv',encoding='utf-8-sig')"
   ],
   "id": "67931865cb9f583b",
   "outputs": [],
   "execution_count": 29
  },
  {
   "metadata": {},
   "cell_type": "code",
   "outputs": [],
   "execution_count": null,
   "source": "",
   "id": "5b37b061a2daecaf"
  }
 ],
 "metadata": {
  "kernelspec": {
   "display_name": "Python 3",
   "language": "python",
   "name": "python3"
  },
  "language_info": {
   "codemirror_mode": {
    "name": "ipython",
    "version": 2
   },
   "file_extension": ".py",
   "mimetype": "text/x-python",
   "name": "python",
   "nbconvert_exporter": "python",
   "pygments_lexer": "ipython2",
   "version": "2.7.6"
  }
 },
 "nbformat": 4,
 "nbformat_minor": 5
}
