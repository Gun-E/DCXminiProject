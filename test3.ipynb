{
 "cells": [
  {
   "cell_type": "code",
   "id": "initial_id",
   "metadata": {
    "collapsed": true,
    "ExecuteTime": {
     "end_time": "2024-08-29T01:30:39.744504Z",
     "start_time": "2024-08-29T01:30:38.905501Z"
    }
   },
   "source": [
    "import pandas as pd\n",
    "\n",
    "# CSV 파일 불러오기\n",
    "df = pd.read_csv('형태소 분석.csv', encoding='utf-8-sig')\n",
    "df"
   ],
   "outputs": [
    {
     "data": {
      "text/plain": [
       "                                          Content_Clean  \\\n",
       "0     찾는 것이 중요합니다 주의 위 정보는 일반적인 건강 정보이며 개인의 건강 상태에 따...   \n",
       "1     되는 것이고 발렌타인때 초콜릿을 주는 이유도 성질 내지 말라고 주는 것이다 남녀 우...   \n",
       "2     다니는 것도 좋은 일이야 역시 우리나라가 정신과 인식이 안좋은거지 감기걸리면 병원가...   \n",
       "3     나아가기 위해 여러가지 활동을 시도해 볼 수 있는데요 이러한 아주 작은 활동들은 긍...   \n",
       "4     안 하면 우울하다고 누워있다가 하루 망치기 십상이었습니다 제 개인적인 우울의 이유와...   \n",
       "...                                                 ...   \n",
       "1314                             새로운 분위기를 조성하는게 좋을거 같아요   \n",
       "1315               청소할때 부분 부분 청소하는 것은 티가 안나서 큰 효과가 없습니다   \n",
       "1316         가구배치의 변화를 주면서 쌓여있던 먼지도 청소하고 새로운 분위기도 느껴보세요   \n",
       "1317                                           울면을 먹습니다   \n",
       "1318                       그래도 약을 먹고 지속적으로 치료하는게 도움이 되죠   \n",
       "\n",
       "                                              tokenized  \\\n",
       "0     [('찾는', 'Verb'), ('것', 'Noun'), ('이', 'Josa'),...   \n",
       "1     [('되는', 'Verb'), ('것', 'Noun'), ('이고', 'Josa')...   \n",
       "2     [('다니는', 'Verb'), ('것', 'Noun'), ('도', 'Josa')...   \n",
       "3     [('나아가기', 'Verb'), ('위해', 'Noun'), ('여러가지', 'N...   \n",
       "4     [('안', 'Noun'), ('하면', 'Verb'), ('우울하다고', 'Adj...   \n",
       "...                                                 ...   \n",
       "1314  [('새로운', 'Adjective'), ('분위기', 'Noun'), ('를', ...   \n",
       "1315  [('청소', 'Noun'), ('할', 'Verb'), ('때', 'Noun'),...   \n",
       "1316  [('가구', 'Noun'), ('배치', 'Noun'), ('의', 'Josa')...   \n",
       "1317  [('울면', 'Noun'), ('을', 'Josa'), ('먹습니다', 'Verb')]   \n",
       "1318  [('그래도', 'Adverb'), ('약', 'Noun'), ('을', 'Josa...   \n",
       "\n",
       "                                                  nouns  \\\n",
       "0     ['주의', '정보', '일반', '건강', '정보', '개인', '건강', '상태...   \n",
       "1     ['발렌타인', '초콜릿', '이유', '성질', '내지', '남녀', '기분', ...   \n",
       "2     ['일이', '역시', '우리나라', '정신과', '인식', '거지', '감기', ...   \n",
       "3     ['위해', '여러가지', '활동', '시도', '아주', '활동', '긍정', '...   \n",
       "4     ['하루', '십상', '개인', '우울', '이유', '대처', '방안', '생활...   \n",
       "...                                                 ...   \n",
       "1314                                      ['분위기', '조성']   \n",
       "1315               ['청소', '부분', '부분', '청소', '안나', '효과']   \n",
       "1316              ['가구', '배치', '변화', '먼지', '청소', '분위기']   \n",
       "1317                                             ['울면']   \n",
       "1318                                 ['지속', '치료', '도움']   \n",
       "\n",
       "                                             adjectives  \\\n",
       "0     ['중요합니다', '다를', '있습니다', '궁금한', '있다면', '불안한', '...   \n",
       "1                           ['우울할', '안좋을', '좋은', '풍부한']   \n",
       "2                                         ['좋은', '안좋은']   \n",
       "3     ['있는데요', '이러한', '작은', '있습니다', '우울할', '좋은', '있는...   \n",
       "4          ['우울하다고', '싫고', '편하니', '우울해져요', '아니면', '싫은']   \n",
       "...                                                 ...   \n",
       "1314                              ['새로운', '좋을거', '같아요']   \n",
       "1315                                           ['없습니다']   \n",
       "1316                                            ['새로운']   \n",
       "1317                                                 []   \n",
       "1318                                                 []   \n",
       "\n",
       "                                                  verbs  \n",
       "0                                  ['찾는', '따라', '달래주는']  \n",
       "1                       ['되는', '주는', '주는', '먹으면', '하면']  \n",
       "2     ['다니는', '걸리면', '가서', '받고', '나아지고', '나면', '가서',...  \n",
       "3          ['나아가기', '나아가는데', '하면', '해보려', '합니다', '시켜줄']  \n",
       "4     ['하면', '누워있다가', '망치기', '이었습니다', '지켜야', '적고', '...  \n",
       "...                                                 ...  \n",
       "1314                                            ['하는게']  \n",
       "1315                                             ['하는']  \n",
       "1316                       ['주면서', '쌓여있던', '느껴', '보세요']  \n",
       "1317                                           ['먹습니다']  \n",
       "1318                                ['먹고', '하는게', '되죠']  \n",
       "\n",
       "[1319 rows x 5 columns]"
      ],
      "text/html": [
       "<div>\n",
       "<style scoped>\n",
       "    .dataframe tbody tr th:only-of-type {\n",
       "        vertical-align: middle;\n",
       "    }\n",
       "\n",
       "    .dataframe tbody tr th {\n",
       "        vertical-align: top;\n",
       "    }\n",
       "\n",
       "    .dataframe thead th {\n",
       "        text-align: right;\n",
       "    }\n",
       "</style>\n",
       "<table border=\"1\" class=\"dataframe\">\n",
       "  <thead>\n",
       "    <tr style=\"text-align: right;\">\n",
       "      <th></th>\n",
       "      <th>Content_Clean</th>\n",
       "      <th>tokenized</th>\n",
       "      <th>nouns</th>\n",
       "      <th>adjectives</th>\n",
       "      <th>verbs</th>\n",
       "    </tr>\n",
       "  </thead>\n",
       "  <tbody>\n",
       "    <tr>\n",
       "      <th>0</th>\n",
       "      <td>찾는 것이 중요합니다 주의 위 정보는 일반적인 건강 정보이며 개인의 건강 상태에 따...</td>\n",
       "      <td>[('찾는', 'Verb'), ('것', 'Noun'), ('이', 'Josa'),...</td>\n",
       "      <td>['주의', '정보', '일반', '건강', '정보', '개인', '건강', '상태...</td>\n",
       "      <td>['중요합니다', '다를', '있습니다', '궁금한', '있다면', '불안한', '...</td>\n",
       "      <td>['찾는', '따라', '달래주는']</td>\n",
       "    </tr>\n",
       "    <tr>\n",
       "      <th>1</th>\n",
       "      <td>되는 것이고 발렌타인때 초콜릿을 주는 이유도 성질 내지 말라고 주는 것이다 남녀 우...</td>\n",
       "      <td>[('되는', 'Verb'), ('것', 'Noun'), ('이고', 'Josa')...</td>\n",
       "      <td>['발렌타인', '초콜릿', '이유', '성질', '내지', '남녀', '기분', ...</td>\n",
       "      <td>['우울할', '안좋을', '좋은', '풍부한']</td>\n",
       "      <td>['되는', '주는', '주는', '먹으면', '하면']</td>\n",
       "    </tr>\n",
       "    <tr>\n",
       "      <th>2</th>\n",
       "      <td>다니는 것도 좋은 일이야 역시 우리나라가 정신과 인식이 안좋은거지 감기걸리면 병원가...</td>\n",
       "      <td>[('다니는', 'Verb'), ('것', 'Noun'), ('도', 'Josa')...</td>\n",
       "      <td>['일이', '역시', '우리나라', '정신과', '인식', '거지', '감기', ...</td>\n",
       "      <td>['좋은', '안좋은']</td>\n",
       "      <td>['다니는', '걸리면', '가서', '받고', '나아지고', '나면', '가서',...</td>\n",
       "    </tr>\n",
       "    <tr>\n",
       "      <th>3</th>\n",
       "      <td>나아가기 위해 여러가지 활동을 시도해 볼 수 있는데요 이러한 아주 작은 활동들은 긍...</td>\n",
       "      <td>[('나아가기', 'Verb'), ('위해', 'Noun'), ('여러가지', 'N...</td>\n",
       "      <td>['위해', '여러가지', '활동', '시도', '아주', '활동', '긍정', '...</td>\n",
       "      <td>['있는데요', '이러한', '작은', '있습니다', '우울할', '좋은', '있는...</td>\n",
       "      <td>['나아가기', '나아가는데', '하면', '해보려', '합니다', '시켜줄']</td>\n",
       "    </tr>\n",
       "    <tr>\n",
       "      <th>4</th>\n",
       "      <td>안 하면 우울하다고 누워있다가 하루 망치기 십상이었습니다 제 개인적인 우울의 이유와...</td>\n",
       "      <td>[('안', 'Noun'), ('하면', 'Verb'), ('우울하다고', 'Adj...</td>\n",
       "      <td>['하루', '십상', '개인', '우울', '이유', '대처', '방안', '생활...</td>\n",
       "      <td>['우울하다고', '싫고', '편하니', '우울해져요', '아니면', '싫은']</td>\n",
       "      <td>['하면', '누워있다가', '망치기', '이었습니다', '지켜야', '적고', '...</td>\n",
       "    </tr>\n",
       "    <tr>\n",
       "      <th>...</th>\n",
       "      <td>...</td>\n",
       "      <td>...</td>\n",
       "      <td>...</td>\n",
       "      <td>...</td>\n",
       "      <td>...</td>\n",
       "    </tr>\n",
       "    <tr>\n",
       "      <th>1314</th>\n",
       "      <td>새로운 분위기를 조성하는게 좋을거 같아요</td>\n",
       "      <td>[('새로운', 'Adjective'), ('분위기', 'Noun'), ('를', ...</td>\n",
       "      <td>['분위기', '조성']</td>\n",
       "      <td>['새로운', '좋을거', '같아요']</td>\n",
       "      <td>['하는게']</td>\n",
       "    </tr>\n",
       "    <tr>\n",
       "      <th>1315</th>\n",
       "      <td>청소할때 부분 부분 청소하는 것은 티가 안나서 큰 효과가 없습니다</td>\n",
       "      <td>[('청소', 'Noun'), ('할', 'Verb'), ('때', 'Noun'),...</td>\n",
       "      <td>['청소', '부분', '부분', '청소', '안나', '효과']</td>\n",
       "      <td>['없습니다']</td>\n",
       "      <td>['하는']</td>\n",
       "    </tr>\n",
       "    <tr>\n",
       "      <th>1316</th>\n",
       "      <td>가구배치의 변화를 주면서 쌓여있던 먼지도 청소하고 새로운 분위기도 느껴보세요</td>\n",
       "      <td>[('가구', 'Noun'), ('배치', 'Noun'), ('의', 'Josa')...</td>\n",
       "      <td>['가구', '배치', '변화', '먼지', '청소', '분위기']</td>\n",
       "      <td>['새로운']</td>\n",
       "      <td>['주면서', '쌓여있던', '느껴', '보세요']</td>\n",
       "    </tr>\n",
       "    <tr>\n",
       "      <th>1317</th>\n",
       "      <td>울면을 먹습니다</td>\n",
       "      <td>[('울면', 'Noun'), ('을', 'Josa'), ('먹습니다', 'Verb')]</td>\n",
       "      <td>['울면']</td>\n",
       "      <td>[]</td>\n",
       "      <td>['먹습니다']</td>\n",
       "    </tr>\n",
       "    <tr>\n",
       "      <th>1318</th>\n",
       "      <td>그래도 약을 먹고 지속적으로 치료하는게 도움이 되죠</td>\n",
       "      <td>[('그래도', 'Adverb'), ('약', 'Noun'), ('을', 'Josa...</td>\n",
       "      <td>['지속', '치료', '도움']</td>\n",
       "      <td>[]</td>\n",
       "      <td>['먹고', '하는게', '되죠']</td>\n",
       "    </tr>\n",
       "  </tbody>\n",
       "</table>\n",
       "<p>1319 rows × 5 columns</p>\n",
       "</div>"
      ]
     },
     "execution_count": 1,
     "metadata": {},
     "output_type": "execute_result"
    }
   ],
   "execution_count": 1
  },
  {
   "metadata": {
    "ExecuteTime": {
     "end_time": "2024-08-29T01:59:42.831799Z",
     "start_time": "2024-08-29T01:59:42.817305Z"
    }
   },
   "cell_type": "code",
   "source": [
    "df = df.dropna(subset=['Content_Clean'])\n",
    "df['Content_Clean'].isna().sum()"
   ],
   "id": "4ff5ef038f71df27",
   "outputs": [
    {
     "data": {
      "text/plain": [
       "0"
      ]
     },
     "execution_count": 37,
     "metadata": {},
     "output_type": "execute_result"
    }
   ],
   "execution_count": 37
  },
  {
   "metadata": {
    "ExecuteTime": {
     "end_time": "2024-08-29T01:59:44.259749Z",
     "start_time": "2024-08-29T01:59:44.251791Z"
    }
   },
   "cell_type": "code",
   "source": [
    "from konlpy.tag import Okt\n",
    "okt=Okt()"
   ],
   "id": "daa67f6281e15485",
   "outputs": [],
   "execution_count": 38
  },
  {
   "metadata": {
    "ExecuteTime": {
     "end_time": "2024-08-29T01:59:45.292167Z",
     "start_time": "2024-08-29T01:59:45.280337Z"
    }
   },
   "cell_type": "code",
   "source": [
    "stopwords_df = pd.read_csv('ko-stopwords.csv')\n",
    "stopwords = list(stopwords_df['stopwords'])\n",
    "def okt_pos_tagging(string): # 사용자 정의 함수, 매개변수 = String\n",
    "    pos_words = okt.pos(string, stem=True, norm=True) # pos 함수 : 형태소를 쪼개면서 동시에 품사를 알려준다.\n",
    "\n",
    "    tagged_list=[]\n",
    "    for word, tag in pos_words:\n",
    "        if tag in ['Noun', 'Adjective', 'Verb']:\n",
    "            if word not in stopwords: # 불용어 목록에 들어있지 않으면\n",
    "                tagged_list.append(word) # 리스트 목록에 추가해라\n",
    "    if len(tagged_list) == 0 :\n",
    "      tagged_list.append(\"None\")\n",
    "    return tagged_list"
   ],
   "id": "5ae7f0e60252e39f",
   "outputs": [],
   "execution_count": 39
  },
  {
   "metadata": {
    "ExecuteTime": {
     "end_time": "2024-08-29T02:00:29.404261Z",
     "start_time": "2024-08-29T01:59:47.068509Z"
    }
   },
   "cell_type": "code",
   "source": [
    "from tqdm import tqdm\n",
    "tagged_review = []\n",
    "for review in tqdm(df.Content_Clean):\n",
    "    tagged = okt_pos_tagging(review)\n",
    "    tagged_review.append(tagged)"
   ],
   "id": "fc38cdf4c1713f2",
   "outputs": [
    {
     "name": "stderr",
     "output_type": "stream",
     "text": [
      "100%|██████████| 1318/1318 [00:42<00:00, 31.14it/s] \n"
     ]
    }
   ],
   "execution_count": 40
  },
  {
   "metadata": {
    "ExecuteTime": {
     "end_time": "2024-08-29T02:02:57.344253Z",
     "start_time": "2024-08-29T02:02:57.337860Z"
    }
   },
   "cell_type": "code",
   "source": "df['tagged_review'] = tagged_review",
   "id": "38a001604226e5c9",
   "outputs": [
    {
     "name": "stderr",
     "output_type": "stream",
     "text": [
      "C:\\Users\\dxschool\\AppData\\Local\\Temp\\ipykernel_10856\\223054201.py:1: SettingWithCopyWarning: \n",
      "A value is trying to be set on a copy of a slice from a DataFrame.\n",
      "Try using .loc[row_indexer,col_indexer] = value instead\n",
      "\n",
      "See the caveats in the documentation: https://pandas.pydata.org/pandas-docs/stable/user_guide/indexing.html#returning-a-view-versus-a-copy\n",
      "  df['tagged_review'] = tagged_review\n"
     ]
    }
   ],
   "execution_count": 43
  },
  {
   "metadata": {},
   "cell_type": "code",
   "outputs": [],
   "execution_count": null,
   "source": "",
   "id": "849ec4dd93a7bc4b"
  }
 ],
 "metadata": {
  "kernelspec": {
   "display_name": "Python 3",
   "language": "python",
   "name": "python3"
  },
  "language_info": {
   "codemirror_mode": {
    "name": "ipython",
    "version": 2
   },
   "file_extension": ".py",
   "mimetype": "text/x-python",
   "name": "python",
   "nbconvert_exporter": "python",
   "pygments_lexer": "ipython2",
   "version": "2.7.6"
  }
 },
 "nbformat": 4,
 "nbformat_minor": 5
}
